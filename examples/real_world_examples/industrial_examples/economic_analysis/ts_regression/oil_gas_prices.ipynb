{
 "cells": [
  {
   "cell_type": "markdown",
   "source": [
    "## Predict historical prices of Brent Oil, Crude Oil WTI, Natural Gas, Heating Oil from 2000-2022 with Fedot.Industrial"
   ],
   "metadata": {
    "collapsed": false,
    "pycharm": {
     "name": "#%% md\n"
    }
   }
  },
  {
   "cell_type": "markdown",
   "source": [
    "Dataset published on Kaggle3 consists of historical prices of Brent Oil, CrudeOil WTI, Natural Gas, and Heating Oil from 2000 to 2022. This sample of DailyOilGasPrices was created by using 30 consecutive business days of **Crude Oil WTI close prices** and **traded volumes** as **predictors** and the **average natural gas close** price during each 30-day time frame as the **target** variable. The final dataset has 191 2-dimensional time series of length 30, of which 70% were randomly sampled as training data and the remaining 30% as testing data. This type of model could help companies and governments to better analyse and predict economic situations and correlations regarding oil and natural gas.\n",
    "Link to the dataset - https://www.kaggl.com/datasets/prasertk/historical-daily-oil-and-natural-gas-prices"
   ],
   "metadata": {
    "collapsed": false,
    "pycharm": {
     "name": "#%% md\n"
    }
   }
  },
  {
   "cell_type": "code",
   "execution_count": 1,
   "metadata": {
    "ExecuteTime": {
     "end_time": "2023-08-28T10:34:48.354623Z",
     "start_time": "2023-08-28T10:34:39.594404Z"
    },
    "pycharm": {
     "name": "#%%\n"
    }
   },
   "outputs": [],
   "source": [
    "import pandas as pd\n",
    "from fedot_ind.api.utils.path_lib import PROJECT_PATH\n",
    "from fedot.core.pipelines.pipeline_builder import PipelineBuilder\n",
    "from fedot_ind.tools.loader import DataLoader\n",
    "from fedot_ind.api.main import Framework"
   ]
  },
  {
   "cell_type": "code",
   "execution_count": 2,
   "outputs": [],
   "source": [
    "def evaluate_loop(api_params, finetune: bool = False):\n",
    "    industrial = Framework(**api_params)\n",
    "    if finetune:\n",
    "        industrial.finetune(train_data)\n",
    "    else:\n",
    "        industrial.fit(train_data)\n",
    "    return industrial"
   ],
   "metadata": {
    "collapsed": false,
    "pycharm": {
     "name": "#%%\n"
    }
   }
  },
  {
   "cell_type": "markdown",
   "metadata": {
    "pycharm": {
     "name": "#%% md\n"
    }
   },
   "source": [
    "The list of basic fedot industrial models for experiment are shown below. We using simple linear machine learning pipelines with 3 different feature generators: Statistical, Reccurence, Topological. And for each of them we add PCA transformation with 90 % of explained dispersion."
   ]
  },
  {
   "cell_type": "code",
   "execution_count": 3,
   "outputs": [],
   "source": [
    "initial_assumption = PipelineBuilder().add_node('quantile_extractor').add_node('treg')\n",
    "params = dict(problem='regression',\n",
    "                             metric='rmse',\n",
    "                             timeout=15,\n",
    "                             initial_assumption=initial_assumption,\n",
    "                             n_jobs=2,\n",
    "                             logging_level=20)\n",
    "dataset_name = 'DailyOilGasPrices'\n",
    "data_path = PROJECT_PATH + '/examples/data'"
   ],
   "metadata": {
    "collapsed": false,
    "pycharm": {
     "name": "#%%\n"
    }
   }
  },
  {
   "cell_type": "markdown",
   "metadata": {
    "pycharm": {
     "name": "#%% md\n"
    }
   },
   "source": [
    "Now we must download the dataset. It could be done by using `DataReader` class that implemented as attribute of `Framework` class. This class firstly tries to read the data from local project folder `data_path` and then if it is not possible, it downloads the data from the UCR/UEA archive. The data will be saved in the `data` folder."
   ]
  },
  {
   "cell_type": "code",
   "execution_count": 4,
   "metadata": {
    "ExecuteTime": {
     "end_time": "2023-08-28T10:35:13.321212Z",
     "start_time": "2023-08-28T10:35:12.913025Z"
    },
    "pycharm": {
     "name": "#%%\n"
    }
   },
   "outputs": [
    {
     "name": "stdout",
     "output_type": "stream",
     "text": [
      "2024-04-03 16:08:27,693 - Reading data from D:\\WORK\\Repo\\Industiral\\IndustrialTS/examples/data/DailyOilGasPrices\n"
     ]
    }
   ],
   "source": [
    "_, train_data, test_data = DataLoader(dataset_name=dataset_name).read_train_test_files(\n",
    "            dataset_name=dataset_name,\n",
    "            data_path=data_path)"
   ]
  },
  {
   "cell_type": "code",
   "execution_count": 5,
   "outputs": [],
   "source": [
    "import numpy as np\n",
    "features = np.array(train_data[0].values.tolist()).astype(float)"
   ],
   "metadata": {
    "collapsed": false,
    "pycharm": {
     "name": "#%%\n"
    }
   }
  },
  {
   "cell_type": "markdown",
   "source": [
    "Lets check our data."
   ],
   "metadata": {
    "collapsed": false,
    "pycharm": {
     "name": "#%% md\n"
    }
   }
  },
  {
   "cell_type": "code",
   "execution_count": 6,
   "outputs": [
    {
     "data": {
      "text/plain": "(133, 2, 30)"
     },
     "execution_count": 6,
     "metadata": {},
     "output_type": "execute_result"
    }
   ],
   "source": [
    "features.shape"
   ],
   "metadata": {
    "collapsed": false,
    "pycharm": {
     "name": "#%%\n"
    }
   }
  },
  {
   "cell_type": "markdown",
   "source": [
    "Lets visualise our predictors."
   ],
   "metadata": {
    "collapsed": false,
    "pycharm": {
     "name": "#%% md\n"
    }
   }
  },
  {
   "cell_type": "code",
   "execution_count": 30,
   "outputs": [],
   "source": [
    "from matplotlib import pyplot as plt\n",
    "pd.DataFrame(features[1, 0, :]).plot(title='Crude Oil WTI close prices')\n",
    "pd.DataFrame(features[1, 1, :]).plot(title='Crude Oil WTI traded volumes')\n",
    "plt.show()"
   ],
   "metadata": {
    "collapsed": false,
    "pycharm": {
     "name": "#%%\n"
    }
   }
  },
  {
   "cell_type": "markdown",
   "source": [
    "Next steps are quite straightforward. We need to fit the model and then predict the values for the test data just like for any other model in sklearn.\n",
    "\n",
    "At the `fit` stage Framework will transform initial time series data into features dataframe and will train regression model."
   ],
   "metadata": {
    "collapsed": false,
    "pycharm": {
     "name": "#%% md\n"
    }
   }
  },
  {
   "cell_type": "code",
   "execution_count": 8,
   "metadata": {
    "ExecuteTime": {
     "start_time": "2023-08-28T10:35:27.965798Z"
    },
    "pycharm": {
     "name": "#%%\n"
    }
   },
   "outputs": [
    {
     "name": "stdout",
     "output_type": "stream",
     "text": [
      "2024-04-03 16:10:18,852 - Initialising experiment setup\n",
      "2024-04-03 16:10:18,855 - Initialising Industrial Repository\n",
      "2024-04-03 16:10:18,971 - Initialising Dask Server\n",
      "Creating Dask Server\n",
      "2024-04-03 16:10:19,445 - To route to workers diagnostics web server please install jupyter-server-proxy: python -m pip install jupyter-server-proxy\n",
      "2024-04-03 16:10:19,478 - State start\n",
      "2024-04-03 16:10:19,480 - Found stale lock file and directory 'C:\\\\Users\\\\user\\\\AppData\\\\Local\\\\Temp\\\\dask-scratch-space\\\\scheduler-dz5roxue', purging\n",
      "2024-04-03 16:10:19,482 - Found stale lock file and directory 'C:\\\\Users\\\\user\\\\AppData\\\\Local\\\\Temp\\\\dask-scratch-space\\\\worker-er2nmzvc', purging\n",
      "2024-04-03 16:10:19,490 -   Scheduler at: inproc://10.64.4.217/22788/1\n",
      "2024-04-03 16:10:19,491 -   dashboard at:  http://10.64.4.217:8787/status\n",
      "2024-04-03 16:10:19,492 - Registering Worker plugin shuffle\n",
      "2024-04-03 16:10:19,505 -       Start worker at: inproc://10.64.4.217/22788/4\n",
      "2024-04-03 16:10:19,506 -          Listening to:          inproc10.64.4.217\n",
      "2024-04-03 16:10:19,506 -           Worker name:                          0\n",
      "2024-04-03 16:10:19,507 -          dashboard at:          10.64.4.217:55039\n",
      "2024-04-03 16:10:19,507 - Waiting to connect to: inproc://10.64.4.217/22788/1\n",
      "2024-04-03 16:10:19,508 - -------------------------------------------------\n",
      "2024-04-03 16:10:19,508 -               Threads:                          8\n",
      "2024-04-03 16:10:19,509 -                Memory:                  31.95 GiB\n",
      "2024-04-03 16:10:19,509 -       Local Directory: C:\\Users\\user\\AppData\\Local\\Temp\\dask-scratch-space\\worker-y1km3sqr\n",
      "2024-04-03 16:10:19,509 - -------------------------------------------------\n",
      "2024-04-03 16:10:19,514 - Register worker <WorkerState 'inproc://10.64.4.217/22788/4', name: 0, status: init, memory: 0, processing: 0>\n",
      "2024-04-03 16:10:19,516 - Starting worker compute stream, inproc://10.64.4.217/22788/4\n",
      "2024-04-03 16:10:19,517 - Starting established connection to inproc://10.64.4.217/22788/5\n",
      "2024-04-03 16:10:19,518 - Starting Worker plugin shuffle\n",
      "2024-04-03 16:10:19,519 -         Registered to: inproc://10.64.4.217/22788/1\n",
      "2024-04-03 16:10:19,520 - -------------------------------------------------\n",
      "2024-04-03 16:10:19,521 - Starting established connection to inproc://10.64.4.217/22788/1\n",
      "2024-04-03 16:10:19,524 - Receive client connection: Client-85742180-f1bb-11ee-9904-b42e99a00ea1\n",
      "2024-04-03 16:10:19,526 - Starting established connection to inproc://10.64.4.217/22788/6\n",
      "2024-04-03 16:10:19,527 - LinK Dask Server - http://10.64.4.217:8787/status\n",
      "2024-04-03 16:10:19,528 - Initialising solver\n",
      "2024-04-03 16:10:19,608 - DataSourceSplitter - Stratificated splitting of data is disabled.\n",
      "2024-04-03 16:10:19,608 - DataSourceSplitter - Hold out validation is applied.\n",
      "2024-04-03 16:10:19,611 - SequentialTuner - Hyperparameters optimization start: estimation of metric for initial graph\n",
      "2024-04-03 16:10:25,976 - SequentialTuner - Initial graph: {'depth': 2, 'length': 2, 'nodes': [treg, quantile_extractor]}\n",
      "treg - {}\n",
      "quantile_extractor - {} \n",
      "Initial metric: [2.475]\n",
      "  0%|          | 0/100 [00:00<?, ?trial/s, best loss=?]2024-04-03 16:10:25,982 - build_posterior_wrapper took 0.001995 seconds\n",
      "2024-04-03 16:10:25,982 - TPE using 0 trials\n",
      "  1%|          | 1/100 [00:00<00:39,  2.51trial/s, best loss: 2.636759100819645]2024-04-03 16:10:26,381 - build_posterior_wrapper took 0.000998 seconds\n",
      "2024-04-03 16:10:26,382 - TPE using 1/1 trials with best loss 2.636759\n",
      "  2%|▏         | 2/100 [00:00<00:38,  2.53trial/s, best loss: 2.636759100819645]2024-04-03 16:10:26,772 - build_posterior_wrapper took 0.000998 seconds\n",
      "2024-04-03 16:10:26,773 - TPE using 2/2 trials with best loss 2.636759\n",
      "  3%|▎         | 3/100 [00:01<00:49,  1.97trial/s, best loss: 2.636759100819645]2024-04-03 16:10:27,414 - build_posterior_wrapper took 0.000998 seconds\n",
      "2024-04-03 16:10:27,416 - TPE using 3/3 trials with best loss 2.636759\n",
      "  4%|▍         | 4/100 [00:01<00:49,  1.94trial/s, best loss: 2.636759100819645]2024-04-03 16:10:27,942 - build_posterior_wrapper took 0.000997 seconds\n",
      "2024-04-03 16:10:27,943 - TPE using 4/4 trials with best loss 2.636759\n",
      "  5%|▌         | 5/100 [00:02<01:01,  1.54trial/s, best loss: 2.636759100819645]2024-04-03 16:10:28,834 - build_posterior_wrapper took 0.000998 seconds\n",
      "2024-04-03 16:10:28,835 - TPE using 5/5 trials with best loss 2.636759\n",
      "  6%|▌         | 6/100 [00:03<00:56,  1.66trial/s, best loss: 2.636759100819645]2024-04-03 16:10:29,344 - build_posterior_wrapper took 0.000998 seconds\n",
      "2024-04-03 16:10:29,345 - TPE using 6/6 trials with best loss 2.636759\n",
      "  7%|▋         | 7/100 [00:03<00:50,  1.83trial/s, best loss: 2.636759100819645]2024-04-03 16:10:29,776 - build_posterior_wrapper took 0.000998 seconds\n",
      "2024-04-03 16:10:29,777 - TPE using 7/7 trials with best loss 2.636759\n",
      "  8%|▊         | 8/100 [00:04<00:50,  1.81trial/s, best loss: 2.636759100819645]2024-04-03 16:10:30,340 - build_posterior_wrapper took 0.000997 seconds\n",
      "2024-04-03 16:10:30,341 - TPE using 8/8 trials with best loss 2.636759\n",
      "  9%|▉         | 9/100 [00:04<00:45,  1.99trial/s, best loss: 2.6144337305471783]2024-04-03 16:10:30,730 - build_posterior_wrapper took 0.000998 seconds\n",
      "2024-04-03 16:10:30,731 - TPE using 9/9 trials with best loss 2.614434\n",
      " 10%|█         | 10/100 [00:05<00:50,  1.79trial/s, best loss: 2.6144337305471783]2024-04-03 16:10:31,419 - build_posterior_wrapper took 0.000998 seconds\n",
      "2024-04-03 16:10:31,420 - TPE using 10/10 trials with best loss 2.614434\n",
      " 11%|█         | 11/100 [00:05<00:44,  1.99trial/s, best loss: 2.4760708629205688]2024-04-03 16:10:31,791 - build_posterior_wrapper took 0.000997 seconds\n",
      "2024-04-03 16:10:31,792 - TPE using 11/11 trials with best loss 2.476071\n",
      " 12%|█▏        | 12/100 [00:06<00:43,  2.04trial/s, best loss: 2.4760708629205688]2024-04-03 16:10:32,257 - build_posterior_wrapper took 0.000997 seconds\n",
      "2024-04-03 16:10:32,258 - TPE using 12/12 trials with best loss 2.476071\n",
      " 13%|█▎        | 13/100 [00:06<00:41,  2.11trial/s, best loss: 2.4760708629205688]2024-04-03 16:10:32,692 - build_posterior_wrapper took 0.000998 seconds\n",
      "2024-04-03 16:10:32,693 - TPE using 13/13 trials with best loss 2.476071\n",
      " 14%|█▍        | 14/100 [00:07<00:39,  2.16trial/s, best loss: 2.4760708629205688]2024-04-03 16:10:33,129 - build_posterior_wrapper took 0.000997 seconds\n",
      "2024-04-03 16:10:33,130 - TPE using 14/14 trials with best loss 2.476071\n",
      " 15%|█▌        | 15/100 [00:07<00:37,  2.24trial/s, best loss: 2.4760708629205688]2024-04-03 16:10:33,538 - build_posterior_wrapper took 0.000998 seconds\n",
      "2024-04-03 16:10:33,538 - TPE using 15/15 trials with best loss 2.476071\n",
      " 16%|█▌        | 16/100 [00:08<00:38,  2.21trial/s, best loss: 2.4760708629205688]2024-04-03 16:10:34,007 - build_posterior_wrapper took 0.000998 seconds\n",
      "2024-04-03 16:10:34,007 - TPE using 16/16 trials with best loss 2.476071\n",
      " 17%|█▋        | 17/100 [00:08<00:41,  1.98trial/s, best loss: 2.4760708629205688]2024-04-03 16:10:34,629 - build_posterior_wrapper took 0.000998 seconds\n",
      "2024-04-03 16:10:34,630 - TPE using 17/17 trials with best loss 2.476071\n",
      " 18%|█▊        | 18/100 [00:09<00:42,  1.94trial/s, best loss: 2.4760708629205688]2024-04-03 16:10:35,169 - build_posterior_wrapper took 0.000998 seconds\n",
      "2024-04-03 16:10:35,170 - TPE using 18/18 trials with best loss 2.476071\n",
      " 19%|█▉        | 19/100 [00:09<00:42,  1.93trial/s, best loss: 2.4760708629205688]2024-04-03 16:10:35,700 - build_posterior_wrapper took 0.000998 seconds\n",
      "2024-04-03 16:10:35,700 - TPE using 19/19 trials with best loss 2.476071\n",
      " 20%|██        | 20/100 [00:10<00:39,  2.00trial/s, best loss: 2.4760708629205688]2024-04-03 16:10:36,152 - build_posterior_wrapper took 0.000998 seconds\n",
      "2024-04-03 16:10:36,153 - TPE using 20/20 trials with best loss 2.476071\n",
      " 21%|██        | 21/100 [00:10<00:37,  2.11trial/s, best loss: 2.4760708629205688]2024-04-03 16:10:36,569 - build_posterior_wrapper took 0.001994 seconds\n",
      "2024-04-03 16:10:36,569 - TPE using 21/21 trials with best loss 2.476071\n",
      " 22%|██▏       | 22/100 [00:10<00:35,  2.20trial/s, best loss: 2.4760708629205688]2024-04-03 16:10:36,977 - build_posterior_wrapper took 0.001995 seconds\n",
      "2024-04-03 16:10:36,978 - TPE using 22/22 trials with best loss 2.476071\n",
      " 23%|██▎       | 23/100 [00:11<00:32,  2.35trial/s, best loss: 2.4616539664508217]2024-04-03 16:10:37,338 - build_posterior_wrapper took 0.001995 seconds\n",
      "2024-04-03 16:10:37,339 - TPE using 23/23 trials with best loss 2.461654\n",
      " 24%|██▍       | 24/100 [00:11<00:30,  2.46trial/s, best loss: 2.4616539664508217]2024-04-03 16:10:37,700 - build_posterior_wrapper took 0.001996 seconds\n",
      "2024-04-03 16:10:37,701 - TPE using 24/24 trials with best loss 2.461654\n",
      " 25%|██▌       | 25/100 [00:12<00:30,  2.46trial/s, best loss: 2.4616539664508217]2024-04-03 16:10:38,103 - build_posterior_wrapper took 0.000998 seconds\n",
      "2024-04-03 16:10:38,103 - TPE using 25/25 trials with best loss 2.461654\n",
      " 26%|██▌       | 26/100 [00:12<00:29,  2.49trial/s, best loss: 2.4616539664508217]2024-04-03 16:10:38,492 - build_posterior_wrapper took 0.000998 seconds\n",
      "2024-04-03 16:10:38,493 - TPE using 26/26 trials with best loss 2.461654\n",
      " 27%|██▋       | 27/100 [00:12<00:27,  2.67trial/s, best loss: 2.4616539664508217]2024-04-03 16:10:38,805 - build_posterior_wrapper took 0.000997 seconds\n",
      "2024-04-03 16:10:38,806 - TPE using 27/27 trials with best loss 2.461654\n",
      " 28%|██▊       | 28/100 [00:13<00:27,  2.67trial/s, best loss: 2.4616539664508217]2024-04-03 16:10:39,181 - build_posterior_wrapper took 0.000997 seconds\n",
      "2024-04-03 16:10:39,182 - TPE using 28/28 trials with best loss 2.461654\n",
      " 29%|██▉       | 29/100 [00:13<00:27,  2.63trial/s, best loss: 2.4616539664508217]2024-04-03 16:10:39,573 - build_posterior_wrapper took 0.000998 seconds\n",
      "2024-04-03 16:10:39,574 - TPE using 29/29 trials with best loss 2.461654\n",
      " 30%|███       | 30/100 [00:13<00:25,  2.70trial/s, best loss: 2.4616539664508217]2024-04-03 16:10:39,918 - build_posterior_wrapper took 0.001234 seconds\n",
      "2024-04-03 16:10:39,919 - TPE using 30/30 trials with best loss 2.461654\n",
      " 31%|███       | 31/100 [00:14<00:26,  2.57trial/s, best loss: 2.4616539664508217]2024-04-03 16:10:40,355 - build_posterior_wrapper took 0.001004 seconds\n",
      "2024-04-03 16:10:40,356 - TPE using 31/31 trials with best loss 2.461654\n",
      " 32%|███▏      | 32/100 [00:14<00:26,  2.57trial/s, best loss: 2.4616539664508217]2024-04-03 16:10:40,743 - build_posterior_wrapper took 0.000998 seconds\n",
      "2024-04-03 16:10:40,743 - TPE using 32/32 trials with best loss 2.461654\n",
      " 33%|███▎      | 33/100 [00:15<00:25,  2.66trial/s, best loss: 2.4616539664508217]2024-04-03 16:10:41,089 - build_posterior_wrapper took 0.000998 seconds\n",
      "2024-04-03 16:10:41,090 - TPE using 33/33 trials with best loss 2.461654\n",
      " 34%|███▍      | 34/100 [00:15<00:24,  2.74trial/s, best loss: 2.4616539664508217]2024-04-03 16:10:41,428 - build_posterior_wrapper took 0.000998 seconds\n",
      "2024-04-03 16:10:41,428 - TPE using 34/34 trials with best loss 2.461654\n",
      " 35%|███▌      | 35/100 [00:15<00:24,  2.71trial/s, best loss: 2.4616539664508217]2024-04-03 16:10:41,807 - build_posterior_wrapper took 0.000997 seconds\n",
      "2024-04-03 16:10:41,808 - TPE using 35/35 trials with best loss 2.461654\n",
      " 36%|███▌      | 36/100 [00:16<00:33,  1.88trial/s, best loss: 2.4616539664508217]2024-04-03 16:10:42,716 - build_posterior_wrapper took 0.000998 seconds\n",
      "2024-04-03 16:10:42,717 - TPE using 36/36 trials with best loss 2.461654\n",
      " 37%|███▋      | 37/100 [00:17<00:31,  1.99trial/s, best loss: 2.4616539664508217]2024-04-03 16:10:43,153 - build_posterior_wrapper took 0.000997 seconds\n",
      "2024-04-03 16:10:43,154 - TPE using 37/37 trials with best loss 2.461654\n",
      " 38%|███▊      | 38/100 [00:17<00:30,  2.01trial/s, best loss: 2.4616539664508217]2024-04-03 16:10:43,636 - build_posterior_wrapper took 0.000996 seconds\n",
      "2024-04-03 16:10:43,636 - TPE using 38/38 trials with best loss 2.461654\n",
      " 39%|███▉      | 39/100 [00:17<00:27,  2.24trial/s, best loss: 2.4616539664508217]2024-04-03 16:10:43,964 - build_posterior_wrapper took 0.000998 seconds\n",
      "2024-04-03 16:10:43,964 - TPE using 39/39 trials with best loss 2.461654\n",
      " 40%|████      | 40/100 [00:18<00:25,  2.33trial/s, best loss: 2.4616539664508217]2024-04-03 16:10:44,352 - build_posterior_wrapper took 0.001995 seconds\n",
      "2024-04-03 16:10:44,352 - TPE using 40/40 trials with best loss 2.461654\n",
      " 41%|████      | 41/100 [00:18<00:24,  2.42trial/s, best loss: 2.4616539664508217]2024-04-03 16:10:44,727 - build_posterior_wrapper took 0.000998 seconds\n",
      "2024-04-03 16:10:44,728 - TPE using 41/41 trials with best loss 2.461654\n",
      " 42%|████▏     | 42/100 [00:19<00:30,  1.88trial/s, best loss: 2.4616539664508217]2024-04-03 16:10:45,542 - build_posterior_wrapper took 0.000998 seconds\n",
      "2024-04-03 16:10:45,543 - TPE using 42/42 trials with best loss 2.461654\n",
      " 43%|████▎     | 43/100 [00:19<00:26,  2.14trial/s, best loss: 2.4616539664508217]2024-04-03 16:10:45,853 - build_posterior_wrapper took 0.000997 seconds\n",
      "2024-04-03 16:10:45,853 - TPE using 43/43 trials with best loss 2.461654\n",
      " 44%|████▍     | 44/100 [00:20<00:24,  2.30trial/s, best loss: 2.4616539664508217]2024-04-03 16:10:46,211 - build_posterior_wrapper took 0.000998 seconds\n",
      "2024-04-03 16:10:46,211 - TPE using 44/44 trials with best loss 2.461654\n",
      " 45%|████▌     | 45/100 [00:20<00:24,  2.23trial/s, best loss: 2.4616539664508217]2024-04-03 16:10:46,692 - build_posterior_wrapper took 0.001995 seconds\n",
      "2024-04-03 16:10:46,692 - TPE using 45/45 trials with best loss 2.461654\n",
      " 46%|████▌     | 46/100 [00:21<00:27,  1.98trial/s, best loss: 2.4616539664508217]2024-04-03 16:10:47,334 - build_posterior_wrapper took 0.000998 seconds\n",
      "2024-04-03 16:10:47,334 - TPE using 46/46 trials with best loss 2.461654\n",
      " 47%|████▋     | 47/100 [00:21<00:24,  2.14trial/s, best loss: 2.4616539664508217]2024-04-03 16:10:47,708 - build_posterior_wrapper took 0.000998 seconds\n",
      "2024-04-03 16:10:47,709 - TPE using 47/47 trials with best loss 2.461654\n",
      " 48%|████▊     | 48/100 [00:22<00:23,  2.21trial/s, best loss: 2.4616539664508217]2024-04-03 16:10:48,129 - build_posterior_wrapper took 0.000998 seconds\n",
      "2024-04-03 16:10:48,130 - TPE using 48/48 trials with best loss 2.461654\n",
      " 49%|████▉     | 49/100 [00:23<00:29,  1.72trial/s, best loss: 2.4616539664508217]2024-04-03 16:10:49,015 - build_posterior_wrapper took 0.000998 seconds\n",
      "2024-04-03 16:10:49,016 - TPE using 49/49 trials with best loss 2.461654\n",
      " 50%|█████     | 50/100 [00:23<00:26,  1.89trial/s, best loss: 2.4616539664508217]2024-04-03 16:10:49,418 - build_posterior_wrapper took 0.001995 seconds\n",
      "2024-04-03 16:10:49,419 - TPE using 50/50 trials with best loss 2.461654\n",
      " 51%|█████     | 51/100 [00:23<00:25,  1.91trial/s, best loss: 2.4616539664508217]2024-04-03 16:10:49,926 - build_posterior_wrapper took 0.000997 seconds\n",
      "2024-04-03 16:10:49,927 - TPE using 51/51 trials with best loss 2.461654\n",
      " 52%|█████▏    | 52/100 [00:24<00:26,  1.79trial/s, best loss: 2.4616539664508217]2024-04-03 16:10:50,565 - build_posterior_wrapper took 0.000998 seconds\n",
      "2024-04-03 16:10:50,566 - TPE using 52/52 trials with best loss 2.461654\n",
      " 53%|█████▎    | 53/100 [00:24<00:23,  2.04trial/s, best loss: 2.4616539664508217]2024-04-03 16:10:50,902 - build_posterior_wrapper took 0.001995 seconds\n",
      "2024-04-03 16:10:50,902 - TPE using 53/53 trials with best loss 2.461654\n",
      " 54%|█████▍    | 54/100 [00:25<00:20,  2.20trial/s, best loss: 2.4616539664508217]2024-04-03 16:10:51,270 - build_posterior_wrapper took 0.000998 seconds\n",
      "2024-04-03 16:10:51,271 - TPE using 54/54 trials with best loss 2.461654\n",
      " 55%|█████▌    | 55/100 [00:25<00:19,  2.29trial/s, best loss: 2.4616539664508217]2024-04-03 16:10:51,668 - build_posterior_wrapper took 0.000998 seconds\n",
      "2024-04-03 16:10:51,669 - TPE using 55/55 trials with best loss 2.461654\n",
      " 56%|█████▌    | 56/100 [00:26<00:19,  2.24trial/s, best loss: 2.4616539664508217]2024-04-03 16:10:52,138 - build_posterior_wrapper took 0.000998 seconds\n",
      "2024-04-03 16:10:52,139 - TPE using 56/56 trials with best loss 2.461654\n",
      " 57%|█████▋    | 57/100 [00:26<00:18,  2.36trial/s, best loss: 2.4616539664508217]2024-04-03 16:10:52,503 - build_posterior_wrapper took 0.000998 seconds\n",
      "2024-04-03 16:10:52,504 - TPE using 57/57 trials with best loss 2.461654\n",
      " 58%|█████▊    | 58/100 [00:26<00:17,  2.41trial/s, best loss: 2.4616539664508217]2024-04-03 16:10:52,902 - build_posterior_wrapper took 0.000998 seconds\n",
      "2024-04-03 16:10:52,903 - TPE using 58/58 trials with best loss 2.461654\n",
      " 59%|█████▉    | 59/100 [00:27<00:16,  2.45trial/s, best loss: 2.4616539664508217]2024-04-03 16:10:53,291 - build_posterior_wrapper took 0.000998 seconds\n",
      "2024-04-03 16:10:53,292 - TPE using 59/59 trials with best loss 2.461654\n",
      " 60%|██████    | 60/100 [00:27<00:15,  2.51trial/s, best loss: 2.4616539664508217]2024-04-03 16:10:53,669 - build_posterior_wrapper took 0.000997 seconds\n",
      "2024-04-03 16:10:53,670 - TPE using 60/60 trials with best loss 2.461654\n",
      " 61%|██████    | 61/100 [00:27<00:14,  2.73trial/s, best loss: 2.4616539664508217]2024-04-03 16:10:53,962 - build_posterior_wrapper took 0.000997 seconds\n",
      "2024-04-03 16:10:53,963 - TPE using 61/61 trials with best loss 2.461654\n",
      " 62%|██████▏   | 62/100 [00:28<00:16,  2.32trial/s, best loss: 2.4616539664508217]2024-04-03 16:10:54,541 - build_posterior_wrapper took 0.000998 seconds\n",
      "2024-04-03 16:10:54,542 - TPE using 62/62 trials with best loss 2.461654\n",
      " 63%|██████▎   | 63/100 [00:28<00:15,  2.45trial/s, best loss: 2.4616539664508217]2024-04-03 16:10:54,898 - build_posterior_wrapper took 0.001995 seconds\n",
      "2024-04-03 16:10:54,898 - TPE using 63/63 trials with best loss 2.461654\n",
      " 64%|██████▍   | 64/100 [00:29<00:17,  2.07trial/s, best loss: 2.4616539664508217]2024-04-03 16:10:55,555 - build_posterior_wrapper took 0.000998 seconds\n",
      "2024-04-03 16:10:55,555 - TPE using 64/64 trials with best loss 2.461654\n",
      " 65%|██████▌   | 65/100 [00:29<00:15,  2.22trial/s, best loss: 2.4616539664508217]2024-04-03 16:10:55,927 - build_posterior_wrapper took 0.000998 seconds\n",
      "2024-04-03 16:10:55,928 - TPE using 65/65 trials with best loss 2.461654\n",
      " 66%|██████▌   | 66/100 [00:30<00:13,  2.48trial/s, best loss: 2.4152964731542497]2024-04-03 16:10:56,223 - build_posterior_wrapper took 0.000998 seconds\n",
      "2024-04-03 16:10:56,224 - TPE using 66/66 trials with best loss 2.415296\n",
      " 67%|██████▋   | 67/100 [00:30<00:12,  2.67trial/s, best loss: 2.4152964731542497]2024-04-03 16:10:56,530 - build_posterior_wrapper took 0.000997 seconds\n",
      "2024-04-03 16:10:56,531 - TPE using 67/67 trials with best loss 2.415296\n",
      " 68%|██████▊   | 68/100 [00:30<00:11,  2.83trial/s, best loss: 2.4152964731542497]2024-04-03 16:10:56,836 - build_posterior_wrapper took 0.000998 seconds\n",
      "2024-04-03 16:10:56,837 - TPE using 68/68 trials with best loss 2.415296\n",
      " 69%|██████▉   | 69/100 [00:31<00:10,  2.97trial/s, best loss: 2.4152964731542497]2024-04-03 16:10:57,131 - build_posterior_wrapper took 0.000997 seconds\n",
      "2024-04-03 16:10:57,132 - TPE using 69/69 trials with best loss 2.415296\n",
      " 70%|███████   | 70/100 [00:31<00:09,  3.07trial/s, best loss: 2.35660301481998]  2024-04-03 16:10:57,432 - build_posterior_wrapper took 0.000998 seconds\n",
      "2024-04-03 16:10:57,433 - TPE using 70/70 trials with best loss 2.356603\n",
      " 71%|███████   | 71/100 [00:31<00:09,  3.12trial/s, best loss: 2.35660301481998]2024-04-03 16:10:57,739 - build_posterior_wrapper took 0.000997 seconds\n",
      "2024-04-03 16:10:57,739 - TPE using 71/71 trials with best loss 2.356603\n",
      " 72%|███████▏  | 72/100 [00:32<00:08,  3.19trial/s, best loss: 2.35660301481998]2024-04-03 16:10:58,036 - build_posterior_wrapper took 0.001029 seconds\n",
      "2024-04-03 16:10:58,037 - TPE using 72/72 trials with best loss 2.356603\n",
      " 73%|███████▎  | 73/100 [00:32<00:08,  3.24trial/s, best loss: 2.35660301481998]2024-04-03 16:10:58,333 - build_posterior_wrapper took 0.000997 seconds\n",
      "2024-04-03 16:10:58,333 - TPE using 73/73 trials with best loss 2.356603\n",
      " 74%|███████▍  | 74/100 [00:32<00:07,  3.26trial/s, best loss: 2.35660301481998]2024-04-03 16:10:58,636 - build_posterior_wrapper took 0.000998 seconds\n",
      "2024-04-03 16:10:58,637 - TPE using 74/74 trials with best loss 2.356603\n",
      " 75%|███████▌  | 75/100 [00:32<00:07,  3.30trial/s, best loss: 2.35660301481998]2024-04-03 16:10:58,931 - build_posterior_wrapper took 0.000998 seconds\n",
      "2024-04-03 16:10:58,932 - TPE using 75/75 trials with best loss 2.356603\n",
      " 76%|███████▌  | 76/100 [00:33<00:08,  2.99trial/s, best loss: 2.35660301481998]2024-04-03 16:10:59,338 - build_posterior_wrapper took 0.000998 seconds\n",
      "2024-04-03 16:10:59,339 - TPE using 76/76 trials with best loss 2.356603\n",
      " 77%|███████▋  | 77/100 [00:33<00:07,  3.11trial/s, best loss: 2.35660301481998]2024-04-03 16:10:59,631 - build_posterior_wrapper took 0.000998 seconds\n",
      "2024-04-03 16:10:59,632 - TPE using 77/77 trials with best loss 2.356603\n",
      " 78%|███████▊  | 78/100 [00:34<00:07,  2.88trial/s, best loss: 2.35660301481998]2024-04-03 16:11:00,039 - build_posterior_wrapper took 0.000998 seconds\n",
      "2024-04-03 16:11:00,040 - TPE using 78/78 trials with best loss 2.356603\n",
      " 79%|███████▉  | 79/100 [00:34<00:07,  2.80trial/s, best loss: 2.35660301481998]2024-04-03 16:11:00,417 - build_posterior_wrapper took 0.000998 seconds\n",
      "2024-04-03 16:11:00,418 - TPE using 79/79 trials with best loss 2.356603\n",
      " 80%|████████  | 80/100 [00:34<00:07,  2.69trial/s, best loss: 2.35660301481998]2024-04-03 16:11:00,822 - build_posterior_wrapper took 0.000998 seconds\n",
      "2024-04-03 16:11:00,822 - TPE using 80/80 trials with best loss 2.356603\n",
      " 81%|████████  | 81/100 [00:35<00:07,  2.56trial/s, best loss: 2.35660301481998]2024-04-03 16:11:01,257 - build_posterior_wrapper took 0.000999 seconds\n",
      "2024-04-03 16:11:01,258 - TPE using 81/81 trials with best loss 2.356603\n",
      " 82%|████████▏ | 82/100 [00:35<00:06,  2.58trial/s, best loss: 2.35660301481998]2024-04-03 16:11:01,636 - build_posterior_wrapper took 0.000998 seconds\n",
      "2024-04-03 16:11:01,636 - TPE using 82/82 trials with best loss 2.356603\n",
      " 83%|████████▎ | 83/100 [00:36<00:06,  2.61trial/s, best loss: 2.35660301481998]2024-04-03 16:11:02,011 - build_posterior_wrapper took 0.000998 seconds\n",
      "2024-04-03 16:11:02,012 - TPE using 83/83 trials with best loss 2.356603\n",
      " 84%|████████▍ | 84/100 [00:36<00:05,  2.80trial/s, best loss: 2.35660301481998]2024-04-03 16:11:02,308 - build_posterior_wrapper took 0.000998 seconds\n",
      "2024-04-03 16:11:02,308 - TPE using 84/84 trials with best loss 2.356603\n",
      " 85%|████████▌ | 85/100 [00:36<00:05,  2.66trial/s, best loss: 2.35660301481998]2024-04-03 16:11:02,728 - build_posterior_wrapper took 0.000998 seconds\n",
      "2024-04-03 16:11:02,728 - TPE using 85/85 trials with best loss 2.356603\n",
      " 86%|████████▌ | 86/100 [00:37<00:05,  2.73trial/s, best loss: 2.35660301481998]2024-04-03 16:11:03,073 - build_posterior_wrapper took 0.000997 seconds\n",
      "2024-04-03 16:11:03,074 - TPE using 86/86 trials with best loss 2.356603\n",
      " 87%|████████▋ | 87/100 [00:37<00:04,  2.90trial/s, best loss: 2.35660301481998]2024-04-03 16:11:03,369 - build_posterior_wrapper took 0.000998 seconds\n",
      "2024-04-03 16:11:03,370 - TPE using 87/87 trials with best loss 2.356603\n",
      " 88%|████████▊ | 88/100 [00:37<00:04,  2.43trial/s, best loss: 2.35660301481998]2024-04-03 16:11:03,935 - build_posterior_wrapper took 0.000997 seconds\n",
      "2024-04-03 16:11:03,935 - TPE using 88/88 trials with best loss 2.356603\n",
      " 89%|████████▉ | 89/100 [00:38<00:04,  2.45trial/s, best loss: 2.35660301481998]2024-04-03 16:11:04,338 - build_posterior_wrapper took 0.000998 seconds\n",
      "2024-04-03 16:11:04,339 - TPE using 89/89 trials with best loss 2.356603\n",
      " 90%|█████████ | 90/100 [00:38<00:03,  2.54trial/s, best loss: 2.35660301481998]2024-04-03 16:11:04,696 - build_posterior_wrapper took 0.000998 seconds\n",
      "2024-04-03 16:11:04,697 - TPE using 90/90 trials with best loss 2.356603\n",
      " 91%|█████████ | 91/100 [00:39<00:03,  2.35trial/s, best loss: 2.35660301481998]2024-04-03 16:11:05,197 - build_posterior_wrapper took 0.001995 seconds\n",
      "2024-04-03 16:11:05,197 - TPE using 91/91 trials with best loss 2.356603\n",
      " 92%|█████████▏| 92/100 [00:39<00:03,  2.43trial/s, best loss: 2.35660301481998]2024-04-03 16:11:05,574 - build_posterior_wrapper took 0.000998 seconds\n",
      "2024-04-03 16:11:05,575 - TPE using 92/92 trials with best loss 2.356603\n",
      " 93%|█████████▎| 93/100 [00:40<00:02,  2.38trial/s, best loss: 2.35660301481998]2024-04-03 16:11:06,016 - build_posterior_wrapper took 0.001995 seconds\n",
      "2024-04-03 16:11:06,016 - TPE using 93/93 trials with best loss 2.356603\n",
      " 94%|█████████▍| 94/100 [00:40<00:02,  2.38trial/s, best loss: 2.35660301481998]2024-04-03 16:11:06,433 - build_posterior_wrapper took 0.000998 seconds\n",
      "2024-04-03 16:11:06,433 - TPE using 94/94 trials with best loss 2.356603\n",
      " 95%|█████████▌| 95/100 [00:40<00:02,  2.41trial/s, best loss: 2.35660301481998]2024-04-03 16:11:06,835 - build_posterior_wrapper took 0.000968 seconds\n",
      "2024-04-03 16:11:06,837 - TPE using 95/95 trials with best loss 2.356603\n",
      " 96%|█████████▌| 96/100 [00:41<00:01,  2.11trial/s, best loss: 2.35660301481998]2024-04-03 16:11:07,450 - build_posterior_wrapper took 0.000997 seconds\n",
      "2024-04-03 16:11:07,451 - TPE using 96/96 trials with best loss 2.356603\n",
      " 97%|█████████▋| 97/100 [00:41<00:01,  2.37trial/s, best loss: 2.35660301481998]2024-04-03 16:11:07,749 - build_posterior_wrapper took 0.000998 seconds\n",
      "2024-04-03 16:11:07,750 - TPE using 97/97 trials with best loss 2.356603\n",
      " 98%|█████████▊| 98/100 [00:42<00:00,  2.49trial/s, best loss: 2.35660301481998]2024-04-03 16:11:08,104 - build_posterior_wrapper took 0.000998 seconds\n",
      "2024-04-03 16:11:08,105 - TPE using 98/98 trials with best loss 2.356603\n",
      " 99%|█████████▉| 99/100 [00:42<00:00,  2.01trial/s, best loss: 2.35660301481998]2024-04-03 16:11:08,820 - build_posterior_wrapper took 0.000998 seconds\n",
      "2024-04-03 16:11:08,821 - TPE using 99/99 trials with best loss 2.356603\n",
      "100%|██████████| 100/100 [00:43<00:00,  2.31trial/s, best loss: 2.35660301481998]\n",
      "  0%|          | 0/100 [00:00<?, ?trial/s, best loss=?]2024-04-03 16:11:09,321 - build_posterior_wrapper took 0.000997 seconds\n",
      "2024-04-03 16:11:09,321 - TPE using 0 trials\n",
      "  1%|          | 1/100 [00:00<00:27,  3.60trial/s, best loss: 2.445611769767872]2024-04-03 16:11:09,599 - build_posterior_wrapper took 0.000998 seconds\n",
      "2024-04-03 16:11:09,600 - TPE using 1/1 trials with best loss 2.445612\n",
      "  2%|▏         | 2/100 [00:00<00:29,  3.35trial/s, best loss: 2.4452607853310173]2024-04-03 16:11:09,912 - build_posterior_wrapper took 0.000998 seconds\n",
      "2024-04-03 16:11:09,913 - TPE using 2/2 trials with best loss 2.445261\n",
      "  3%|▎         | 3/100 [00:00<00:29,  3.27trial/s, best loss: 2.4144920669328847]2024-04-03 16:11:10,226 - build_posterior_wrapper took 0.000997 seconds\n",
      "2024-04-03 16:11:10,226 - TPE using 3/3 trials with best loss 2.414492\n",
      "  4%|▍         | 4/100 [00:01<00:28,  3.32trial/s, best loss: 2.4144920669328847]2024-04-03 16:11:10,520 - build_posterior_wrapper took 0.000998 seconds\n",
      "2024-04-03 16:11:10,520 - TPE using 4/4 trials with best loss 2.414492\n",
      "  5%|▌         | 5/100 [00:01<00:28,  3.34trial/s, best loss: 2.4144920669328847]2024-04-03 16:11:10,818 - build_posterior_wrapper took 0.000997 seconds\n",
      "2024-04-03 16:11:10,818 - TPE using 5/5 trials with best loss 2.414492\n",
      "  6%|▌         | 6/100 [00:01<00:28,  3.27trial/s, best loss: 2.4144920669328847]2024-04-03 16:11:11,136 - build_posterior_wrapper took 0.000998 seconds\n",
      "2024-04-03 16:11:11,137 - TPE using 6/6 trials with best loss 2.414492\n",
      "  7%|▋         | 7/100 [00:02<00:29,  3.19trial/s, best loss: 2.4144920669328847]2024-04-03 16:11:11,463 - build_posterior_wrapper took 0.000998 seconds\n",
      "2024-04-03 16:11:11,463 - TPE using 7/7 trials with best loss 2.414492\n",
      "  8%|▊         | 8/100 [00:02<00:28,  3.21trial/s, best loss: 2.4144920669328847]2024-04-03 16:11:11,772 - build_posterior_wrapper took 0.000998 seconds\n",
      "2024-04-03 16:11:11,772 - TPE using 8/8 trials with best loss 2.414492\n",
      "  9%|▉         | 9/100 [00:02<00:28,  3.21trial/s, best loss: 2.4144920669328847]2024-04-03 16:11:12,083 - build_posterior_wrapper took 0.000997 seconds\n",
      "2024-04-03 16:11:12,084 - TPE using 9/9 trials with best loss 2.414492\n",
      " 10%|█         | 10/100 [00:03<00:27,  3.25trial/s, best loss: 2.4144920669328847]2024-04-03 16:11:12,383 - build_posterior_wrapper took 0.000997 seconds\n",
      "2024-04-03 16:11:12,383 - TPE using 10/10 trials with best loss 2.414492\n",
      " 11%|█         | 11/100 [00:03<00:27,  3.28trial/s, best loss: 2.4144920669328847]2024-04-03 16:11:12,679 - build_posterior_wrapper took 0.000998 seconds\n",
      "2024-04-03 16:11:12,680 - TPE using 11/11 trials with best loss 2.414492\n",
      " 12%|█▏        | 12/100 [00:03<00:27,  3.16trial/s, best loss: 2.4144920669328847]2024-04-03 16:11:13,024 - build_posterior_wrapper took 0.000997 seconds\n",
      "2024-04-03 16:11:13,025 - TPE using 12/12 trials with best loss 2.414492\n",
      " 13%|█▎        | 13/100 [00:03<00:27,  3.22trial/s, best loss: 2.4144920669328847]2024-04-03 16:11:13,321 - build_posterior_wrapper took 0.000000 seconds\n",
      "2024-04-03 16:11:13,322 - TPE using 13/13 trials with best loss 2.414492\n",
      " 14%|█▍        | 14/100 [00:04<00:26,  3.25trial/s, best loss: 2.4144920669328847]2024-04-03 16:11:13,621 - build_posterior_wrapper took 0.000000 seconds\n",
      "2024-04-03 16:11:13,621 - TPE using 14/14 trials with best loss 2.414492\n",
      " 15%|█▌        | 15/100 [00:04<00:27,  3.13trial/s, best loss: 2.4144920669328847]2024-04-03 16:11:13,968 - build_posterior_wrapper took 0.000997 seconds\n",
      "2024-04-03 16:11:13,969 - TPE using 15/15 trials with best loss 2.414492\n",
      " 16%|█▌        | 16/100 [00:04<00:26,  3.12trial/s, best loss: 2.4144920669328847]2024-04-03 16:11:14,293 - build_posterior_wrapper took 0.000998 seconds\n",
      "2024-04-03 16:11:14,293 - TPE using 16/16 trials with best loss 2.414492\n",
      " 17%|█▋        | 17/100 [00:05<00:26,  3.14trial/s, best loss: 2.4144920669328847]2024-04-03 16:11:14,605 - build_posterior_wrapper took 0.000998 seconds\n",
      "2024-04-03 16:11:14,606 - TPE using 17/17 trials with best loss 2.414492\n",
      " 18%|█▊        | 18/100 [00:05<00:25,  3.15trial/s, best loss: 2.4058906413274532]2024-04-03 16:11:14,918 - build_posterior_wrapper took 0.000997 seconds\n",
      "2024-04-03 16:11:14,919 - TPE using 18/18 trials with best loss 2.405891\n",
      " 19%|█▉        | 19/100 [00:05<00:25,  3.14trial/s, best loss: 2.4058906413274532]2024-04-03 16:11:15,242 - build_posterior_wrapper took 0.000998 seconds\n",
      "2024-04-03 16:11:15,242 - TPE using 19/19 trials with best loss 2.405891\n",
      " 20%|██        | 20/100 [00:06<00:25,  3.20trial/s, best loss: 2.1830659402172388]2024-04-03 16:11:15,542 - build_posterior_wrapper took 0.000997 seconds\n",
      "2024-04-03 16:11:15,542 - TPE using 20/20 trials with best loss 2.183066\n",
      " 21%|██        | 21/100 [00:06<00:24,  3.24trial/s, best loss: 2.135480765650933] 2024-04-03 16:11:15,839 - build_posterior_wrapper took 0.000997 seconds\n",
      "2024-04-03 16:11:15,840 - TPE using 21/21 trials with best loss 2.135481\n",
      " 22%|██▏       | 22/100 [00:06<00:23,  3.28trial/s, best loss: 2.135480765650933]2024-04-03 16:11:16,137 - build_posterior_wrapper took 0.000998 seconds\n",
      "2024-04-03 16:11:16,138 - TPE using 22/22 trials with best loss 2.135481\n",
      " 23%|██▎       | 23/100 [00:07<00:23,  3.32trial/s, best loss: 2.135480765650933]2024-04-03 16:11:16,430 - build_posterior_wrapper took 0.000998 seconds\n",
      "2024-04-03 16:11:16,430 - TPE using 23/23 trials with best loss 2.135481\n",
      " 24%|██▍       | 24/100 [00:07<00:22,  3.32trial/s, best loss: 2.135480765650933]2024-04-03 16:11:16,731 - build_posterior_wrapper took 0.000998 seconds\n",
      "2024-04-03 16:11:16,731 - TPE using 24/24 trials with best loss 2.135481\n",
      " 25%|██▌       | 25/100 [00:07<00:22,  3.33trial/s, best loss: 2.135480765650933]2024-04-03 16:11:17,030 - build_posterior_wrapper took 0.000997 seconds\n",
      "2024-04-03 16:11:17,031 - TPE using 25/25 trials with best loss 2.135481\n",
      " 26%|██▌       | 26/100 [00:08<00:22,  3.34trial/s, best loss: 2.135480765650933]2024-04-03 16:11:17,324 - build_posterior_wrapper took 0.000000 seconds\n",
      "2024-04-03 16:11:17,325 - TPE using 26/26 trials with best loss 2.135481\n",
      " 27%|██▋       | 27/100 [00:08<00:21,  3.36trial/s, best loss: 2.1243067247185285]2024-04-03 16:11:17,621 - build_posterior_wrapper took 0.000998 seconds\n",
      "2024-04-03 16:11:17,621 - TPE using 27/27 trials with best loss 2.124307\n",
      " 28%|██▊       | 28/100 [00:08<00:21,  3.35trial/s, best loss: 2.1243067247185285]2024-04-03 16:11:17,918 - build_posterior_wrapper took 0.000993 seconds\n",
      "2024-04-03 16:11:17,919 - TPE using 28/28 trials with best loss 2.124307\n",
      " 29%|██▉       | 29/100 [00:08<00:21,  3.36trial/s, best loss: 2.1243067247185285]2024-04-03 16:11:18,215 - build_posterior_wrapper took 0.000997 seconds\n",
      "2024-04-03 16:11:18,215 - TPE using 29/29 trials with best loss 2.124307\n",
      " 30%|███       | 30/100 [00:09<00:21,  3.31trial/s, best loss: 2.1243067247185285]2024-04-03 16:11:18,528 - build_posterior_wrapper took 0.000998 seconds\n",
      "2024-04-03 16:11:18,529 - TPE using 30/30 trials with best loss 2.124307\n",
      " 31%|███       | 31/100 [00:09<00:20,  3.33trial/s, best loss: 2.1243067247185285]2024-04-03 16:11:18,826 - build_posterior_wrapper took 0.000998 seconds\n",
      "2024-04-03 16:11:18,826 - TPE using 31/31 trials with best loss 2.124307\n",
      " 32%|███▏      | 32/100 [00:09<00:20,  3.34trial/s, best loss: 2.1243067247185285]2024-04-03 16:11:19,121 - build_posterior_wrapper took 0.000997 seconds\n",
      "2024-04-03 16:11:19,121 - TPE using 32/32 trials with best loss 2.124307\n",
      " 33%|███▎      | 33/100 [00:10<00:19,  3.36trial/s, best loss: 2.1243067247185285]2024-04-03 16:11:19,415 - build_posterior_wrapper took 0.000998 seconds\n",
      "2024-04-03 16:11:19,415 - TPE using 33/33 trials with best loss 2.124307\n",
      " 34%|███▍      | 34/100 [00:10<00:19,  3.37trial/s, best loss: 2.1243067247185285]2024-04-03 16:11:19,710 - build_posterior_wrapper took 0.000998 seconds\n",
      "2024-04-03 16:11:19,711 - TPE using 34/34 trials with best loss 2.124307\n",
      " 35%|███▌      | 35/100 [00:10<00:19,  3.36trial/s, best loss: 2.1243067247185285]2024-04-03 16:11:20,009 - build_posterior_wrapper took 0.000998 seconds\n",
      "2024-04-03 16:11:20,009 - TPE using 35/35 trials with best loss 2.124307\n",
      " 36%|███▌      | 36/100 [00:10<00:18,  3.38trial/s, best loss: 2.1243067247185285]2024-04-03 16:11:20,301 - build_posterior_wrapper took 0.000998 seconds\n",
      "2024-04-03 16:11:20,302 - TPE using 36/36 trials with best loss 2.124307\n",
      " 37%|███▋      | 37/100 [00:11<00:18,  3.37trial/s, best loss: 2.1243067247185285]2024-04-03 16:11:20,600 - build_posterior_wrapper took 0.000997 seconds\n",
      "2024-04-03 16:11:20,600 - TPE using 37/37 trials with best loss 2.124307\n",
      " 38%|███▊      | 38/100 [00:11<00:18,  3.37trial/s, best loss: 2.1243067247185285]2024-04-03 16:11:20,896 - build_posterior_wrapper took 0.000969 seconds\n",
      "2024-04-03 16:11:20,897 - TPE using 38/38 trials with best loss 2.124307\n",
      " 39%|███▉      | 39/100 [00:11<00:18,  3.37trial/s, best loss: 2.1243067247185285]2024-04-03 16:11:21,194 - build_posterior_wrapper took 0.000997 seconds\n",
      "2024-04-03 16:11:21,195 - TPE using 39/39 trials with best loss 2.124307\n",
      " 40%|████      | 40/100 [00:12<00:18,  3.33trial/s, best loss: 2.1243067247185285]2024-04-03 16:11:21,502 - build_posterior_wrapper took 0.000997 seconds\n",
      "2024-04-03 16:11:21,503 - TPE using 40/40 trials with best loss 2.124307\n",
      " 41%|████      | 41/100 [00:12<00:17,  3.31trial/s, best loss: 2.1243067247185285]2024-04-03 16:11:21,810 - build_posterior_wrapper took 0.000997 seconds\n",
      "2024-04-03 16:11:21,811 - TPE using 41/41 trials with best loss 2.124307\n",
      " 42%|████▏     | 42/100 [00:12<00:17,  3.34trial/s, best loss: 2.1243067247185285]2024-04-03 16:11:22,103 - build_posterior_wrapper took 0.000997 seconds\n",
      "2024-04-03 16:11:22,103 - TPE using 42/42 trials with best loss 2.124307\n",
      " 43%|████▎     | 43/100 [00:13<00:17,  3.29trial/s, best loss: 2.1243067247185285]2024-04-03 16:11:22,419 - build_posterior_wrapper took 0.000998 seconds\n",
      "2024-04-03 16:11:22,419 - TPE using 43/43 trials with best loss 2.124307\n",
      " 44%|████▍     | 44/100 [00:13<00:16,  3.30trial/s, best loss: 2.1243067247185285]2024-04-03 16:11:22,717 - build_posterior_wrapper took 0.000997 seconds\n",
      "2024-04-03 16:11:22,718 - TPE using 44/44 trials with best loss 2.124307\n",
      " 45%|████▌     | 45/100 [00:13<00:16,  3.28trial/s, best loss: 2.1243067247185285]2024-04-03 16:11:23,028 - build_posterior_wrapper took 0.000997 seconds\n",
      "2024-04-03 16:11:23,028 - TPE using 45/45 trials with best loss 2.124307\n",
      " 46%|████▌     | 46/100 [00:14<00:17,  3.17trial/s, best loss: 2.1243067247185285]2024-04-03 16:11:23,367 - build_posterior_wrapper took 0.000998 seconds\n",
      "2024-04-03 16:11:23,368 - TPE using 46/46 trials with best loss 2.124307\n",
      " 47%|████▋     | 47/100 [00:14<00:16,  3.22trial/s, best loss: 2.1243067247185285]2024-04-03 16:11:23,666 - build_posterior_wrapper took 0.000997 seconds\n",
      "2024-04-03 16:11:23,667 - TPE using 47/47 trials with best loss 2.124307\n",
      " 48%|████▊     | 48/100 [00:14<00:16,  3.08trial/s, best loss: 2.1243067247185285]2024-04-03 16:11:24,023 - build_posterior_wrapper took 0.000000 seconds\n",
      "2024-04-03 16:11:24,024 - TPE using 48/48 trials with best loss 2.124307\n",
      " 49%|████▉     | 49/100 [00:15<00:16,  3.12trial/s, best loss: 2.1243067247185285]2024-04-03 16:11:24,335 - build_posterior_wrapper took 0.000998 seconds\n",
      "2024-04-03 16:11:24,336 - TPE using 49/49 trials with best loss 2.124307\n",
      " 50%|█████     | 50/100 [00:15<00:16,  3.00trial/s, best loss: 2.1243067247185285]2024-04-03 16:11:24,697 - build_posterior_wrapper took 0.000997 seconds\n",
      "2024-04-03 16:11:24,697 - TPE using 50/50 trials with best loss 2.124307\n",
      " 51%|█████     | 51/100 [00:15<00:16,  3.04trial/s, best loss: 2.1243067247185285]2024-04-03 16:11:25,016 - build_posterior_wrapper took 0.000998 seconds\n",
      "2024-04-03 16:11:25,016 - TPE using 51/51 trials with best loss 2.124307\n",
      " 52%|█████▏    | 52/100 [00:16<00:15,  3.10trial/s, best loss: 2.1243067247185285]2024-04-03 16:11:25,325 - build_posterior_wrapper took 0.000998 seconds\n",
      "2024-04-03 16:11:25,326 - TPE using 52/52 trials with best loss 2.124307\n",
      " 53%|█████▎    | 53/100 [00:16<00:15,  3.04trial/s, best loss: 2.1243067247185285]2024-04-03 16:11:25,670 - build_posterior_wrapper took 0.000997 seconds\n",
      "2024-04-03 16:11:25,670 - TPE using 53/53 trials with best loss 2.124307\n",
      " 54%|█████▍    | 54/100 [00:16<00:15,  3.05trial/s, best loss: 2.1243067247185285]2024-04-03 16:11:25,996 - build_posterior_wrapper took 0.000997 seconds\n",
      "2024-04-03 16:11:25,996 - TPE using 54/54 trials with best loss 2.124307\n",
      " 55%|█████▌    | 55/100 [00:16<00:14,  3.09trial/s, best loss: 2.1243067247185285]2024-04-03 16:11:26,309 - build_posterior_wrapper took 0.000998 seconds\n",
      "2024-04-03 16:11:26,309 - TPE using 55/55 trials with best loss 2.124307\n",
      " 56%|█████▌    | 56/100 [00:17<00:14,  3.12trial/s, best loss: 2.1243067247185285]2024-04-03 16:11:26,622 - build_posterior_wrapper took 0.000997 seconds\n",
      "2024-04-03 16:11:26,622 - TPE using 56/56 trials with best loss 2.124307\n",
      " 57%|█████▋    | 57/100 [00:17<00:13,  3.20trial/s, best loss: 2.1243067247185285]2024-04-03 16:11:26,917 - build_posterior_wrapper took 0.000998 seconds\n",
      "2024-04-03 16:11:26,917 - TPE using 57/57 trials with best loss 2.124307\n",
      " 58%|█████▊    | 58/100 [00:17<00:12,  3.24trial/s, best loss: 2.1243067247185285]2024-04-03 16:11:27,214 - build_posterior_wrapper took 0.000998 seconds\n",
      "2024-04-03 16:11:27,215 - TPE using 58/58 trials with best loss 2.124307\n",
      " 59%|█████▉    | 59/100 [00:18<00:12,  3.27trial/s, best loss: 2.1243067247185285]2024-04-03 16:11:27,515 - build_posterior_wrapper took 0.000998 seconds\n",
      "2024-04-03 16:11:27,516 - TPE using 59/59 trials with best loss 2.124307\n",
      " 60%|██████    | 60/100 [00:18<00:12,  3.21trial/s, best loss: 2.1243067247185285]2024-04-03 16:11:27,839 - build_posterior_wrapper took 0.000998 seconds\n",
      "2024-04-03 16:11:27,840 - TPE using 60/60 trials with best loss 2.124307\n",
      " 61%|██████    | 61/100 [00:18<00:11,  3.26trial/s, best loss: 2.1243067247185285]2024-04-03 16:11:28,134 - build_posterior_wrapper took 0.000998 seconds\n",
      "2024-04-03 16:11:28,135 - TPE using 61/61 trials with best loss 2.124307\n",
      " 62%|██████▏   | 62/100 [00:19<00:11,  3.28trial/s, best loss: 2.1243067247185285]2024-04-03 16:11:28,434 - build_posterior_wrapper took 0.000997 seconds\n",
      "2024-04-03 16:11:28,435 - TPE using 62/62 trials with best loss 2.124307\n",
      " 63%|██████▎   | 63/100 [00:19<00:11,  3.12trial/s, best loss: 2.1243067247185285]2024-04-03 16:11:28,791 - build_posterior_wrapper took 0.000998 seconds\n",
      "2024-04-03 16:11:28,792 - TPE using 63/63 trials with best loss 2.124307\n",
      " 64%|██████▍   | 64/100 [00:19<00:11,  3.06trial/s, best loss: 2.1243067247185285]2024-04-03 16:11:29,133 - build_posterior_wrapper took 0.000998 seconds\n",
      "2024-04-03 16:11:29,134 - TPE using 64/64 trials with best loss 2.124307\n",
      " 65%|██████▌   | 65/100 [00:20<00:11,  2.96trial/s, best loss: 2.1243067247185285]2024-04-03 16:11:29,495 - build_posterior_wrapper took 0.000998 seconds\n",
      "2024-04-03 16:11:29,496 - TPE using 65/65 trials with best loss 2.124307\n",
      " 66%|██████▌   | 66/100 [00:20<00:11,  2.92trial/s, best loss: 2.1243067247185285]2024-04-03 16:11:29,851 - build_posterior_wrapper took 0.000998 seconds\n",
      "2024-04-03 16:11:29,852 - TPE using 66/66 trials with best loss 2.124307\n",
      " 67%|██████▋   | 67/100 [00:20<00:11,  2.95trial/s, best loss: 2.1243067247185285]2024-04-03 16:11:30,182 - build_posterior_wrapper took 0.000997 seconds\n",
      "2024-04-03 16:11:30,183 - TPE using 67/67 trials with best loss 2.124307\n",
      " 68%|██████▊   | 68/100 [00:21<00:10,  2.98trial/s, best loss: 2.1243067247185285]2024-04-03 16:11:30,509 - build_posterior_wrapper took 0.000997 seconds\n",
      "2024-04-03 16:11:30,510 - TPE using 68/68 trials with best loss 2.124307\n",
      " 69%|██████▉   | 69/100 [00:21<00:10,  3.00trial/s, best loss: 2.1243067247185285]2024-04-03 16:11:30,839 - build_posterior_wrapper took 0.000997 seconds\n",
      "2024-04-03 16:11:30,840 - TPE using 69/69 trials with best loss 2.124307\n",
      " 70%|███████   | 70/100 [00:21<00:09,  3.01trial/s, best loss: 2.1243067247185285]2024-04-03 16:11:31,167 - build_posterior_wrapper took 0.000997 seconds\n",
      "2024-04-03 16:11:31,167 - TPE using 70/70 trials with best loss 2.124307\n",
      " 71%|███████   | 71/100 [00:22<00:09,  2.97trial/s, best loss: 2.1243067247185285]2024-04-03 16:11:31,514 - build_posterior_wrapper took 0.000998 seconds\n",
      "2024-04-03 16:11:31,515 - TPE using 71/71 trials with best loss 2.124307\n",
      " 72%|███████▏  | 72/100 [00:22<00:09,  3.04trial/s, best loss: 2.1243067247185285]2024-04-03 16:11:31,824 - build_posterior_wrapper took 0.000998 seconds\n",
      "2024-04-03 16:11:31,825 - TPE using 72/72 trials with best loss 2.124307\n",
      " 73%|███████▎  | 73/100 [00:22<00:08,  3.14trial/s, best loss: 2.1243067247185285]2024-04-03 16:11:32,119 - build_posterior_wrapper took 0.000997 seconds\n",
      "2024-04-03 16:11:32,119 - TPE using 73/73 trials with best loss 2.124307\n",
      " 74%|███████▍  | 74/100 [00:23<00:08,  3.20trial/s, best loss: 2.1243067247185285]2024-04-03 16:11:32,415 - build_posterior_wrapper took 0.000998 seconds\n",
      "2024-04-03 16:11:32,416 - TPE using 74/74 trials with best loss 2.124307\n",
      " 75%|███████▌  | 75/100 [00:23<00:07,  3.19trial/s, best loss: 2.1243067247185285]2024-04-03 16:11:32,731 - build_posterior_wrapper took 0.000998 seconds\n",
      "2024-04-03 16:11:32,732 - TPE using 75/75 trials with best loss 2.124307\n",
      " 76%|███████▌  | 76/100 [00:23<00:07,  3.24trial/s, best loss: 2.1161397699829587]2024-04-03 16:11:33,029 - build_posterior_wrapper took 0.000997 seconds\n",
      "2024-04-03 16:11:33,029 - TPE using 76/76 trials with best loss 2.116140\n",
      " 77%|███████▋  | 77/100 [00:24<00:07,  3.09trial/s, best loss: 2.1161397699829587]2024-04-03 16:11:33,387 - build_posterior_wrapper took 0.000995 seconds\n",
      "2024-04-03 16:11:33,388 - TPE using 77/77 trials with best loss 2.116140\n",
      " 78%|███████▊  | 78/100 [00:24<00:07,  3.13trial/s, best loss: 2.1161397699829587]2024-04-03 16:11:33,697 - build_posterior_wrapper took 0.000998 seconds\n",
      "2024-04-03 16:11:33,698 - TPE using 78/78 trials with best loss 2.116140\n",
      " 79%|███████▉  | 79/100 [00:24<00:06,  3.14trial/s, best loss: 2.1161397699829587]2024-04-03 16:11:34,013 - build_posterior_wrapper took 0.000998 seconds\n",
      "2024-04-03 16:11:34,013 - TPE using 79/79 trials with best loss 2.116140\n",
      " 80%|████████  | 80/100 [00:24<00:06,  3.17trial/s, best loss: 2.1161397699829587]2024-04-03 16:11:34,321 - build_posterior_wrapper took 0.000997 seconds\n",
      "2024-04-03 16:11:34,322 - TPE using 80/80 trials with best loss 2.116140\n",
      " 81%|████████  | 81/100 [00:25<00:05,  3.17trial/s, best loss: 2.1161397699829587]2024-04-03 16:11:34,636 - build_posterior_wrapper took 0.000998 seconds\n",
      "2024-04-03 16:11:34,637 - TPE using 81/81 trials with best loss 2.116140\n",
      " 82%|████████▏ | 82/100 [00:25<00:05,  3.13trial/s, best loss: 2.1161397699829587]2024-04-03 16:11:34,967 - build_posterior_wrapper took 0.000998 seconds\n",
      "2024-04-03 16:11:34,967 - TPE using 82/82 trials with best loss 2.116140\n",
      " 83%|████████▎ | 83/100 [00:25<00:05,  3.16trial/s, best loss: 2.1161397699829587]2024-04-03 16:11:35,275 - build_posterior_wrapper took 0.000998 seconds\n",
      "2024-04-03 16:11:35,276 - TPE using 83/83 trials with best loss 2.116140\n",
      " 84%|████████▍ | 84/100 [00:26<00:05,  3.17trial/s, best loss: 2.1161397699829587]2024-04-03 16:11:35,588 - build_posterior_wrapper took 0.000998 seconds\n",
      "2024-04-03 16:11:35,589 - TPE using 84/84 trials with best loss 2.116140\n",
      " 85%|████████▌ | 85/100 [00:26<00:04,  3.18trial/s, best loss: 2.1161397699829587]2024-04-03 16:11:35,899 - build_posterior_wrapper took 0.000000 seconds\n",
      "2024-04-03 16:11:35,900 - TPE using 85/85 trials with best loss 2.116140\n",
      " 86%|████████▌ | 86/100 [00:26<00:04,  3.19trial/s, best loss: 2.1161397699829587]2024-04-03 16:11:36,213 - build_posterior_wrapper took 0.000998 seconds\n",
      "2024-04-03 16:11:36,213 - TPE using 86/86 trials with best loss 2.116140\n",
      " 87%|████████▋ | 87/100 [00:27<00:04,  3.11trial/s, best loss: 2.1161397699829587]2024-04-03 16:11:36,552 - build_posterior_wrapper took 0.000998 seconds\n",
      "2024-04-03 16:11:36,553 - TPE using 87/87 trials with best loss 2.116140\n",
      " 88%|████████▊ | 88/100 [00:27<00:03,  3.14trial/s, best loss: 2.1161397699829587]2024-04-03 16:11:36,862 - build_posterior_wrapper took 0.000997 seconds\n",
      "2024-04-03 16:11:36,862 - TPE using 88/88 trials with best loss 2.116140\n",
      " 89%|████████▉ | 89/100 [00:27<00:03,  3.16trial/s, best loss: 2.1161397699829587]2024-04-03 16:11:37,175 - build_posterior_wrapper took 0.000998 seconds\n",
      "2024-04-03 16:11:37,176 - TPE using 89/89 trials with best loss 2.116140\n",
      " 90%|█████████ | 90/100 [00:28<00:03,  3.18trial/s, best loss: 2.1161397699829587]2024-04-03 16:11:37,487 - build_posterior_wrapper took 0.000997 seconds\n",
      "2024-04-03 16:11:37,487 - TPE using 90/90 trials with best loss 2.116140\n",
      " 91%|█████████ | 91/100 [00:28<00:02,  3.15trial/s, best loss: 2.1161397699829587]2024-04-03 16:11:37,809 - build_posterior_wrapper took 0.000000 seconds\n",
      "2024-04-03 16:11:37,810 - TPE using 91/91 trials with best loss 2.116140\n",
      " 92%|█████████▏| 92/100 [00:28<00:02,  3.17trial/s, best loss: 2.1161397699829587]2024-04-03 16:11:38,121 - build_posterior_wrapper took 0.000998 seconds\n",
      "2024-04-03 16:11:38,122 - TPE using 92/92 trials with best loss 2.116140\n",
      " 93%|█████████▎| 93/100 [00:29<00:02,  3.18trial/s, best loss: 2.1161397699829587]2024-04-03 16:11:38,434 - build_posterior_wrapper took 0.000998 seconds\n",
      "2024-04-03 16:11:38,435 - TPE using 93/93 trials with best loss 2.116140\n",
      " 94%|█████████▍| 94/100 [00:29<00:01,  3.18trial/s, best loss: 2.1161397699829587]2024-04-03 16:11:38,747 - build_posterior_wrapper took 0.000996 seconds\n",
      "2024-04-03 16:11:38,747 - TPE using 94/94 trials with best loss 2.116140\n",
      " 95%|█████████▌| 95/100 [00:29<00:01,  3.19trial/s, best loss: 2.1161397699829587]2024-04-03 16:11:39,058 - build_posterior_wrapper took 0.000997 seconds\n",
      "2024-04-03 16:11:39,059 - TPE using 95/95 trials with best loss 2.116140\n",
      " 96%|█████████▌| 96/100 [00:30<00:01,  3.15trial/s, best loss: 2.1161397699829587]2024-04-03 16:11:39,386 - build_posterior_wrapper took 0.000997 seconds\n",
      "2024-04-03 16:11:39,387 - TPE using 96/96 trials with best loss 2.116140\n",
      " 97%|█████████▋| 97/100 [00:30<00:00,  3.17trial/s, best loss: 2.1161397699829587]2024-04-03 16:11:39,697 - build_posterior_wrapper took 0.000997 seconds\n",
      "2024-04-03 16:11:39,697 - TPE using 97/97 trials with best loss 2.116140\n",
      " 98%|█████████▊| 98/100 [00:30<00:00,  3.22trial/s, best loss: 2.1161397699829587]2024-04-03 16:11:39,996 - build_posterior_wrapper took 0.000997 seconds\n",
      "2024-04-03 16:11:39,996 - TPE using 98/98 trials with best loss 2.116140\n",
      " 99%|█████████▉| 99/100 [00:30<00:00,  3.21trial/s, best loss: 2.1161397699829587]2024-04-03 16:11:40,310 - build_posterior_wrapper took 0.000997 seconds\n",
      "2024-04-03 16:11:40,310 - TPE using 99/99 trials with best loss 2.116140\n",
      "100%|██████████| 100/100 [00:31<00:00,  3.19trial/s, best loss: 2.1161397699829587]\n",
      "2024-04-03 16:11:40,621 - SequentialTuner - Hyperparameters optimization finished\n",
      "2024-04-03 16:11:40,917 - SequentialTuner - Return tuned graph due to the fact that obtained metric 2.199 equal or better than initial (+ 0.05% deviation) 2.474\n",
      "2024-04-03 16:11:40,918 - SequentialTuner - Final graph: {'depth': 2, 'length': 2, 'nodes': [treg, quantile_extractor]}\n",
      "treg - {'bootstrap': False, 'max_features': 0.48559442827427857, 'min_samples_leaf': 3, 'min_samples_split': 5}\n",
      "quantile_extractor - {'stride': 6, 'window_size': 0}\n",
      "2024-04-03 16:11:40,918 - SequentialTuner - Final metric: 2.199\n",
      "2024-04-03 16:11:41,220 - DataSourceSplitter - Stratificated splitting of data is disabled.\n",
      "2024-04-03 16:11:41,221 - DataSourceSplitter - Hold out validation is applied.\n",
      "2024-04-03 16:11:41,224 - SimultaneousTuner - Hyperparameters optimization start: estimation of metric for initial graph\n",
      "2024-04-03 16:11:41,528 - SimultaneousTuner - Initial graph: {'depth': 2, 'length': 2, 'nodes': [treg, quantile_extractor]}\n",
      "treg - {'bootstrap': False, 'max_features': 0.48559442827427857, 'min_samples_leaf': 3, 'min_samples_split': 5}\n",
      "quantile_extractor - {'stride': 6, 'window_size': 0} \n",
      "Initial metric: [2.156]\n",
      "  0%|          | 0/1 [00:00<?, ?trial/s, best loss=?]2024-04-03 16:11:41,535 - build_posterior_wrapper took 0.001996 seconds\n",
      "2024-04-03 16:11:41,536 - TPE using 0 trials\n",
      "100%|██████████| 1/1 [00:00<00:00,  3.45trial/s, best loss: 2.1256756901992366]\n",
      "  0%|          | 1/200 [00:00<?, ?trial/s, best loss=?]2024-04-03 16:11:41,829 - build_posterior_wrapper took 0.001995 seconds\n",
      "2024-04-03 16:11:41,830 - TPE using 1/1 trials with best loss 2.125676\n",
      "  1%|          | 2/200 [00:00<02:46,  1.19trial/s, best loss: 2.1256756901992366]2024-04-03 16:11:42,670 - build_posterior_wrapper took 0.001995 seconds\n",
      "2024-04-03 16:11:42,671 - TPE using 2/2 trials with best loss 2.125676\n",
      "  2%|▏         | 3/200 [00:01<01:54,  1.71trial/s, best loss: 2.1256756901992366]2024-04-03 16:11:43,074 - build_posterior_wrapper took 0.001995 seconds\n",
      "2024-04-03 16:11:43,075 - TPE using 3/3 trials with best loss 2.125676\n",
      "  2%|▏         | 4/200 [00:01<01:37,  2.00trial/s, best loss: 2.1256756901992366]2024-04-03 16:11:43,475 - build_posterior_wrapper took 0.002110 seconds\n",
      "2024-04-03 16:11:43,475 - TPE using 4/4 trials with best loss 2.125676\n",
      "  2%|▎         | 5/200 [00:02<01:28,  2.22trial/s, best loss: 2.1256756901992366]2024-04-03 16:11:43,851 - build_posterior_wrapper took 0.001995 seconds\n",
      "2024-04-03 16:11:43,852 - TPE using 5/5 trials with best loss 2.125676\n",
      "  3%|▎         | 6/200 [00:02<01:27,  2.21trial/s, best loss: 2.1256756901992366]2024-04-03 16:11:44,306 - build_posterior_wrapper took 0.001995 seconds\n",
      "2024-04-03 16:11:44,306 - TPE using 6/6 trials with best loss 2.125676\n",
      "  4%|▎         | 7/200 [00:02<01:24,  2.29trial/s, best loss: 2.1256756901992366]2024-04-03 16:11:44,713 - build_posterior_wrapper took 0.000998 seconds\n",
      "2024-04-03 16:11:44,714 - TPE using 7/7 trials with best loss 2.125676\n",
      "  4%|▍         | 8/200 [00:03<01:32,  2.07trial/s, best loss: 2.1256756901992366]2024-04-03 16:11:45,294 - build_posterior_wrapper took 0.001995 seconds\n",
      "2024-04-03 16:11:45,295 - TPE using 8/8 trials with best loss 2.125676\n",
      "  4%|▍         | 9/200 [00:03<01:24,  2.25trial/s, best loss: 2.1256756901992366]2024-04-03 16:11:45,652 - build_posterior_wrapper took 0.001995 seconds\n",
      "2024-04-03 16:11:45,653 - TPE using 9/9 trials with best loss 2.125676\n",
      "  5%|▌         | 10/200 [00:04<01:18,  2.43trial/s, best loss: 2.1256756901992366]2024-04-03 16:11:45,993 - build_posterior_wrapper took 0.000998 seconds\n",
      "2024-04-03 16:11:45,994 - TPE using 10/10 trials with best loss 2.125676\n",
      "  6%|▌         | 11/200 [00:04<01:16,  2.46trial/s, best loss: 2.1256756901992366]2024-04-03 16:11:46,386 - build_posterior_wrapper took 0.001995 seconds\n",
      "2024-04-03 16:11:46,386 - TPE using 11/11 trials with best loss 2.125676\n",
      "  6%|▌         | 12/200 [00:04<01:14,  2.53trial/s, best loss: 2.1256756901992366]2024-04-03 16:11:46,757 - build_posterior_wrapper took 0.001995 seconds\n",
      "2024-04-03 16:11:46,758 - TPE using 12/12 trials with best loss 2.125676\n",
      "  6%|▋         | 13/200 [00:05<01:20,  2.34trial/s, best loss: 2.1256756901992366]2024-04-03 16:11:47,261 - build_posterior_wrapper took 0.001995 seconds\n",
      "2024-04-03 16:11:47,261 - TPE using 13/13 trials with best loss 2.125676\n",
      "  7%|▋         | 14/200 [00:05<01:22,  2.25trial/s, best loss: 2.1256756901992366]2024-04-03 16:11:47,743 - build_posterior_wrapper took 0.001995 seconds\n",
      "2024-04-03 16:11:47,744 - TPE using 14/14 trials with best loss 2.125676\n",
      "  8%|▊         | 15/200 [00:06<01:14,  2.50trial/s, best loss: 2.1256756901992366]2024-04-03 16:11:48,042 - build_posterior_wrapper took 0.001995 seconds\n",
      "2024-04-03 16:11:48,043 - TPE using 15/15 trials with best loss 2.125676\n",
      "  8%|▊         | 16/200 [00:06<01:12,  2.55trial/s, best loss: 2.1256756901992366]2024-04-03 16:11:48,418 - build_posterior_wrapper took 0.001994 seconds\n",
      "2024-04-03 16:11:48,419 - TPE using 16/16 trials with best loss 2.125676\n",
      "  8%|▊         | 17/200 [00:06<01:12,  2.52trial/s, best loss: 2.1256756901992366]2024-04-03 16:11:48,821 - build_posterior_wrapper took 0.001995 seconds\n",
      "2024-04-03 16:11:48,822 - TPE using 17/17 trials with best loss 2.125676\n",
      "  9%|▉         | 18/200 [00:07<01:17,  2.34trial/s, best loss: 2.1256756901992366]2024-04-03 16:11:49,321 - build_posterior_wrapper took 0.001995 seconds\n",
      "2024-04-03 16:11:49,322 - TPE using 18/18 trials with best loss 2.125676\n",
      " 10%|▉         | 19/200 [00:08<01:31,  1.97trial/s, best loss: 2.1256756901992366]2024-04-03 16:11:50,015 - build_posterior_wrapper took 0.001995 seconds\n",
      "2024-04-03 16:11:50,016 - TPE using 19/19 trials with best loss 2.125676\n",
      " 10%|█         | 20/200 [00:08<01:22,  2.17trial/s, best loss: 2.1256756901992366]2024-04-03 16:11:50,369 - build_posterior_wrapper took 0.001995 seconds\n",
      "2024-04-03 16:11:50,369 - TPE using 20/20 trials with best loss 2.125676\n",
      " 10%|█         | 21/200 [00:08<01:18,  2.28trial/s, best loss: 2.1256756901992366]2024-04-03 16:11:50,756 - build_posterior_wrapper took 0.000997 seconds\n",
      "2024-04-03 16:11:50,757 - TPE using 21/21 trials with best loss 2.125676\n",
      " 11%|█         | 22/200 [00:09<01:15,  2.35trial/s, best loss: 2.1256756901992366]2024-04-03 16:11:51,150 - build_posterior_wrapper took 0.001995 seconds\n",
      "2024-04-03 16:11:51,150 - TPE using 22/22 trials with best loss 2.125676\n",
      " 12%|█▏        | 23/200 [00:09<01:12,  2.44trial/s, best loss: 2.1256756901992366]2024-04-03 16:11:51,526 - build_posterior_wrapper took 0.001994 seconds\n",
      "2024-04-03 16:11:51,526 - TPE using 23/23 trials with best loss 2.125676\n",
      " 12%|█▏        | 24/200 [00:10<01:10,  2.50trial/s, best loss: 2.1256756901992366]2024-04-03 16:11:51,902 - build_posterior_wrapper took 0.001995 seconds\n",
      "2024-04-03 16:11:51,903 - TPE using 24/24 trials with best loss 2.125676\n",
      " 12%|█▎        | 25/200 [00:10<01:08,  2.55trial/s, best loss: 2.1256756901992366]2024-04-03 16:11:52,276 - build_posterior_wrapper took 0.001995 seconds\n",
      "2024-04-03 16:11:52,276 - TPE using 25/25 trials with best loss 2.125676\n",
      " 13%|█▎        | 26/200 [00:10<01:06,  2.61trial/s, best loss: 2.1256756901992366]2024-04-03 16:11:52,635 - build_posterior_wrapper took 0.001996 seconds\n",
      "2024-04-03 16:11:52,635 - TPE using 26/26 trials with best loss 2.125676\n",
      " 14%|█▎        | 27/200 [00:11<01:06,  2.59trial/s, best loss: 2.1256756901992366]2024-04-03 16:11:53,029 - build_posterior_wrapper took 0.000998 seconds\n",
      "2024-04-03 16:11:53,030 - TPE using 27/27 trials with best loss 2.125676\n",
      " 14%|█▍        | 28/200 [00:11<01:06,  2.58trial/s, best loss: 2.1256756901992366]2024-04-03 16:11:53,419 - build_posterior_wrapper took 0.001995 seconds\n",
      "2024-04-03 16:11:53,420 - TPE using 28/28 trials with best loss 2.125676\n",
      " 14%|█▍        | 29/200 [00:12<01:29,  1.91trial/s, best loss: 2.1256756901992366]2024-04-03 16:11:54,262 - build_posterior_wrapper took 0.001996 seconds\n",
      "2024-04-03 16:11:54,263 - TPE using 29/29 trials with best loss 2.125676\n",
      " 15%|█▌        | 30/200 [00:12<01:20,  2.10trial/s, best loss: 2.1256756901992366]2024-04-03 16:11:54,623 - build_posterior_wrapper took 0.001995 seconds\n",
      "2024-04-03 16:11:54,624 - TPE using 30/30 trials with best loss 2.125676\n",
      " 16%|█▌        | 31/200 [00:13<01:16,  2.20trial/s, best loss: 2.1256756901992366]2024-04-03 16:11:55,027 - build_posterior_wrapper took 0.001994 seconds\n",
      "2024-04-03 16:11:55,027 - TPE using 31/31 trials with best loss 2.125676\n",
      " 16%|█▌        | 32/200 [00:13<01:09,  2.43trial/s, best loss: 2.1256756901992366]2024-04-03 16:11:55,340 - build_posterior_wrapper took 0.001995 seconds\n",
      "2024-04-03 16:11:55,340 - TPE using 32/32 trials with best loss 2.125676\n",
      " 16%|█▋        | 33/200 [00:13<01:07,  2.47trial/s, best loss: 2.1256756901992366]2024-04-03 16:11:55,728 - build_posterior_wrapper took 0.001995 seconds\n",
      "2024-04-03 16:11:55,729 - TPE using 33/33 trials with best loss 2.125676\n",
      " 17%|█▋        | 34/200 [00:14<01:09,  2.39trial/s, best loss: 2.1256756901992366]2024-04-03 16:11:56,179 - build_posterior_wrapper took 0.001995 seconds\n",
      "2024-04-03 16:11:56,179 - TPE using 34/34 trials with best loss 2.125676\n",
      " 18%|█▊        | 35/200 [00:14<01:07,  2.46trial/s, best loss: 2.1256756901992366]2024-04-03 16:11:56,560 - build_posterior_wrapper took 0.001995 seconds\n",
      "2024-04-03 16:11:56,560 - TPE using 35/35 trials with best loss 2.125676\n",
      " 18%|█▊        | 36/200 [00:15<01:15,  2.16trial/s, best loss: 2.1256756901992366]2024-04-03 16:11:57,154 - build_posterior_wrapper took 0.001557 seconds\n",
      "2024-04-03 16:11:57,155 - TPE using 36/36 trials with best loss 2.125676\n",
      " 18%|█▊        | 37/200 [00:15<01:16,  2.13trial/s, best loss: 2.1256756901992366]2024-04-03 16:11:57,635 - build_posterior_wrapper took 0.001995 seconds\n",
      "2024-04-03 16:11:57,635 - TPE using 37/37 trials with best loss 2.125676\n",
      " 19%|█▉        | 38/200 [00:16<01:12,  2.24trial/s, best loss: 2.1256756901992366]2024-04-03 16:11:58,028 - build_posterior_wrapper took 0.001995 seconds\n",
      "2024-04-03 16:11:58,029 - TPE using 38/38 trials with best loss 2.125676\n",
      " 20%|█▉        | 39/200 [00:16<01:09,  2.33trial/s, best loss: 2.1256756901992366]2024-04-03 16:11:58,419 - build_posterior_wrapper took 0.001995 seconds\n",
      "2024-04-03 16:11:58,419 - TPE using 39/39 trials with best loss 2.125676\n",
      " 20%|██        | 40/200 [00:16<01:07,  2.37trial/s, best loss: 2.1256756901992366]2024-04-03 16:11:58,823 - build_posterior_wrapper took 0.001994 seconds\n",
      "2024-04-03 16:11:58,824 - TPE using 40/40 trials with best loss 2.125676\n",
      " 20%|██        | 41/200 [00:17<01:22,  1.92trial/s, best loss: 2.1256756901992366]2024-04-03 16:11:59,572 - build_posterior_wrapper took 0.001995 seconds\n",
      "2024-04-03 16:11:59,573 - TPE using 41/41 trials with best loss 2.125676\n",
      " 21%|██        | 42/200 [00:18<01:16,  2.06trial/s, best loss: 2.1256756901992366]2024-04-03 16:11:59,976 - build_posterior_wrapper took 0.001994 seconds\n",
      "2024-04-03 16:11:59,976 - TPE using 42/42 trials with best loss 2.125676\n",
      " 22%|██▏       | 43/200 [00:18<01:10,  2.24trial/s, best loss: 2.1256756901992366]2024-04-03 16:12:00,336 - build_posterior_wrapper took 0.001995 seconds\n",
      "2024-04-03 16:12:00,336 - TPE using 43/43 trials with best loss 2.125676\n",
      " 22%|██▏       | 44/200 [00:19<01:14,  2.10trial/s, best loss: 2.1256756901992366]2024-04-03 16:12:00,882 - build_posterior_wrapper took 0.001995 seconds\n",
      "2024-04-03 16:12:00,882 - TPE using 44/44 trials with best loss 2.125676\n",
      " 22%|██▎       | 45/200 [00:19<01:15,  2.06trial/s, best loss: 2.1256756901992366]2024-04-03 16:12:01,386 - build_posterior_wrapper took 0.001997 seconds\n",
      "2024-04-03 16:12:01,387 - TPE using 45/45 trials with best loss 2.125676\n",
      " 23%|██▎       | 46/200 [00:20<01:14,  2.08trial/s, best loss: 2.1256756901992366]2024-04-03 16:12:01,857 - build_posterior_wrapper took 0.001994 seconds\n",
      "2024-04-03 16:12:01,858 - TPE using 46/46 trials with best loss 2.125676\n",
      " 24%|██▎       | 47/200 [00:20<01:08,  2.23trial/s, best loss: 2.1256756901992366]2024-04-03 16:12:02,230 - build_posterior_wrapper took 0.001995 seconds\n",
      "2024-04-03 16:12:02,231 - TPE using 47/47 trials with best loss 2.125676\n",
      " 24%|██▍       | 48/200 [00:20<01:06,  2.28trial/s, best loss: 2.1256756901992366]2024-04-03 16:12:02,647 - build_posterior_wrapper took 0.001995 seconds\n",
      "2024-04-03 16:12:02,647 - TPE using 48/48 trials with best loss 2.125676\n",
      " 24%|██▍       | 49/200 [00:21<01:04,  2.35trial/s, best loss: 2.1256756901992366]2024-04-03 16:12:03,039 - build_posterior_wrapper took 0.001994 seconds\n",
      "2024-04-03 16:12:03,040 - TPE using 49/49 trials with best loss 2.125676\n",
      " 25%|██▌       | 50/200 [00:21<01:06,  2.24trial/s, best loss: 2.1256756901992366]2024-04-03 16:12:03,536 - build_posterior_wrapper took 0.001995 seconds\n",
      "2024-04-03 16:12:03,537 - TPE using 50/50 trials with best loss 2.125676\n",
      " 26%|██▌       | 51/200 [00:22<01:03,  2.35trial/s, best loss: 2.1256756901992366]2024-04-03 16:12:03,913 - build_posterior_wrapper took 0.001995 seconds\n",
      "2024-04-03 16:12:03,913 - TPE using 51/51 trials with best loss 2.125676\n",
      " 26%|██▌       | 52/200 [00:22<01:18,  1.89trial/s, best loss: 2.1256756901992366]2024-04-03 16:12:04,681 - build_posterior_wrapper took 0.001995 seconds\n",
      "2024-04-03 16:12:04,682 - TPE using 52/52 trials with best loss 2.125676\n",
      " 26%|██▋       | 53/200 [00:23<01:21,  1.80trial/s, best loss: 2.1256756901992366]2024-04-03 16:12:05,294 - build_posterior_wrapper took 0.000998 seconds\n",
      "2024-04-03 16:12:05,295 - TPE using 53/53 trials with best loss 2.125676\n",
      " 27%|██▋       | 54/200 [00:23<01:12,  2.02trial/s, best loss: 2.1256756901992366]2024-04-03 16:12:05,653 - build_posterior_wrapper took 0.001996 seconds\n",
      "2024-04-03 16:12:05,654 - TPE using 54/54 trials with best loss 2.125676\n",
      " 28%|██▊       | 55/200 [00:24<01:03,  2.27trial/s, best loss: 2.1256756901992366]2024-04-03 16:12:05,965 - build_posterior_wrapper took 0.001996 seconds\n",
      "2024-04-03 16:12:05,966 - TPE using 55/55 trials with best loss 2.125676\n",
      " 28%|██▊       | 56/200 [00:24<01:01,  2.33trial/s, best loss: 2.1256756901992366]2024-04-03 16:12:06,369 - build_posterior_wrapper took 0.001995 seconds\n",
      "2024-04-03 16:12:06,370 - TPE using 56/56 trials with best loss 2.125676\n",
      " 28%|██▊       | 57/200 [00:24<00:58,  2.45trial/s, best loss: 2.1256756901992366]2024-04-03 16:12:06,726 - build_posterior_wrapper took 0.001995 seconds\n",
      "2024-04-03 16:12:06,727 - TPE using 57/57 trials with best loss 2.125676\n",
      " 29%|██▉       | 58/200 [00:25<00:57,  2.45trial/s, best loss: 2.1256756901992366]2024-04-03 16:12:07,134 - build_posterior_wrapper took 0.001995 seconds\n",
      "2024-04-03 16:12:07,135 - TPE using 58/58 trials with best loss 2.125676\n",
      " 30%|██▉       | 59/200 [00:25<00:55,  2.55trial/s, best loss: 2.1256756901992366]2024-04-03 16:12:07,492 - build_posterior_wrapper took 0.001994 seconds\n",
      "2024-04-03 16:12:07,492 - TPE using 59/59 trials with best loss 2.125676\n",
      " 30%|███       | 60/200 [00:26<00:54,  2.59trial/s, best loss: 2.1256756901992366]2024-04-03 16:12:07,864 - build_posterior_wrapper took 0.002001 seconds\n",
      "2024-04-03 16:12:07,864 - TPE using 60/60 trials with best loss 2.125676\n",
      " 30%|███       | 61/200 [00:26<00:56,  2.46trial/s, best loss: 2.1256756901992366]2024-04-03 16:12:08,316 - build_posterior_wrapper took 0.001987 seconds\n",
      "2024-04-03 16:12:08,317 - TPE using 61/61 trials with best loss 2.125676\n",
      " 31%|███       | 62/200 [00:26<00:57,  2.40trial/s, best loss: 2.1256756901992366]2024-04-03 16:12:08,757 - build_posterior_wrapper took 0.001994 seconds\n",
      "2024-04-03 16:12:08,757 - TPE using 62/62 trials with best loss 2.125676\n",
      " 32%|███▏      | 63/200 [00:27<01:16,  1.80trial/s, best loss: 2.1256756901992366]2024-04-03 16:12:09,637 - build_posterior_wrapper took 0.001995 seconds\n",
      "2024-04-03 16:12:09,638 - TPE using 63/63 trials with best loss 2.125676\n",
      " 32%|███▏      | 64/200 [00:28<01:08,  1.99trial/s, best loss: 2.1256756901992366]2024-04-03 16:12:10,015 - build_posterior_wrapper took 0.001996 seconds\n",
      "2024-04-03 16:12:10,016 - TPE using 64/64 trials with best loss 2.125676\n",
      " 32%|███▎      | 65/200 [00:28<01:10,  1.93trial/s, best loss: 2.1256756901992366]2024-04-03 16:12:10,574 - build_posterior_wrapper took 0.001995 seconds\n",
      "2024-04-03 16:12:10,575 - TPE using 65/65 trials with best loss 2.125676\n",
      " 33%|███▎      | 66/200 [00:29<01:01,  2.18trial/s, best loss: 2.1256756901992366]2024-04-03 16:12:10,888 - build_posterior_wrapper took 0.001995 seconds\n",
      "2024-04-03 16:12:10,888 - TPE using 66/66 trials with best loss 2.125676\n",
      " 34%|███▎      | 67/200 [00:29<00:55,  2.41trial/s, best loss: 2.1256756901992366]2024-04-03 16:12:11,201 - build_posterior_wrapper took 0.001994 seconds\n",
      "2024-04-03 16:12:11,202 - TPE using 67/67 trials with best loss 2.125676\n",
      " 34%|███▍      | 68/200 [00:29<00:50,  2.61trial/s, best loss: 2.1256756901992366]2024-04-03 16:12:11,510 - build_posterior_wrapper took 0.001995 seconds\n",
      "2024-04-03 16:12:11,510 - TPE using 68/68 trials with best loss 2.125676\n",
      " 34%|███▍      | 69/200 [00:29<00:47,  2.77trial/s, best loss: 2.1256756901992366]2024-04-03 16:12:11,818 - build_posterior_wrapper took 0.000998 seconds\n",
      "2024-04-03 16:12:11,819 - TPE using 69/69 trials with best loss 2.125676\n",
      " 35%|███▌      | 70/200 [00:30<00:48,  2.66trial/s, best loss: 2.1256756901992366]2024-04-03 16:12:12,230 - build_posterior_wrapper took 0.001995 seconds\n",
      "2024-04-03 16:12:12,230 - TPE using 70/70 trials with best loss 2.125676\n",
      " 36%|███▌      | 71/200 [00:30<00:52,  2.45trial/s, best loss: 2.1256756901992366]2024-04-03 16:12:12,713 - build_posterior_wrapper took 0.001996 seconds\n",
      "2024-04-03 16:12:12,714 - TPE using 71/71 trials with best loss 2.125676\n",
      " 36%|███▌      | 72/200 [00:31<00:52,  2.45trial/s, best loss: 2.1256756901992366]2024-04-03 16:12:13,120 - build_posterior_wrapper took 0.001995 seconds\n",
      "2024-04-03 16:12:13,120 - TPE using 72/72 trials with best loss 2.125676\n",
      " 36%|███▋      | 73/200 [00:31<00:50,  2.54trial/s, best loss: 2.1256756901992366]2024-04-03 16:12:13,482 - build_posterior_wrapper took 0.001995 seconds\n",
      "2024-04-03 16:12:13,482 - TPE using 73/73 trials with best loss 2.125676\n",
      " 37%|███▋      | 74/200 [00:32<00:49,  2.55trial/s, best loss: 2.1256756901992366]2024-04-03 16:12:13,868 - build_posterior_wrapper took 0.001994 seconds\n",
      "2024-04-03 16:12:13,868 - TPE using 74/74 trials with best loss 2.125676\n",
      " 38%|███▊      | 75/200 [00:32<00:46,  2.71trial/s, best loss: 2.1256756901992366]2024-04-03 16:12:14,183 - build_posterior_wrapper took 0.001995 seconds\n",
      "2024-04-03 16:12:14,184 - TPE using 75/75 trials with best loss 2.125676\n",
      "2024-04-03 16:12:14,650 - Early stop triggered. Stopping iterations as condition is reach.\n",
      " 38%|███▊      | 76/200 [00:32<00:54,  2.28trial/s, best loss: 2.1256756901992366]\n",
      "2024-04-03 16:12:14,653 - SimultaneousTuner - Hyperparameters optimization finished\n",
      "2024-04-03 16:12:14,949 - SimultaneousTuner - Return init graph due to the fact that obtained metric 2.177 worse than initial (+ 0.05% deviation) 2.155\n",
      "2024-04-03 16:12:14,950 - SimultaneousTuner - Final graph: {'depth': 2, 'length': 2, 'nodes': [treg, quantile_extractor]}\n",
      "treg - {'bootstrap': False, 'max_features': 0.48559442827427857, 'min_samples_leaf': 3, 'min_samples_split': 5}\n",
      "quantile_extractor - {'stride': 6, 'window_size': 0}\n",
      "2024-04-03 16:12:14,950 - SimultaneousTuner - Final metric: 2.156\n",
      "2024-04-03 16:12:15,284 - DataSourceSplitter - Stratificated splitting of data is disabled.\n",
      "2024-04-03 16:12:15,286 - DataSourceSplitter - Hold out validation is applied.\n",
      "2024-04-03 16:12:15,288 - OptunaTuner - Hyperparameters optimization start: estimation of metric for initial graph\n",
      "2024-04-03 16:12:15,621 - OptunaTuner - Initial graph: {'depth': 2, 'length': 2, 'nodes': [treg, quantile_extractor]}\n",
      "treg - {'bootstrap': False, 'max_features': 0.48559442827427857, 'min_samples_leaf': 3, 'min_samples_split': 5}\n",
      "quantile_extractor - {'stride': 6, 'window_size': 0} \n",
      "Initial metric: [2.149]\n"
     ]
    },
    {
     "name": "stderr",
     "output_type": "stream",
     "text": [
      "[I 2024-04-03 16:12:15,622] A new study created in memory with name: no-name-8b21e0dd-690c-43b1-b10d-73d0ca077743\n"
     ]
    },
    {
     "data": {
      "text/plain": "  0%|          | 0/200 [00:00<?, ?it/s]",
      "application/vnd.jupyter.widget-view+json": {
       "version_major": 2,
       "version_minor": 0,
       "model_id": "b46462c6f2144961bac870d864006782"
      }
     },
     "metadata": {},
     "output_type": "display_data"
    },
    {
     "name": "stdout",
     "output_type": "stream",
     "text": [
      "[I 2024-04-03 16:12:17,581] Trial 7 finished with value: 2.445611769767872 and parameters: {'0 || treg | max_features': 0.8877983365258869, '0 || treg | min_samples_split': 9, '0 || treg | min_samples_leaf': 10, '0 || treg | bootstrap': False}. Best is trial 7 with value: 2.445611769767872.\n",
      "[I 2024-04-03 16:12:17,613] Trial 4 finished with value: 2.445611769767872 and parameters: {'0 || treg | max_features': 0.4825005163339129, '0 || treg | min_samples_split': 4, '0 || treg | min_samples_leaf': 7, '0 || treg | bootstrap': False}. Best is trial 7 with value: 2.445611769767872.\n",
      "[I 2024-04-03 16:12:17,721] Trial 3 finished with value: 2.445611769767872 and parameters: {'0 || treg | max_features': 0.9129674550392047, '0 || treg | min_samples_split': 8, '0 || treg | min_samples_leaf': 15, '0 || treg | bootstrap': False}. Best is trial 7 with value: 2.445611769767872.\n",
      "[I 2024-04-03 16:12:17,832] Trial 2 finished with value: 2.429942409634732 and parameters: {'0 || treg | max_features': 0.7350190352544014, '0 || treg | min_samples_split': 10, '0 || treg | min_samples_leaf': 19, '0 || treg | bootstrap': True}. Best is trial 2 with value: 2.429942409634732.\n",
      "[I 2024-04-03 16:12:17,987] Trial 1 finished with value: 2.4746870600260236 and parameters: {'0 || treg | max_features': 0.3603176738567611, '0 || treg | min_samples_split': 14, '0 || treg | min_samples_leaf': 4, '0 || treg | bootstrap': True}. Best is trial 2 with value: 2.429942409634732.\n",
      "[I 2024-04-03 16:12:18,103] Trial 5 finished with value: 2.445611769767872 and parameters: {'0 || treg | max_features': 0.6825979996272803, '0 || treg | min_samples_split': 13, '0 || treg | min_samples_leaf': 16, '0 || treg | bootstrap': False}. Best is trial 2 with value: 2.429942409634732.\n",
      "[I 2024-04-03 16:12:18,253] Trial 6 finished with value: 2.1931195542902633 and parameters: {'0 || treg | max_features': 0.3188502176234268, '0 || treg | min_samples_split': 3, '0 || treg | min_samples_leaf': 4, '0 || treg | bootstrap': False}. Best is trial 6 with value: 2.1931195542902633.\n",
      "[I 2024-04-03 16:12:18,365] Trial 0 finished with value: 2.1553545846843036 and parameters: {'0 || treg | max_features': 0.48559442827427857, '0 || treg | min_samples_split': 5, '0 || treg | min_samples_leaf': 3, '0 || treg | bootstrap': False}. Best is trial 0 with value: 2.1553545846843036.\n",
      "[I 2024-04-03 16:12:19,291] Trial 8 finished with value: 2.445611769767872 and parameters: {'0 || treg | max_features': 0.5854066210064762, '0 || treg | min_samples_split': 20, '0 || treg | min_samples_leaf': 19, '0 || treg | bootstrap': False}. Best is trial 0 with value: 2.1553545846843036.\n",
      "[I 2024-04-03 16:12:20,180] Trial 13 finished with value: 2.445611769767872 and parameters: {'0 || treg | max_features': 0.48809549001432156, '0 || treg | min_samples_split': 21, '0 || treg | min_samples_leaf': 21, '0 || treg | bootstrap': False}. Best is trial 0 with value: 2.1553545846843036.\n",
      "[I 2024-04-03 16:12:20,276] Trial 9 finished with value: 2.445611769767872 and parameters: {'0 || treg | max_features': 0.3793932700550612, '0 || treg | min_samples_split': 10, '0 || treg | min_samples_leaf': 20, '0 || treg | bootstrap': False}. Best is trial 0 with value: 2.1553545846843036.\n",
      "[I 2024-04-03 16:12:20,336] Trial 14 finished with value: 2.4169561554149834 and parameters: {'0 || treg | max_features': 0.42449414692597864, '0 || treg | min_samples_split': 11, '0 || treg | min_samples_leaf': 16, '0 || treg | bootstrap': True}. Best is trial 0 with value: 2.1553545846843036.\n",
      "[I 2024-04-03 16:12:20,385] Trial 12 finished with value: 2.4546553192529594 and parameters: {'0 || treg | max_features': 0.726475946087195, '0 || treg | min_samples_split': 15, '0 || treg | min_samples_leaf': 9, '0 || treg | bootstrap': True}. Best is trial 0 with value: 2.1553545846843036.\n",
      "[I 2024-04-03 16:12:20,437] Trial 10 finished with value: 2.354099990839437 and parameters: {'0 || treg | max_features': 0.07262156777613654, '0 || treg | min_samples_split': 8, '0 || treg | min_samples_leaf': 1, '0 || treg | bootstrap': True}. Best is trial 0 with value: 2.1553545846843036.\n",
      "[I 2024-04-03 16:12:20,494] Trial 11 finished with value: 2.4605046012675333 and parameters: {'0 || treg | max_features': 0.3902440971318589, '0 || treg | min_samples_split': 6, '0 || treg | min_samples_leaf': 18, '0 || treg | bootstrap': True}. Best is trial 0 with value: 2.1553545846843036.\n",
      "[I 2024-04-03 16:12:20,531] Trial 15 finished with value: 2.445611769767872 and parameters: {'0 || treg | max_features': 0.12717540890940546, '0 || treg | min_samples_split': 13, '0 || treg | min_samples_leaf': 12, '0 || treg | bootstrap': False}. Best is trial 0 with value: 2.1553545846843036.\n",
      "[I 2024-04-03 16:12:21,096] Trial 16 finished with value: 2.445611769767872 and parameters: {'0 || treg | max_features': 0.6248261488000517, '0 || treg | min_samples_split': 2, '0 || treg | min_samples_leaf': 9, '0 || treg | bootstrap': False}. Best is trial 0 with value: 2.1553545846843036.\n",
      "[I 2024-04-03 16:12:21,630] Trial 17 finished with value: 2.297394411346455 and parameters: {'0 || treg | max_features': 0.056846491208065564, '0 || treg | min_samples_split': 2, '0 || treg | min_samples_leaf': 2, '0 || treg | bootstrap': True}. Best is trial 0 with value: 2.1553545846843036.\n",
      "[I 2024-04-03 16:12:22,576] Trial 18 finished with value: 2.151348970400166 and parameters: {'0 || treg | max_features': 0.14781124275856794, '0 || treg | min_samples_split': 2, '0 || treg | min_samples_leaf': 2, '0 || treg | bootstrap': True}. Best is trial 18 with value: 2.151348970400166.\n",
      "[I 2024-04-03 16:12:22,688] Trial 23 finished with value: 2.1141366343320738 and parameters: {'0 || treg | max_features': 0.2191698481142519, '0 || treg | min_samples_split': 2, '0 || treg | min_samples_leaf': 2, '0 || treg | bootstrap': False}. Best is trial 23 with value: 2.1141366343320738.\n",
      "[I 2024-04-03 16:12:22,726] Trial 21 finished with value: 2.251026497764017 and parameters: {'0 || treg | max_features': 0.2396591831983816, '0 || treg | min_samples_split': 2, '0 || treg | min_samples_leaf': 1, '0 || treg | bootstrap': False}. Best is trial 23 with value: 2.1141366343320738.\n",
      "[I 2024-04-03 16:12:22,759] Trial 20 finished with value: 2.126882160072264 and parameters: {'0 || treg | max_features': 0.0597715659425902, '0 || treg | min_samples_split': 2, '0 || treg | min_samples_leaf': 1, '0 || treg | bootstrap': False}. Best is trial 23 with value: 2.1141366343320738.\n",
      "[I 2024-04-03 16:12:23,025] Trial 19 finished with value: 2.162926478400887 and parameters: {'0 || treg | max_features': 0.1077129827232205, '0 || treg | min_samples_split': 2, '0 || treg | min_samples_leaf': 1, '0 || treg | bootstrap': False}. Best is trial 23 with value: 2.1141366343320738.\n",
      "[I 2024-04-03 16:12:23,260] Trial 22 finished with value: 2.1990645653405534 and parameters: {'0 || treg | max_features': 0.20110194994051617, '0 || treg | min_samples_split': 2, '0 || treg | min_samples_leaf': 1, '0 || treg | bootstrap': False}. Best is trial 23 with value: 2.1141366343320738.\n",
      "[I 2024-04-03 16:12:23,495] Trial 24 finished with value: 2.238552779198512 and parameters: {'0 || treg | max_features': 0.21365434075031003, '0 || treg | min_samples_split': 2, '0 || treg | min_samples_leaf': 1, '0 || treg | bootstrap': False}. Best is trial 23 with value: 2.1141366343320738.\n",
      "[I 2024-04-03 16:12:23,542] Trial 25 finished with value: 2.2356393110693857 and parameters: {'0 || treg | max_features': 0.24501258463056996, '0 || treg | min_samples_split': 5, '0 || treg | min_samples_leaf': 5, '0 || treg | bootstrap': False}. Best is trial 23 with value: 2.1141366343320738.\n",
      "[I 2024-04-03 16:12:24,831] Trial 27 finished with value: 2.451917298581203 and parameters: {'0 || treg | max_features': 0.21643509589353987, '0 || treg | min_samples_split': 6, '0 || treg | min_samples_leaf': 6, '0 || treg | bootstrap': True}. Best is trial 23 with value: 2.1141366343320738.\n",
      "[I 2024-04-03 16:12:24,909] Trial 28 finished with value: 2.402680514163258 and parameters: {'0 || treg | max_features': 0.23358198861531185, '0 || treg | min_samples_split': 5, '0 || treg | min_samples_leaf': 5, '0 || treg | bootstrap': True}. Best is trial 23 with value: 2.1141366343320738.\n",
      "[I 2024-04-03 16:12:24,994] Trial 29 finished with value: 2.46364020080561 and parameters: {'0 || treg | max_features': 0.24268340122871218, '0 || treg | min_samples_split': 6, '0 || treg | min_samples_leaf': 6, '0 || treg | bootstrap': True}. Best is trial 23 with value: 2.1141366343320738.\n",
      "[I 2024-04-03 16:12:25,013] Trial 26 finished with value: 2.458950758848149 and parameters: {'0 || treg | max_features': 0.2219538480870265, '0 || treg | min_samples_split': 5, '0 || treg | min_samples_leaf': 6, '0 || treg | bootstrap': True}. Best is trial 23 with value: 2.1141366343320738.\n",
      "[I 2024-04-03 16:12:25,321] Trial 32 finished with value: 2.432174778344539 and parameters: {'0 || treg | max_features': 0.1782957033556613, '0 || treg | min_samples_split': 6, '0 || treg | min_samples_leaf': 6, '0 || treg | bootstrap': True}. Best is trial 23 with value: 2.1141366343320738.\n",
      "[I 2024-04-03 16:12:25,784] Trial 33 finished with value: 2.4396669564972044 and parameters: {'0 || treg | max_features': 0.1584398706688314, '0 || treg | min_samples_split': 6, '0 || treg | min_samples_leaf': 7, '0 || treg | bootstrap': True}. Best is trial 23 with value: 2.1141366343320738.\n",
      "[I 2024-04-03 16:12:25,827] Trial 30 finished with value: 2.4405240720224994 and parameters: {'0 || treg | max_features': 0.2186776265040412, '0 || treg | min_samples_split': 6, '0 || treg | min_samples_leaf': 6, '0 || treg | bootstrap': True}. Best is trial 23 with value: 2.1141366343320738.\n",
      "[I 2024-04-03 16:12:25,967] Trial 31 finished with value: 2.4615189544916642 and parameters: {'0 || treg | max_features': 0.24440499883808808, '0 || treg | min_samples_split': 6, '0 || treg | min_samples_leaf': 6, '0 || treg | bootstrap': True}. Best is trial 23 with value: 2.1141366343320738.\n",
      "[I 2024-04-03 16:12:26,608] Trial 36 finished with value: 2.280946376663744 and parameters: {'0 || treg | max_features': 0.1205017095538437, '0 || treg | min_samples_split': 4, '0 || treg | min_samples_leaf': 3, '0 || treg | bootstrap': True}. Best is trial 23 with value: 2.1141366343320738.\n",
      "[I 2024-04-03 16:12:26,845] Trial 37 finished with value: 2.173352623556462 and parameters: {'0 || treg | max_features': 0.1470139490820635, '0 || treg | min_samples_split': 4, '0 || treg | min_samples_leaf': 3, '0 || treg | bootstrap': False}. Best is trial 23 with value: 2.1141366343320738.\n",
      "[I 2024-04-03 16:12:27,027] Trial 34 finished with value: 2.4349004352997086 and parameters: {'0 || treg | max_features': 0.14449397505665956, '0 || treg | min_samples_split': 4, '0 || treg | min_samples_leaf': 7, '0 || treg | bootstrap': True}. Best is trial 23 with value: 2.1141366343320738.\n",
      "[I 2024-04-03 16:12:27,217] Trial 35 finished with value: 2.478557156529193 and parameters: {'0 || treg | max_features': 0.1255135232336022, '0 || treg | min_samples_split': 17, '0 || treg | min_samples_leaf': 7, '0 || treg | bootstrap': True}. Best is trial 23 with value: 2.1141366343320738.\n",
      "[I 2024-04-03 16:12:27,383] Trial 38 finished with value: 2.141512729954181 and parameters: {'0 || treg | max_features': 0.3192605222549979, '0 || treg | min_samples_split': 4, '0 || treg | min_samples_leaf': 3, '0 || treg | bootstrap': False}. Best is trial 23 with value: 2.1141366343320738.\n",
      "[I 2024-04-03 16:12:27,995] Trial 41 finished with value: 2.162808749931143 and parameters: {'0 || treg | max_features': 0.3078286142698846, '0 || treg | min_samples_split': 4, '0 || treg | min_samples_leaf': 3, '0 || treg | bootstrap': False}. Best is trial 23 with value: 2.1141366343320738.\n",
      "[I 2024-04-03 16:12:28,022] Trial 39 finished with value: 2.117252495835094 and parameters: {'0 || treg | max_features': 0.31999740016241923, '0 || treg | min_samples_split': 4, '0 || treg | min_samples_leaf': 3, '0 || treg | bootstrap': False}. Best is trial 23 with value: 2.1141366343320738.\n",
      "[I 2024-04-03 16:12:28,213] Trial 40 finished with value: 2.1700597910022994 and parameters: {'0 || treg | max_features': 0.2870096289775308, '0 || treg | min_samples_split': 4, '0 || treg | min_samples_leaf': 3, '0 || treg | bootstrap': False}. Best is trial 23 with value: 2.1141366343320738.\n",
      "[I 2024-04-03 16:12:28,292] Trial 42 finished with value: 2.188226172811343 and parameters: {'0 || treg | max_features': 0.29993687670618097, '0 || treg | min_samples_split': 4, '0 || treg | min_samples_leaf': 3, '0 || treg | bootstrap': False}. Best is trial 23 with value: 2.1141366343320738.\n",
      "[I 2024-04-03 16:12:28,592] Trial 43 finished with value: 2.095353884025782 and parameters: {'0 || treg | max_features': 0.31547109149437036, '0 || treg | min_samples_split': 3, '0 || treg | min_samples_leaf': 3, '0 || treg | bootstrap': False}. Best is trial 43 with value: 2.095353884025782.\n",
      "[I 2024-04-03 16:12:29,128] Trial 45 finished with value: 2.165177785018313 and parameters: {'0 || treg | max_features': 0.30635981448945043, '0 || treg | min_samples_split': 3, '0 || treg | min_samples_leaf': 3, '0 || treg | bootstrap': False}. Best is trial 43 with value: 2.095353884025782.\n",
      "[I 2024-04-03 16:12:29,194] Trial 46 finished with value: 2.207167311631093 and parameters: {'0 || treg | max_features': 0.31522094897216435, '0 || treg | min_samples_split': 3, '0 || treg | min_samples_leaf': 4, '0 || treg | bootstrap': False}. Best is trial 43 with value: 2.095353884025782.\n",
      "[I 2024-04-03 16:12:29,275] Trial 44 finished with value: 2.185404147124557 and parameters: {'0 || treg | max_features': 0.31498579754304035, '0 || treg | min_samples_split': 8, '0 || treg | min_samples_leaf': 3, '0 || treg | bootstrap': False}. Best is trial 43 with value: 2.095353884025782.\n",
      "[I 2024-04-03 16:12:30,060] Trial 50 finished with value: 2.1397977718035044 and parameters: {'0 || treg | max_features': 0.34693366926537667, '0 || treg | min_samples_split': 3, '0 || treg | min_samples_leaf': 4, '0 || treg | bootstrap': False}. Best is trial 43 with value: 2.095353884025782.\n",
      "[I 2024-04-03 16:12:30,253] Trial 49 finished with value: 2.21123276963166 and parameters: {'0 || treg | max_features': 0.32741969472506177, '0 || treg | min_samples_split': 3, '0 || treg | min_samples_leaf': 4, '0 || treg | bootstrap': False}. Best is trial 43 with value: 2.095353884025782.\n",
      "[I 2024-04-03 16:12:30,348] Trial 51 finished with value: 2.1680039222964433 and parameters: {'0 || treg | max_features': 0.3516764499952695, '0 || treg | min_samples_split': 3, '0 || treg | min_samples_leaf': 4, '0 || treg | bootstrap': False}. Best is trial 43 with value: 2.095353884025782.\n",
      "[I 2024-04-03 16:12:30,396] Trial 48 finished with value: 2.1913845099258777 and parameters: {'0 || treg | max_features': 0.30611370709049973, '0 || treg | min_samples_split': 3, '0 || treg | min_samples_leaf': 4, '0 || treg | bootstrap': False}. Best is trial 43 with value: 2.095353884025782.\n",
      "[I 2024-04-03 16:12:30,508] Trial 47 finished with value: 2.2085880958116326 and parameters: {'0 || treg | max_features': 0.28798428181932556, '0 || treg | min_samples_split': 3, '0 || treg | min_samples_leaf': 4, '0 || treg | bootstrap': False}. Best is trial 43 with value: 2.095353884025782.\n",
      "[I 2024-04-03 16:12:30,994] Trial 53 finished with value: 2.445611769767872 and parameters: {'0 || treg | max_features': 0.4205857115877998, '0 || treg | min_samples_split': 8, '0 || treg | min_samples_leaf': 12, '0 || treg | bootstrap': False}. Best is trial 43 with value: 2.095353884025782.\n",
      "[I 2024-04-03 16:12:31,235] Trial 52 finished with value: 2.1926088149059053 and parameters: {'0 || treg | max_features': 0.4783804451323861, '0 || treg | min_samples_split': 8, '0 || treg | min_samples_leaf': 4, '0 || treg | bootstrap': False}. Best is trial 43 with value: 2.095353884025782.\n",
      "[I 2024-04-03 16:12:31,344] Trial 54 finished with value: 2.193322628026173 and parameters: {'0 || treg | max_features': 0.43297959658167945, '0 || treg | min_samples_split': 8, '0 || treg | min_samples_leaf': 2, '0 || treg | bootstrap': False}. Best is trial 43 with value: 2.095353884025782.\n",
      "[I 2024-04-03 16:12:32,176] Trial 55 finished with value: 2.160531152973461 and parameters: {'0 || treg | max_features': 0.4248450237146635, '0 || treg | min_samples_split': 7, '0 || treg | min_samples_leaf': 2, '0 || treg | bootstrap': False}. Best is trial 43 with value: 2.095353884025782.\n",
      "[I 2024-04-03 16:12:32,289] Trial 57 finished with value: 2.445611769767872 and parameters: {'0 || treg | max_features': 0.4060819311688395, '0 || treg | min_samples_split': 7, '0 || treg | min_samples_leaf': 13, '0 || treg | bootstrap': False}. Best is trial 43 with value: 2.095353884025782.\n",
      "[I 2024-04-03 16:12:32,348] Trial 56 finished with value: 2.445611769767872 and parameters: {'0 || treg | max_features': 0.41645256972220246, '0 || treg | min_samples_split': 8, '0 || treg | min_samples_leaf': 13, '0 || treg | bootstrap': False}. Best is trial 43 with value: 2.095353884025782.\n",
      "[I 2024-04-03 16:12:32,456] Trial 59 finished with value: 2.175842194156103 and parameters: {'0 || treg | max_features': 0.4149090587822476, '0 || treg | min_samples_split': 7, '0 || treg | min_samples_leaf': 2, '0 || treg | bootstrap': False}. Best is trial 43 with value: 2.095353884025782.\n",
      "[I 2024-04-03 16:12:32,534] Trial 58 finished with value: 2.13764657750381 and parameters: {'0 || treg | max_features': 0.4495973731414309, '0 || treg | min_samples_split': 7, '0 || treg | min_samples_leaf': 2, '0 || treg | bootstrap': False}. Best is trial 43 with value: 2.095353884025782.\n",
      "[I 2024-04-03 16:12:33,134] Trial 60 finished with value: 2.197167300320111 and parameters: {'0 || treg | max_features': 0.4775738138601576, '0 || treg | min_samples_split': 7, '0 || treg | min_samples_leaf': 2, '0 || treg | bootstrap': False}. Best is trial 43 with value: 2.095353884025782.\n",
      "[I 2024-04-03 16:12:33,235] Trial 61 finished with value: 2.161727082968062 and parameters: {'0 || treg | max_features': 0.40361693976001883, '0 || treg | min_samples_split': 5, '0 || treg | min_samples_leaf': 2, '0 || treg | bootstrap': False}. Best is trial 43 with value: 2.095353884025782.\n",
      "[I 2024-04-03 16:12:33,316] Trial 62 finished with value: 2.1890141202162496 and parameters: {'0 || treg | max_features': 0.5580817386433254, '0 || treg | min_samples_split': 5, '0 || treg | min_samples_leaf': 2, '0 || treg | bootstrap': False}. Best is trial 43 with value: 2.095353884025782.\n",
      "[I 2024-04-03 16:12:34,280] Trial 64 finished with value: 2.1748087130995484 and parameters: {'0 || treg | max_features': 0.5254676255088522, '0 || treg | min_samples_split': 5, '0 || treg | min_samples_leaf': 2, '0 || treg | bootstrap': False}. Best is trial 43 with value: 2.095353884025782.\n",
      "[I 2024-04-03 16:12:34,314] Trial 65 finished with value: 2.1806743406497073 and parameters: {'0 || treg | max_features': 0.3611029232144066, '0 || treg | min_samples_split': 5, '0 || treg | min_samples_leaf': 2, '0 || treg | bootstrap': False}. Best is trial 43 with value: 2.095353884025782.\n",
      "[I 2024-04-03 16:12:34,427] Trial 66 finished with value: 2.332419711644491 and parameters: {'0 || treg | max_features': 0.0804653672967854, '0 || treg | min_samples_split': 5, '0 || treg | min_samples_leaf': 5, '0 || treg | bootstrap': False}. Best is trial 43 with value: 2.095353884025782.\n",
      "[I 2024-04-03 16:12:34,570] Trial 63 finished with value: 2.1576140019360404 and parameters: {'0 || treg | max_features': 0.3784136791419298, '0 || treg | min_samples_split': 5, '0 || treg | min_samples_leaf': 2, '0 || treg | bootstrap': False}. Best is trial 43 with value: 2.095353884025782.\n",
      "[I 2024-04-03 16:12:34,667] Trial 67 finished with value: 2.1418586497186967 and parameters: {'0 || treg | max_features': 0.5036226290962427, '0 || treg | min_samples_split': 12, '0 || treg | min_samples_leaf': 5, '0 || treg | bootstrap': False}. Best is trial 43 with value: 2.095353884025782.\n",
      "[I 2024-04-03 16:12:35,342] Trial 69 finished with value: 2.195047766131076 and parameters: {'0 || treg | max_features': 0.5266698406524588, '0 || treg | min_samples_split': 10, '0 || treg | min_samples_leaf': 1, '0 || treg | bootstrap': False}. Best is trial 43 with value: 2.095353884025782.\n",
      "[I 2024-04-03 16:12:35,441] Trial 70 finished with value: 2.191218092113973 and parameters: {'0 || treg | max_features': 0.36108480569740065, '0 || treg | min_samples_split': 10, '0 || treg | min_samples_leaf': 1, '0 || treg | bootstrap': False}. Best is trial 43 with value: 2.095353884025782.\n",
      "[I 2024-04-03 16:12:35,534] Trial 68 finished with value: 2.41816886968543 and parameters: {'0 || treg | max_features': 0.5652510470634126, '0 || treg | min_samples_split': 5, '0 || treg | min_samples_leaf': 1, '0 || treg | bootstrap': False}. Best is trial 43 with value: 2.095353884025782.\n",
      "[I 2024-04-03 16:12:36,250] Trial 71 finished with value: 2.247874431136162 and parameters: {'0 || treg | max_features': 0.08395872536845642, '0 || treg | min_samples_split': 10, '0 || treg | min_samples_leaf': 1, '0 || treg | bootstrap': False}. Best is trial 43 with value: 2.095353884025782.\n",
      "[I 2024-04-03 16:12:36,497] Trial 74 finished with value: 2.2235552780742758 and parameters: {'0 || treg | max_features': 0.8482192416154273, '0 || treg | min_samples_split': 11, '0 || treg | min_samples_leaf': 1, '0 || treg | bootstrap': False}. Best is trial 43 with value: 2.095353884025782.\n",
      "[I 2024-04-03 16:12:36,743] Trial 73 finished with value: 2.212451404540345 and parameters: {'0 || treg | max_features': 0.2669391784349962, '0 || treg | min_samples_split': 10, '0 || treg | min_samples_leaf': 1, '0 || treg | bootstrap': False}. Best is trial 43 with value: 2.095353884025782.\n",
      "[I 2024-04-03 16:12:36,857] Trial 72 finished with value: 2.5424110404792564 and parameters: {'0 || treg | max_features': 0.8299723826092836, '0 || treg | min_samples_split': 2, '0 || treg | min_samples_leaf': 1, '0 || treg | bootstrap': False}. Best is trial 43 with value: 2.095353884025782.\n",
      "[I 2024-04-03 16:12:36,932] Trial 75 finished with value: 2.278975339946194 and parameters: {'0 || treg | max_features': 0.2712834386275034, '0 || treg | min_samples_split': 2, '0 || treg | min_samples_leaf': 1, '0 || treg | bootstrap': False}. Best is trial 43 with value: 2.095353884025782.\n",
      "[I 2024-04-03 16:12:37,120] Trial 77 finished with value: 2.445611769767872 and parameters: {'0 || treg | max_features': 0.4546974126144071, '0 || treg | min_samples_split': 2, '0 || treg | min_samples_leaf': 8, '0 || treg | bootstrap': False}. Best is trial 43 with value: 2.095353884025782.\n",
      "[I 2024-04-03 16:12:37,499] Trial 78 finished with value: 2.172181875366282 and parameters: {'0 || treg | max_features': 0.9698846664201995, '0 || treg | min_samples_split': 13, '0 || treg | min_samples_leaf': 5, '0 || treg | bootstrap': False}. Best is trial 43 with value: 2.095353884025782.\n",
      "[I 2024-04-03 16:12:37,850] Trial 76 finished with value: 2.198197376730037 and parameters: {'0 || treg | max_features': 0.26938614050825427, '0 || treg | min_samples_split': 2, '0 || treg | min_samples_leaf': 1, '0 || treg | bootstrap': False}. Best is trial 43 with value: 2.095353884025782.\n",
      "[I 2024-04-03 16:12:38,469] Trial 79 finished with value: 2.13408784963122 and parameters: {'0 || treg | max_features': 0.45513073222938494, '0 || treg | min_samples_split': 13, '0 || treg | min_samples_leaf': 5, '0 || treg | bootstrap': False}. Best is trial 43 with value: 2.095353884025782.\n",
      "[I 2024-04-03 16:12:38,660] Trial 81 finished with value: 2.445611769767872 and parameters: {'0 || treg | max_features': 0.1893047106555084, '0 || treg | min_samples_split': 14, '0 || treg | min_samples_leaf': 5, '0 || treg | bootstrap': False}. Best is trial 43 with value: 2.095353884025782.\n",
      "[I 2024-04-03 16:12:38,852] Trial 80 finished with value: 2.172096871816109 and parameters: {'0 || treg | max_features': 0.45088151329663684, '0 || treg | min_samples_split': 12, '0 || treg | min_samples_leaf': 5, '0 || treg | bootstrap': False}. Best is trial 43 with value: 2.095353884025782.\n",
      "[I 2024-04-03 16:12:39,060] Trial 82 finished with value: 2.1870697645987542 and parameters: {'0 || treg | max_features': 0.4615905042950481, '0 || treg | min_samples_split': 13, '0 || treg | min_samples_leaf': 5, '0 || treg | bootstrap': False}. Best is trial 43 with value: 2.095353884025782.\n",
      "[I 2024-04-03 16:12:39,172] Trial 84 finished with value: 2.1774597355460465 and parameters: {'0 || treg | max_features': 0.6310163040181543, '0 || treg | min_samples_split': 13, '0 || treg | min_samples_leaf': 5, '0 || treg | bootstrap': False}. Best is trial 43 with value: 2.095353884025782.\n",
      "[I 2024-04-03 16:12:39,422] Trial 85 finished with value: 2.445611769767872 and parameters: {'0 || treg | max_features': 0.18470718781839113, '0 || treg | min_samples_split': 16, '0 || treg | min_samples_leaf': 5, '0 || treg | bootstrap': False}. Best is trial 43 with value: 2.095353884025782.\n",
      "[I 2024-04-03 16:12:39,618] Trial 83 finished with value: 2.1966432381184813 and parameters: {'0 || treg | max_features': 0.45407154453780474, '0 || treg | min_samples_split': 13, '0 || treg | min_samples_leaf': 5, '0 || treg | bootstrap': False}. Best is trial 43 with value: 2.095353884025782.\n",
      "[I 2024-04-03 16:12:40,395] Trial 88 finished with value: 2.2086906334213965 and parameters: {'0 || treg | max_features': 0.3372293099356104, '0 || treg | min_samples_split': 12, '0 || treg | min_samples_leaf': 3, '0 || treg | bootstrap': False}. Best is trial 43 with value: 2.095353884025782.\n",
      "[I 2024-04-03 16:12:40,502] Trial 87 finished with value: 2.445611769767872 and parameters: {'0 || treg | max_features': 0.18420939008331993, '0 || treg | min_samples_split': 15, '0 || treg | min_samples_leaf': 3, '0 || treg | bootstrap': False}. Best is trial 43 with value: 2.095353884025782.\n",
      "[I 2024-04-03 16:12:40,719] Trial 86 finished with value: 2.445611769767872 and parameters: {'0 || treg | max_features': 0.17867833284362591, '0 || treg | min_samples_split': 15, '0 || treg | min_samples_leaf': 5, '0 || treg | bootstrap': False}. Best is trial 43 with value: 2.095353884025782.\n",
      "[I 2024-04-03 16:12:40,775] Trial 89 finished with value: 2.445611769767872 and parameters: {'0 || treg | max_features': 0.336635310804067, '0 || treg | min_samples_split': 15, '0 || treg | min_samples_leaf': 3, '0 || treg | bootstrap': False}. Best is trial 43 with value: 2.095353884025782.\n",
      "[I 2024-04-03 16:12:41,090] Trial 90 finished with value: 2.445611769767872 and parameters: {'0 || treg | max_features': 0.3416003050989014, '0 || treg | min_samples_split': 16, '0 || treg | min_samples_leaf': 3, '0 || treg | bootstrap': False}. Best is trial 43 with value: 2.095353884025782.\n",
      "[I 2024-04-03 16:12:41,201] Trial 92 finished with value: 2.2112291301950213 and parameters: {'0 || treg | max_features': 0.504525349836149, '0 || treg | min_samples_split': 12, '0 || treg | min_samples_leaf': 3, '0 || treg | bootstrap': False}. Best is trial 43 with value: 2.095353884025782.\n",
      "[I 2024-04-03 16:12:41,425] Trial 91 finished with value: 2.445611769767872 and parameters: {'0 || treg | max_features': 0.3433083711060787, '0 || treg | min_samples_split': 14, '0 || treg | min_samples_leaf': 3, '0 || treg | bootstrap': False}. Best is trial 43 with value: 2.095353884025782.\n",
      "[I 2024-04-03 16:12:41,482] Trial 93 finished with value: 2.1868848372503553 and parameters: {'0 || treg | max_features': 0.5049475852662573, '0 || treg | min_samples_split': 12, '0 || treg | min_samples_leaf': 3, '0 || treg | bootstrap': False}. Best is trial 43 with value: 2.095353884025782.\n",
      "[I 2024-04-03 16:12:42,153] Trial 95 finished with value: 2.445611769767872 and parameters: {'0 || treg | max_features': 0.49657787413211824, '0 || treg | min_samples_split': 3, '0 || treg | min_samples_leaf': 8, '0 || treg | bootstrap': False}. Best is trial 43 with value: 2.095353884025782.\n",
      "[I 2024-04-03 16:12:42,309] Trial 94 finished with value: 2.3282716531411327 and parameters: {'0 || treg | max_features': 0.052016205440942986, '0 || treg | min_samples_split': 3, '0 || treg | min_samples_leaf': 3, '0 || treg | bootstrap': False}. Best is trial 43 with value: 2.095353884025782.\n",
      "[I 2024-04-03 16:12:42,559] Trial 97 finished with value: 2.445611769767872 and parameters: {'0 || treg | max_features': 0.3836376768451575, '0 || treg | min_samples_split': 3, '0 || treg | min_samples_leaf': 10, '0 || treg | bootstrap': False}. Best is trial 43 with value: 2.095353884025782.\n",
      "[I 2024-04-03 16:12:42,913] Trial 96 finished with value: 2.112799805702251 and parameters: {'0 || treg | max_features': 0.5103391986720864, '0 || treg | min_samples_split': 3, '0 || treg | min_samples_leaf': 3, '0 || treg | bootstrap': False}. Best is trial 43 with value: 2.095353884025782.\n",
      "[I 2024-04-03 16:12:42,941] Trial 100 finished with value: 2.4482033429500545 and parameters: {'0 || treg | max_features': 0.05128452390360749, '0 || treg | min_samples_split': 3, '0 || treg | min_samples_leaf': 4, '0 || treg | bootstrap': True}. Best is trial 43 with value: 2.095353884025782.\n",
      "[I 2024-04-03 16:12:42,975] Trial 98 finished with value: 2.3030373543357943 and parameters: {'0 || treg | max_features': 0.5036311463078015, '0 || treg | min_samples_split': 3, '0 || treg | min_samples_leaf': 4, '0 || treg | bootstrap': True}. Best is trial 43 with value: 2.095353884025782.\n",
      "[I 2024-04-03 16:12:43,008] Trial 99 finished with value: 2.4283794895396293 and parameters: {'0 || treg | max_features': 0.10125584599184659, '0 || treg | min_samples_split': 3, '0 || treg | min_samples_leaf': 4, '0 || treg | bootstrap': True}. Best is trial 43 with value: 2.095353884025782.\n",
      "2024-04-03 16:12:43,017 - OptunaTuner - Hyperparameters optimization finished\n",
      "2024-04-03 16:12:43,325 - OptunaTuner - Return tuned graph due to the fact that obtained metric 2.131 equal or better than initial (+ 0.05% deviation) 2.148\n",
      "2024-04-03 16:12:43,326 - OptunaTuner - Final graph: {'depth': 2, 'length': 2, 'nodes': [treg, quantile_extractor]}\n",
      "treg - {'bootstrap': False, 'max_features': 0.31547109149437036, 'min_samples_leaf': 3, 'min_samples_split': 3}\n",
      "quantile_extractor - {'stride': 6, 'window_size': 0}\n",
      "2024-04-03 16:12:43,327 - OptunaTuner - Final metric: 2.131\n"
     ]
    }
   ],
   "source": [
    "industrial_model =  evaluate_loop(api_params=params, finetune=True)"
   ]
  },
  {
   "cell_type": "code",
   "execution_count": 9,
   "outputs": [],
   "source": [
    "labels = industrial_model.predict(test_data)\n",
    "probs = industrial_model.predict_proba(test_data)\n",
    "metrics = industrial_model.get_metrics(target=test_data[1],\n",
    "                                 rounding_order=3,\n",
    "                                 metric_names=('r2', 'rmse', 'mae'))"
   ],
   "metadata": {
    "collapsed": false,
    "pycharm": {
     "name": "#%%\n"
    }
   }
  },
  {
   "cell_type": "code",
   "execution_count": 10,
   "outputs": [
    {
     "data": {
      "text/plain": "      r2   rmse    mae\n0  0.671  1.032  0.709",
      "text/html": "<div>\n<style scoped>\n    .dataframe tbody tr th:only-of-type {\n        vertical-align: middle;\n    }\n\n    .dataframe tbody tr th {\n        vertical-align: top;\n    }\n\n    .dataframe thead th {\n        text-align: right;\n    }\n</style>\n<table border=\"1\" class=\"dataframe\">\n  <thead>\n    <tr style=\"text-align: right;\">\n      <th></th>\n      <th>r2</th>\n      <th>rmse</th>\n      <th>mae</th>\n    </tr>\n  </thead>\n  <tbody>\n    <tr>\n      <th>0</th>\n      <td>0.671</td>\n      <td>1.032</td>\n      <td>0.709</td>\n    </tr>\n  </tbody>\n</table>\n</div>"
     },
     "execution_count": 10,
     "metadata": {},
     "output_type": "execute_result"
    }
   ],
   "source": [
    "metrics"
   ],
   "metadata": {
    "collapsed": false,
    "pycharm": {
     "name": "#%%\n"
    }
   }
  },
  {
   "cell_type": "markdown",
   "metadata": {
    "pycharm": {
     "name": "#%% md\n"
    }
   },
   "source": [
    "At the end of the experiment we can obtain the desired metric values using `calculate_regression_metric` method. Now there are five available metrics for classification task:\n",
    "- `explained_variance_score`\n",
    "- `max_error`\n",
    "- `mean_absolute_error`\n",
    "- `mean_squared_error`\n",
    "- `d2_absolute_error_score`.\n",
    "- `median_absolute_error`\n",
    "- `r2_score`"
   ]
  },
  {
   "cell_type": "markdown",
   "source": [
    "## AutoML approach"
   ],
   "metadata": {
    "collapsed": false,
    "pycharm": {
     "name": "#%% md\n"
    }
   }
  },
  {
   "cell_type": "code",
   "execution_count": 11,
   "outputs": [
    {
     "name": "stdout",
     "output_type": "stream",
     "text": [
      "2024-04-03 16:17:29,001 - Initialising experiment setup\n",
      "2024-04-03 16:17:29,003 - Initialising Industrial Repository\n",
      "2024-04-03 16:17:29,004 - Initialising Dask Server\n",
      "Creating Dask Server\n",
      "2024-04-03 16:17:29,022 - State start\n",
      "2024-04-03 16:17:29,031 -   Scheduler at: inproc://10.64.4.217/22788/9\n",
      "2024-04-03 16:17:29,032 -   dashboard at:  http://10.64.4.217:55185/status\n",
      "2024-04-03 16:17:29,034 - Registering Worker plugin shuffle\n",
      "2024-04-03 16:17:29,045 -       Start worker at: inproc://10.64.4.217/22788/12\n",
      "2024-04-03 16:17:29,046 -          Listening to:          inproc10.64.4.217\n",
      "2024-04-03 16:17:29,046 -           Worker name:                          0\n",
      "2024-04-03 16:17:29,047 -          dashboard at:          10.64.4.217:55188\n",
      "2024-04-03 16:17:29,047 - Waiting to connect to: inproc://10.64.4.217/22788/9\n",
      "2024-04-03 16:17:29,048 - -------------------------------------------------\n",
      "2024-04-03 16:17:29,048 -               Threads:                          8\n",
      "2024-04-03 16:17:29,049 -                Memory:                  31.95 GiB\n",
      "2024-04-03 16:17:29,049 -       Local Directory: C:\\Users\\user\\AppData\\Local\\Temp\\dask-scratch-space\\worker-153lpg33\n",
      "2024-04-03 16:17:29,050 - -------------------------------------------------\n",
      "2024-04-03 16:17:29,053 - Register worker <WorkerState 'inproc://10.64.4.217/22788/12', name: 0, status: init, memory: 0, processing: 0>\n",
      "2024-04-03 16:17:29,055 - Starting worker compute stream, inproc://10.64.4.217/22788/12\n",
      "2024-04-03 16:17:29,055 - Starting established connection to inproc://10.64.4.217/22788/13\n",
      "2024-04-03 16:17:29,057 - Starting Worker plugin shuffle\n",
      "2024-04-03 16:17:29,058 -         Registered to: inproc://10.64.4.217/22788/9\n",
      "2024-04-03 16:17:29,059 - -------------------------------------------------\n",
      "2024-04-03 16:17:29,059 - Starting established connection to inproc://10.64.4.217/22788/9\n",
      "2024-04-03 16:17:29,063 - Receive client connection: Client-857a9db7-f1bc-11ee-9904-b42e99a00ea1\n",
      "2024-04-03 16:17:29,065 - Starting established connection to inproc://10.64.4.217/22788/14\n",
      "2024-04-03 16:17:29,067 - LinK Dask Server - http://10.64.4.217:55185/status\n",
      "2024-04-03 16:17:29,068 - Initialising solver\n",
      "2024-04-03 16:17:29,108 - AssumptionsHandler - Initial pipeline fitting started\n",
      "2024-04-03 16:17:29,801 - AssumptionsHandler - Initial pipeline was fitted successfully\n",
      "2024-04-03 16:17:29,803 - AssumptionsHandler - Memory consumption for fitting of the initial pipeline in main session: current 0.5 MiB, max: 0.9 MiB\n",
      "2024-04-03 16:17:29,804 - ApiComposer - Initial pipeline was fitted in 0.7 sec.\n",
      "2024-04-03 16:17:29,805 - AssumptionsHandler - Preset was changed to best_quality due to fit time estimation for initial model.\n",
      "2024-04-03 16:17:29,813 - ApiComposer - AutoML configured. Parameters tuning: True. Time limit: 15 min. Set of candidate models: ['xgbreg', 'sgdr', 'treg', 'ridge', 'lasso', 'dtreg', 'channel_filtration', 'eigen_basis', 'wavelet_basis', 'fourier_basis', 'quantile_extractor', 'minirocket_extractor', 'scaling', 'normalization', 'simple_imputation', 'kernel_pca'].\n",
      "2024-04-03 16:17:29,838 - ApiComposer - Pipeline composition started.\n",
      "2024-04-03 16:17:29,839 - DataSourceSplitter - Stratificated splitting of data is disabled.\n",
      "2024-04-03 16:17:29,840 - DataSourceSplitter - Hold out validation is applied.\n"
     ]
    },
    {
     "name": "stderr",
     "output_type": "stream",
     "text": [
      "Generations:   0%|          | 0/10000 [00:00<?, ?gen/s]"
     ]
    },
    {
     "name": "stdout",
     "output_type": "stream",
     "text": [
      "2024-04-03 16:17:29,861 - IndustrialDispatcher - Number of used CPU's: 2\n",
      "2024-04-03 16:17:35,069 - IndustrialDispatcher - 1 individuals out of 1 in previous population were evaluated successfully.\n",
      "2024-04-03 16:17:35,112 - IndustrialEvoOptimizer - Generation num: 1 size: 1\n",
      "2024-04-03 16:17:35,113 - IndustrialEvoOptimizer - Best individuals: HallOfFame archive fitness (1): ['<rmse=1.885 node_number=0.200>']\n",
      "2024-04-03 16:17:36,176 - IndustrialDispatcher - Number of used CPU's: 2\n",
      "2024-04-03 16:19:56,027 - IndustrialDispatcher - 21 individuals out of 21 in previous population were evaluated successfully.\n",
      "2024-04-03 16:19:56,122 - IndustrialEvoOptimizer - Generation num: 2 size: 21\n",
      "2024-04-03 16:19:56,124 - IndustrialEvoOptimizer - Best individuals: HallOfFame archive fitness (1): ['<rmse=1.881 node_number=0.300>']\n",
      "2024-04-03 16:19:56,125 - IndustrialEvoOptimizer - Next population size: 21; max graph depth: 6\n",
      "2024-04-03 16:20:03,661 - IndustrialDispatcher - Number of used CPU's: 2\n",
      "2024-04-03 16:20:53,008 - full garbage collections took 11% CPU time recently (threshold: 10%)\n"
     ]
    },
    {
     "name": "stderr",
     "output_type": "stream",
     "text": [
      "Exception ignored in: <function _WeakKeyDictionary.__setitem__.<locals>.on_destroy at 0x000001B17545D1F0>\n",
      "Traceback (most recent call last):\n",
      "  File \"D:\\WORK\\Repo\\Industiral\\IndustrialTS\\venv_3.9_new\\lib\\site-packages\\joblib\\_dask.py\", line 82, in on_destroy\n",
      "    del self._data[key]\n",
      "KeyError: 1861470264176\n",
      "Exception ignored in: <function _WeakKeyDictionary.__setitem__.<locals>.on_destroy at 0x000001B1759295E0>\n",
      "Traceback (most recent call last):\n",
      "  File \"D:\\WORK\\Repo\\Industiral\\IndustrialTS\\venv_3.9_new\\lib\\site-packages\\joblib\\_dask.py\", line 82, in on_destroy\n",
      "    del self._data[key]\n",
      "KeyError: 1857737900368\n",
      "Exception ignored in: <function _WeakKeyDictionary.__setitem__.<locals>.on_destroy at 0x000001B17FB52C10>\n",
      "Traceback (most recent call last):\n",
      "  File \"D:\\WORK\\Repo\\Industiral\\IndustrialTS\\venv_3.9_new\\lib\\site-packages\\joblib\\_dask.py\", line 82, in on_destroy\n",
      "    del self._data[key]\n",
      "KeyError: 1861689906832\n",
      "Exception ignored in: <function _WeakKeyDictionary.__setitem__.<locals>.on_destroy at 0x000001B182CE35E0>\n",
      "Traceback (most recent call last):\n",
      "  File \"D:\\WORK\\Repo\\Industiral\\IndustrialTS\\venv_3.9_new\\lib\\site-packages\\joblib\\_dask.py\", line 82, in on_destroy\n",
      "    del self._data[key]\n",
      "KeyError: 1861689476272\n"
     ]
    },
    {
     "name": "stdout",
     "output_type": "stream",
     "text": [
      "2024-04-03 16:21:14,862 - full garbage collections took 12% CPU time recently (threshold: 10%)\n",
      "2024-04-03 16:21:25,667 - full garbage collections took 24% CPU time recently (threshold: 10%)\n",
      "2024-04-03 16:21:32,243 - full garbage collections took 26% CPU time recently (threshold: 10%)\n",
      "2024-04-03 16:21:37,849 - full garbage collections took 26% CPU time recently (threshold: 10%)\n",
      "2024-04-03 16:21:44,251 - full garbage collections took 26% CPU time recently (threshold: 10%)\n",
      "2024-04-03 16:21:53,145 - full garbage collections took 26% CPU time recently (threshold: 10%)\n",
      "2024-04-03 16:22:02,245 - full garbage collections took 28% CPU time recently (threshold: 10%)\n",
      "2024-04-03 16:22:18,763 - full garbage collections took 28% CPU time recently (threshold: 10%)\n",
      "2024-04-03 16:22:22,572 - full garbage collections took 27% CPU time recently (threshold: 10%)\n",
      "2024-04-03 16:22:34,246 - full garbage collections took 28% CPU time recently (threshold: 10%)\n",
      "2024-04-03 16:22:43,814 - full garbage collections took 28% CPU time recently (threshold: 10%)\n",
      "2024-04-03 16:22:43,818 - IndustrialDispatcher - 18 individuals out of 18 in previous population were evaluated successfully.\n",
      "2024-04-03 16:22:43,993 - IndustrialDispatcher - Number of used CPU's: 2\n",
      "2024-04-03 16:22:50,636 - full garbage collections took 28% CPU time recently (threshold: 10%)\n",
      "2024-04-03 16:22:58,559 - full garbage collections took 28% CPU time recently (threshold: 10%)\n",
      "2024-04-03 16:23:11,557 - full garbage collections took 28% CPU time recently (threshold: 10%)\n",
      "2024-04-03 16:23:14,623 - full garbage collections took 28% CPU time recently (threshold: 10%)\n",
      "2024-04-03 16:23:14,639 - IndustrialDispatcher - 4 individuals out of 4 in previous population were evaluated successfully.\n",
      "2024-04-03 16:23:14,642 - ReproductionController - Reproduction achieved pop size 22 using 2 attempt(s) with success rate 0.986\n",
      "2024-04-03 16:23:14,644 - RandomAgent - len=24 nonzero=15 avg=-0.475 std=0.927 min=-3.023 max=0.594 \n",
      "2024-04-03 16:23:14,645 - RandomAgent - actions/rewards: [(<bound method IndustrialMutations.add_preprocessing of <fedot_ind.core.repository.industrial_implementations.optimisation.IndustrialMutations object at 0x000001B088007B80>>, -1.0), (<bound method IndustrialMutations.add_preprocessing of <fedot_ind.core.repository.industrial_implementations.optimisation.IndustrialMutations object at 0x000001B088007B80>>, -1.0), (<bound method IndustrialMutations.single_add of <fedot_ind.core.repository.industrial_implementations.optimisation.IndustrialMutations object at 0x000001B088007B80>>, -1.0), (<bound method IndustrialMutations.single_add of <fedot_ind.core.repository.industrial_implementations.optimisation.IndustrialMutations object at 0x000001B088007B80>>, 0.0), (<bound method IndustrialMutations.add_preprocessing of <fedot_ind.core.repository.industrial_implementations.optimisation.IndustrialMutations object at 0x000001B088007B80>>, 0.0), (<bound method IndustrialMutations.single_add of <fedot_ind.core.repository.industrial_implementations.optimisation.IndustrialMutations object at 0x000001B088007B80>>, 0.0), (<bound method IndustrialMutations.add_preprocessing of <fedot_ind.core.repository.industrial_implementations.optimisation.IndustrialMutations object at 0x000001B088007B80>>, 0.0), (<bound method IndustrialMutations.single_change of <fedot_ind.core.repository.industrial_implementations.optimisation.IndustrialMutations object at 0x000001B088007B80>>, 0.0), (<bound method IndustrialMutations.single_add of <fedot_ind.core.repository.industrial_implementations.optimisation.IndustrialMutations object at 0x000001B088007B80>>, 0.0), (<MutationTypesEnum.single_edge: 'single_edge'>, 0.0), (<bound method IndustrialMutations.add_preprocessing of <fedot_ind.core.repository.industrial_implementations.optimisation.IndustrialMutations object at 0x000001B088007B80>>, 0.0), (<bound method IndustrialMutations.add_preprocessing of <fedot_ind.core.repository.industrial_implementations.optimisation.IndustrialMutations object at 0x000001B088007B80>>, -0.0053), (<bound method IndustrialMutations.single_change of <fedot_ind.core.repository.industrial_implementations.optimisation.IndustrialMutations object at 0x000001B088007B80>>, -3.0234), (<bound method IndustrialMutations.single_add of <fedot_ind.core.repository.industrial_implementations.optimisation.IndustrialMutations object at 0x000001B088007B80>>, 0.0041), (<bound method IndustrialMutations.single_add of <fedot_ind.core.repository.industrial_implementations.optimisation.IndustrialMutations object at 0x000001B088007B80>>, 0.5889), (<bound method IndustrialMutations.single_add of <fedot_ind.core.repository.industrial_implementations.optimisation.IndustrialMutations object at 0x000001B088007B80>>, 0.0022), (<function parameter_change_mutation at 0x000001B0C8BCC790>, 0.1716), (<bound method IndustrialMutations.single_add of <fedot_ind.core.repository.industrial_implementations.optimisation.IndustrialMutations object at 0x000001B088007B80>>, -0.8564), (<MutationTypesEnum.single_edge: 'single_edge'>, 0.0356), (<MutationTypesEnum.single_edge: 'single_edge'>, 0.5939), (<function parameter_change_mutation at 0x000001B0C8BCC790>, -0.188), (<bound method IndustrialMutations.add_preprocessing of <fedot_ind.core.repository.industrial_implementations.optimisation.IndustrialMutations object at 0x000001B088007B80>>, -1.6156), (<bound method IndustrialMutations.single_add of <fedot_ind.core.repository.industrial_implementations.optimisation.IndustrialMutations object at 0x000001B088007B80>>, 0.1699), (<function parameter_change_mutation at 0x000001B0C8BCC790>, 0.0)]\n",
      "2024-04-03 16:23:14,648 - RandomAgent - exp=[0.2 0.2 0.2 0.2 0.2] probs=[0.2 0.2 0.2 0.2 0.2]\n"
     ]
    },
    {
     "name": "stderr",
     "output_type": "stream",
     "text": [
      "Generations:   0%|          | 1/10000 [05:44<957:40:07, 344.80s/gen]"
     ]
    },
    {
     "name": "stdout",
     "output_type": "stream",
     "text": [
      "2024-04-03 16:23:14,734 - IndustrialEvoOptimizer - Generation num: 3 size: 21\n",
      "2024-04-03 16:23:14,736 - IndustrialEvoOptimizer - Best individuals: HallOfFame archive fitness (1): ['<rmse=1.881 node_number=0.300>']\n",
      "2024-04-03 16:23:14,738 - IndustrialEvoOptimizer - no improvements for 1 iterations\n",
      "2024-04-03 16:23:14,739 - IndustrialEvoOptimizer - spent time: 5.7 min\n",
      "2024-04-03 16:23:14,740 - IndustrialEvoOptimizer - Next mutation proba: 0.05; Next crossover proba: 0.95\n",
      "2024-04-03 16:23:14,742 - IndustrialEvoOptimizer - Next population size: 34; max graph depth: 6\n",
      "2024-04-03 16:23:20,363 - IndustrialDispatcher - Number of used CPU's: 2\n",
      "2024-04-03 16:23:27,385 - full garbage collections took 22% CPU time recently (threshold: 10%)\n",
      "2024-04-03 16:23:32,224 - full garbage collections took 22% CPU time recently (threshold: 10%)\n",
      "2024-04-03 16:23:49,188 - full garbage collections took 23% CPU time recently (threshold: 10%)\n",
      "2024-04-03 16:23:55,613 - full garbage collections took 23% CPU time recently (threshold: 10%)\n",
      "2024-04-03 16:24:06,998 - full garbage collections took 23% CPU time recently (threshold: 10%)\n",
      "2024-04-03 16:24:12,135 - full garbage collections took 23% CPU time recently (threshold: 10%)\n",
      "2024-04-03 16:24:28,265 - full garbage collections took 23% CPU time recently (threshold: 10%)\n"
     ]
    },
    {
     "name": "stderr",
     "output_type": "stream",
     "text": [
      "Exception ignored in: <function _WeakKeyDictionary.__setitem__.<locals>.on_destroy at 0x000001B1866C5550>\n",
      "Traceback (most recent call last):\n",
      "  File \"D:\\WORK\\Repo\\Industiral\\IndustrialTS\\venv_3.9_new\\lib\\site-packages\\joblib\\_dask.py\", line 82, in on_destroy\n",
      "    del self._data[key]\n",
      "KeyError: 1861949568560\n",
      "Exception ignored in: <function _WeakKeyDictionary.__setitem__.<locals>.on_destroy at 0x000001B1856CFEE0>\n",
      "Traceback (most recent call last):\n",
      "  File \"D:\\WORK\\Repo\\Industiral\\IndustrialTS\\venv_3.9_new\\lib\\site-packages\\joblib\\_dask.py\", line 82, in on_destroy\n",
      "    del self._data[key]\n",
      "KeyError: 1861958713488\n",
      "Exception ignored in: <function _WeakKeyDictionary.__setitem__.<locals>.on_destroy at 0x000001B1863405E0>\n",
      "Traceback (most recent call last):\n",
      "  File \"D:\\WORK\\Repo\\Industiral\\IndustrialTS\\venv_3.9_new\\lib\\site-packages\\joblib\\_dask.py\", line 82, in on_destroy\n",
      "    del self._data[key]\n",
      "KeyError: 1860751192496\n",
      "Exception ignored in: <function _WeakKeyDictionary.__setitem__.<locals>.on_destroy at 0x000001B1865EC160>\n",
      "Traceback (most recent call last):\n",
      "  File \"D:\\WORK\\Repo\\Industiral\\IndustrialTS\\venv_3.9_new\\lib\\site-packages\\joblib\\_dask.py\", line 82, in on_destroy\n",
      "    del self._data[key]\n",
      "KeyError: 1862034091248\n",
      "Exception ignored in: <function _WeakKeyDictionary.__setitem__.<locals>.on_destroy at 0x000001B18674A1F0>\n",
      "Traceback (most recent call last):\n",
      "  File \"D:\\WORK\\Repo\\Industiral\\IndustrialTS\\venv_3.9_new\\lib\\site-packages\\joblib\\_dask.py\", line 82, in on_destroy\n",
      "    del self._data[key]\n",
      "KeyError: 1857913817008\n",
      "Exception ignored in: <function _WeakKeyDictionary.__setitem__.<locals>.on_destroy at 0x000001B189EFE9D0>\n",
      "Traceback (most recent call last):\n",
      "  File \"D:\\WORK\\Repo\\Industiral\\IndustrialTS\\venv_3.9_new\\lib\\site-packages\\joblib\\_dask.py\", line 82, in on_destroy\n",
      "    del self._data[key]\n",
      "KeyError: 1861348031632\n",
      "Exception ignored in: <function _WeakKeyDictionary.__setitem__.<locals>.on_destroy at 0x000001B18A17DB80>\n",
      "Traceback (most recent call last):\n",
      "  File \"D:\\WORK\\Repo\\Industiral\\IndustrialTS\\venv_3.9_new\\lib\\site-packages\\joblib\\_dask.py\", line 82, in on_destroy\n",
      "    del self._data[key]\n",
      "KeyError: 1861996696176\n"
     ]
    },
    {
     "name": "stdout",
     "output_type": "stream",
     "text": [
      "2024-04-03 16:24:47,067 - full garbage collections took 23% CPU time recently (threshold: 10%)\n",
      "2024-04-03 16:25:07,232 - full garbage collections took 32% CPU time recently (threshold: 10%)\n",
      "2024-04-03 16:25:10,181 - full garbage collections took 32% CPU time recently (threshold: 10%)\n",
      "2024-04-03 16:25:25,942 - full garbage collections took 32% CPU time recently (threshold: 10%)\n",
      "2024-04-03 16:25:34,021 - full garbage collections took 32% CPU time recently (threshold: 10%)\n",
      "2024-04-03 16:25:40,181 - full garbage collections took 32% CPU time recently (threshold: 10%)\n",
      "2024-04-03 16:25:42,258 - full garbage collections took 32% CPU time recently (threshold: 10%)\n",
      "2024-04-03 16:25:48,159 - full garbage collections took 32% CPU time recently (threshold: 10%)\n"
     ]
    },
    {
     "name": "stderr",
     "output_type": "stream",
     "text": [
      "Exception ignored in: <function _WeakKeyDictionary.__setitem__.<locals>.on_destroy at 0x000001B18C1FA1F0>\n",
      "Traceback (most recent call last):\n",
      "  File \"D:\\WORK\\Repo\\Industiral\\IndustrialTS\\venv_3.9_new\\lib\\site-packages\\joblib\\_dask.py\", line 82, in on_destroy\n",
      "    del self._data[key]\n",
      "KeyError: 1861996734000\n",
      "Exception ignored in: <function _WeakKeyDictionary.__setitem__.<locals>.on_destroy at 0x000001B18C37F9D0>\n",
      "Traceback (most recent call last):\n",
      "  File \"D:\\WORK\\Repo\\Industiral\\IndustrialTS\\venv_3.9_new\\lib\\site-packages\\joblib\\_dask.py\", line 82, in on_destroy\n",
      "    del self._data[key]\n",
      "KeyError: 1861975770960\n",
      "Exception ignored in: <function _WeakKeyDictionary.__setitem__.<locals>.on_destroy at 0x000001B18C37FE50>\n",
      "Traceback (most recent call last):\n",
      "  File \"D:\\WORK\\Repo\\Industiral\\IndustrialTS\\venv_3.9_new\\lib\\site-packages\\joblib\\_dask.py\", line 82, in on_destroy\n",
      "    del self._data[key]\n",
      "KeyError: 1861945401776\n"
     ]
    },
    {
     "name": "stdout",
     "output_type": "stream",
     "text": [
      "2024-04-03 16:26:08,935 - full garbage collections took 32% CPU time recently (threshold: 10%)\n",
      "2024-04-03 16:26:24,483 - full garbage collections took 32% CPU time recently (threshold: 10%)\n",
      "2024-04-03 16:26:29,610 - full garbage collections took 33% CPU time recently (threshold: 10%)\n",
      "2024-04-03 16:26:29,612 - IndustrialDispatcher - 18 individuals out of 18 in previous population were evaluated successfully.\n",
      "2024-04-03 16:26:31,507 - IndustrialDispatcher - Number of used CPU's: 2\n",
      "2024-04-03 16:26:31,513 - IndustrialDispatcher - 0 individuals out of 14 in previous population were evaluated successfully. 0.0% is a fairly small percentage of successful evaluation.\n",
      "2024-04-03 16:26:37,597 - full garbage collections took 30% CPU time recently (threshold: 10%)\n",
      "2024-04-03 16:26:42,276 - full garbage collections took 31% CPU time recently (threshold: 10%)\n",
      "2024-04-03 16:26:47,201 - full garbage collections took 31% CPU time recently (threshold: 10%)\n",
      "2024-04-03 16:26:51,894 - full garbage collections took 32% CPU time recently (threshold: 10%)\n",
      "2024-04-03 16:26:56,891 - full garbage collections took 32% CPU time recently (threshold: 10%)\n",
      "2024-04-03 16:27:01,485 - full garbage collections took 33% CPU time recently (threshold: 10%)\n",
      "2024-04-03 16:27:06,168 - full garbage collections took 34% CPU time recently (threshold: 10%)\n",
      "2024-04-03 16:27:10,823 - full garbage collections took 34% CPU time recently (threshold: 10%)\n",
      "2024-04-03 16:27:15,465 - full garbage collections took 35% CPU time recently (threshold: 10%)\n",
      "2024-04-03 16:27:20,128 - full garbage collections took 35% CPU time recently (threshold: 10%)\n",
      "2024-04-03 16:27:24,573 - full garbage collections took 36% CPU time recently (threshold: 10%)\n",
      "2024-04-03 16:27:29,126 - full garbage collections took 36% CPU time recently (threshold: 10%)\n",
      "2024-04-03 16:27:33,596 - full garbage collections took 50% CPU time recently (threshold: 10%)\n",
      "2024-04-03 16:27:37,977 - full garbage collections took 50% CPU time recently (threshold: 10%)\n",
      "2024-04-03 16:27:38,681 - IndustrialDispatcher - Number of used CPU's: 2\n",
      "2024-04-03 16:27:38,687 - IndustrialDispatcher - 0 individuals out of 13 in previous population were evaluated successfully. 0.0% is a fairly small percentage of successful evaluation.\n",
      "2024-04-03 16:27:48,131 - full garbage collections took 49% CPU time recently (threshold: 10%)\n",
      "2024-04-03 16:27:56,770 - full garbage collections took 50% CPU time recently (threshold: 10%)\n",
      "2024-04-03 16:28:05,660 - full garbage collections took 50% CPU time recently (threshold: 10%)\n",
      "2024-04-03 16:28:14,185 - full garbage collections took 50% CPU time recently (threshold: 10%)\n",
      "2024-04-03 16:28:22,597 - full garbage collections took 51% CPU time recently (threshold: 10%)\n",
      "2024-04-03 16:28:31,404 - full garbage collections took 52% CPU time recently (threshold: 10%)\n",
      "2024-04-03 16:28:40,342 - full garbage collections took 52% CPU time recently (threshold: 10%)\n",
      "2024-04-03 16:28:49,202 - full garbage collections took 53% CPU time recently (threshold: 10%)\n",
      "2024-04-03 16:28:57,772 - full garbage collections took 54% CPU time recently (threshold: 10%)\n",
      "2024-04-03 16:29:06,579 - full garbage collections took 55% CPU time recently (threshold: 10%)\n",
      "2024-04-03 16:29:14,868 - full garbage collections took 56% CPU time recently (threshold: 10%)\n",
      "2024-04-03 16:29:23,645 - full garbage collections took 56% CPU time recently (threshold: 10%)\n",
      "2024-04-03 16:29:32,142 - full garbage collections took 58% CPU time recently (threshold: 10%)\n",
      "2024-04-03 16:29:37,222 - IndustrialDispatcher - Number of used CPU's: 2\n",
      "2024-04-03 16:29:37,230 - IndustrialDispatcher - 0 individuals out of 12 in previous population were evaluated successfully. 0.0% is a fairly small percentage of successful evaluation.\n",
      "2024-04-03 16:29:44,921 - full garbage collections took 45% CPU time recently (threshold: 10%)\n",
      "2024-04-03 16:29:51,649 - full garbage collections took 45% CPU time recently (threshold: 10%)\n",
      "2024-04-03 16:29:58,083 - full garbage collections took 45% CPU time recently (threshold: 10%)\n",
      "2024-04-03 16:30:04,838 - full garbage collections took 50% CPU time recently (threshold: 10%)\n",
      "2024-04-03 16:30:11,501 - full garbage collections took 50% CPU time recently (threshold: 10%)\n",
      "2024-04-03 16:30:18,212 - full garbage collections took 50% CPU time recently (threshold: 10%)\n",
      "2024-04-03 16:30:25,411 - full garbage collections took 50% CPU time recently (threshold: 10%)\n",
      "2024-04-03 16:30:32,653 - full garbage collections took 50% CPU time recently (threshold: 10%)\n",
      "2024-04-03 16:30:39,509 - full garbage collections took 50% CPU time recently (threshold: 10%)\n",
      "2024-04-03 16:30:46,453 - full garbage collections took 50% CPU time recently (threshold: 10%)\n",
      "2024-04-03 16:30:53,359 - full garbage collections took 50% CPU time recently (threshold: 10%)\n",
      "2024-04-03 16:31:00,543 - full garbage collections took 50% CPU time recently (threshold: 10%)\n",
      "2024-04-03 16:31:01,989 - IndustrialDispatcher - Number of used CPU's: 2\n",
      "2024-04-03 16:31:01,994 - IndustrialDispatcher - 0 individuals out of 12 in previous population were evaluated successfully. 0.0% is a fairly small percentage of successful evaluation.\n",
      "2024-04-03 16:31:02,429 - full garbage collections took 47% CPU time recently (threshold: 10%)\n",
      "2024-04-03 16:31:02,847 - full garbage collections took 47% CPU time recently (threshold: 10%)\n",
      "2024-04-03 16:31:03,246 - full garbage collections took 47% CPU time recently (threshold: 10%)\n",
      "2024-04-03 16:31:03,661 - full garbage collections took 48% CPU time recently (threshold: 10%)\n",
      "2024-04-03 16:31:04,053 - full garbage collections took 48% CPU time recently (threshold: 10%)\n",
      "2024-04-03 16:31:04,426 - full garbage collections took 50% CPU time recently (threshold: 10%)\n",
      "2024-04-03 16:31:04,787 - full garbage collections took 51% CPU time recently (threshold: 10%)\n",
      "2024-04-03 16:31:05,144 - full garbage collections took 51% CPU time recently (threshold: 10%)\n",
      "2024-04-03 16:31:05,538 - full garbage collections took 51% CPU time recently (threshold: 10%)\n",
      "2024-04-03 16:31:05,885 - full garbage collections took 52% CPU time recently (threshold: 10%)\n",
      "2024-04-03 16:31:06,240 - full garbage collections took 52% CPU time recently (threshold: 10%)\n",
      "2024-04-03 16:31:06,611 - full garbage collections took 53% CPU time recently (threshold: 10%)\n",
      "2024-04-03 16:31:06,621 - ReproductionController - Could not achieve required population size: have 22, required 34!\n",
      "Check objective, constraints and evo operators. Possibly they return too few valid individuals.\n",
      "2024-04-03 16:31:06,624 - RandomAgent - len=25 nonzero=10 avg=-0.690 std=1.135 min=-3.770 max=0.331 \n",
      "2024-04-03 16:31:06,625 - RandomAgent - actions/rewards: [(<bound method IndustrialMutations.add_preprocessing of <fedot_ind.core.repository.industrial_implementations.optimisation.IndustrialMutations object at 0x000001B088007B80>>, -1.0), (<bound method IndustrialMutations.add_preprocessing of <fedot_ind.core.repository.industrial_implementations.optimisation.IndustrialMutations object at 0x000001B088007B80>>, -1.0), (<bound method IndustrialMutations.add_preprocessing of <fedot_ind.core.repository.industrial_implementations.optimisation.IndustrialMutations object at 0x000001B088007B80>>, -1.0), (<function parameter_change_mutation at 0x000001B0C8BCC790>, 0.0), (<function parameter_change_mutation at 0x000001B0C8BCC790>, 0.0), (<bound method IndustrialMutations.add_preprocessing of <fedot_ind.core.repository.industrial_implementations.optimisation.IndustrialMutations object at 0x000001B088007B80>>, 0.0), (<bound method IndustrialMutations.single_add of <fedot_ind.core.repository.industrial_implementations.optimisation.IndustrialMutations object at 0x000001B088007B80>>, 0.0), (<function parameter_change_mutation at 0x000001B0C8BCC790>, 0.1035), (<bound method IndustrialMutations.single_change of <fedot_ind.core.repository.industrial_implementations.optimisation.IndustrialMutations object at 0x000001B088007B80>>, 0.3311), (<MutationTypesEnum.single_edge: 'single_edge'>, 0.0), (<bound method IndustrialMutations.single_add of <fedot_ind.core.repository.industrial_implementations.optimisation.IndustrialMutations object at 0x000001B088007B80>>, 0.0), (<MutationTypesEnum.single_edge: 'single_edge'>, 0.0), (<bound method IndustrialMutations.single_change of <fedot_ind.core.repository.industrial_implementations.optimisation.IndustrialMutations object at 0x000001B088007B80>>, 0.0), (<bound method IndustrialMutations.add_preprocessing of <fedot_ind.core.repository.industrial_implementations.optimisation.IndustrialMutations object at 0x000001B088007B80>>, 0.0), (<bound method IndustrialMutations.add_preprocessing of <fedot_ind.core.repository.industrial_implementations.optimisation.IndustrialMutations object at 0x000001B088007B80>>, -0.4141), (<bound method IndustrialMutations.single_change of <fedot_ind.core.repository.industrial_implementations.optimisation.IndustrialMutations object at 0x000001B088007B80>>, -0.3373), (<bound method IndustrialMutations.single_change of <fedot_ind.core.repository.industrial_implementations.optimisation.IndustrialMutations object at 0x000001B088007B80>>, 0.1862), (<bound method IndustrialMutations.single_add of <fedot_ind.core.repository.industrial_implementations.optimisation.IndustrialMutations object at 0x000001B088007B80>>, 0.0), (<bound method IndustrialMutations.single_add of <fedot_ind.core.repository.industrial_implementations.optimisation.IndustrialMutations object at 0x000001B088007B80>>, 0.0), (<bound method IndustrialMutations.add_preprocessing of <fedot_ind.core.repository.industrial_implementations.optimisation.IndustrialMutations object at 0x000001B088007B80>>, 0.0), (<bound method IndustrialMutations.single_change of <fedot_ind.core.repository.industrial_implementations.optimisation.IndustrialMutations object at 0x000001B088007B80>>, 0.0), (<bound method IndustrialMutations.single_add of <fedot_ind.core.repository.industrial_implementations.optimisation.IndustrialMutations object at 0x000001B088007B80>>, 0.0), (<MutationTypesEnum.single_edge: 'single_edge'>, -0.0023), (<bound method IndustrialMutations.add_preprocessing of <fedot_ind.core.repository.industrial_implementations.optimisation.IndustrialMutations object at 0x000001B088007B80>>, 0.0), (<bound method IndustrialMutations.single_change of <fedot_ind.core.repository.industrial_implementations.optimisation.IndustrialMutations object at 0x000001B088007B80>>, -3.7697)]\n",
      "2024-04-03 16:31:06,628 - RandomAgent - exp=[0.2 0.2 0.2 0.2 0.2] probs=[0.2 0.2 0.2 0.2 0.2]\n"
     ]
    },
    {
     "name": "stderr",
     "output_type": "stream",
     "text": [
      "Generations:   0%|          | 2/10000 [13:36<1165:20:58, 419.61s/gen]"
     ]
    },
    {
     "name": "stdout",
     "output_type": "stream",
     "text": [
      "2024-04-03 16:31:06,742 - IndustrialEvoOptimizer - Generation num: 4 size: 34\n",
      "2024-04-03 16:31:06,742 - IndustrialEvoOptimizer - Best individuals: HallOfFame archive fitness (1): ['<rmse=1.784 node_number=0.400>']\n",
      "2024-04-03 16:31:06,743 - GroupedCondition - Optimisation stopped: Time limit is reached\n"
     ]
    },
    {
     "name": "stderr",
     "output_type": "stream",
     "text": [
      "Generations:   0%|          | 2/10000 [13:36<1134:20:06, 408.44s/gen]"
     ]
    },
    {
     "name": "stdout",
     "output_type": "stream",
     "text": [
      "2024-04-03 16:31:06,747 - OptimisationTimer - Composition time: 13.615 min\n",
      "2024-04-03 16:31:06,748 - OptimisationTimer - Algorithm was terminated due to processing time limit\n",
      "2024-04-03 16:31:06,753 - IndustrialEvoOptimizer - Generation num: 5 size: 1\n",
      "2024-04-03 16:31:06,755 - IndustrialEvoOptimizer - Best individuals: HallOfFame archive fitness (1): ['<rmse=1.784 node_number=0.400>']\n",
      "2024-04-03 16:31:06,756 - IndustrialEvoOptimizer - no improvements for 1 iterations\n",
      "2024-04-03 16:31:06,757 - IndustrialEvoOptimizer - spent time: 13.6 min\n",
      "2024-04-03 16:31:06,762 - GPComposer - GP composition finished\n",
      "2024-04-03 16:31:06,765 - DataSourceSplitter - Stratificated splitting of data is disabled.\n",
      "2024-04-03 16:31:06,766 - DataSourceSplitter - Hold out validation is applied.\n",
      "2024-04-03 16:31:06,773 - ApiComposer - Hyperparameters tuning started with 1 min. timeout\n",
      "2024-04-03 16:31:06,780 - SimultaneousTuner - Hyperparameters optimization start: estimation of metric for initial graph\n"
     ]
    },
    {
     "name": "stderr",
     "output_type": "stream",
     "text": [
      "\n"
     ]
    },
    {
     "name": "stdout",
     "output_type": "stream",
     "text": [
      "2024-04-03 16:31:13,043 - SimultaneousTuner - Initial graph: {'depth': 4, 'length': 4, 'nodes': [treg, channel_filtration, quantile_extractor, scaling]}\n",
      "treg - {}\n",
      "channel_filtration - {'distance': 'euclidean', 'centroid_metric': 'euclidean', 'sample_metric': 'chebyshev', 'selection_strategy': 'sum'}\n",
      "quantile_extractor - {'stride': 3, 'window_size': 21}\n",
      "scaling - {} \n",
      "Initial metric: [2.906]\n",
      "  0%|          | 0/10 [00:00<?, ?trial/s, best loss=?]2024-04-03 16:31:13,099 - build_posterior_wrapper took 0.017987 seconds\n",
      "2024-04-03 16:31:13,102 - TPE using 0 trials\n",
      " 10%|█         | 1/10 [00:01<00:10,  1.13s/trial, best loss: 2.421132291609469]2024-04-03 16:31:14,229 - build_posterior_wrapper took 0.017986 seconds\n",
      "2024-04-03 16:31:14,230 - TPE using 1/1 trials with best loss 2.421132\n",
      " 20%|██        | 2/10 [00:02<00:09,  1.13s/trial, best loss: 2.421132291609469]2024-04-03 16:31:15,357 - build_posterior_wrapper took 0.016954 seconds\n",
      "2024-04-03 16:31:15,358 - TPE using 2/2 trials with best loss 2.421132\n",
      " 30%|███       | 3/10 [00:03<00:07,  1.14s/trial, best loss: 2.421132291609469]2024-04-03 16:31:16,519 - build_posterior_wrapper took 0.019976 seconds\n",
      "2024-04-03 16:31:16,527 - TPE using 3/3 trials with best loss 2.421132\n",
      " 40%|████      | 4/10 [00:04<00:06,  1.07s/trial, best loss: 2.3979388180762498]2024-04-03 16:31:17,466 - build_posterior_wrapper took 0.018990 seconds\n",
      "2024-04-03 16:31:17,469 - TPE using 4/4 trials with best loss 2.397939\n",
      " 50%|█████     | 5/10 [00:05<00:05,  1.09s/trial, best loss: 2.3979388180762498]2024-04-03 16:31:18,609 - build_posterior_wrapper took 0.017925 seconds\n",
      "2024-04-03 16:31:18,611 - TPE using 5/5 trials with best loss 2.397939\n",
      " 60%|██████    | 6/10 [00:06<00:04,  1.10s/trial, best loss: 2.3979388180762498]2024-04-03 16:31:19,728 - build_posterior_wrapper took 0.018986 seconds\n",
      "2024-04-03 16:31:19,730 - TPE using 6/6 trials with best loss 2.397939\n",
      " 70%|███████   | 7/10 [00:07<00:03,  1.11s/trial, best loss: 2.3979388180762498]2024-04-03 16:31:20,841 - build_posterior_wrapper took 0.018987 seconds\n",
      "2024-04-03 16:31:20,843 - TPE using 7/7 trials with best loss 2.397939\n",
      " 80%|████████  | 8/10 [00:08<00:02,  1.12s/trial, best loss: 2.3979388180762498]2024-04-03 16:31:21,981 - build_posterior_wrapper took 0.017984 seconds\n",
      "2024-04-03 16:31:21,987 - TPE using 8/8 trials with best loss 2.397939\n",
      " 90%|█████████ | 9/10 [00:09<00:01,  1.05s/trial, best loss: 2.3979388180762498]2024-04-03 16:31:22,871 - build_posterior_wrapper took 0.017951 seconds\n",
      "2024-04-03 16:31:22,873 - TPE using 9/9 trials with best loss 2.397939\n",
      "100%|██████████| 10/10 [00:10<00:00,  1.06s/trial, best loss: 2.3979388180762498]\n",
      "  0%|          | 10/100000 [00:00<?, ?trial/s, best loss=?]2024-04-03 16:31:23,777 - build_posterior_wrapper took 0.016954 seconds\n",
      "2024-04-03 16:31:23,780 - TPE using 10/10 trials with best loss 2.397939\n",
      "  0%|          | 11/100000 [00:00<22:48:09,  1.22trial/s, best loss: 2.3979388180762498]2024-04-03 16:31:24,602 - build_posterior_wrapper took 0.017960 seconds\n",
      "2024-04-03 16:31:24,605 - TPE using 11/11 trials with best loss 2.397939\n",
      "  0%|          | 12/100000 [00:01<22:09:55,  1.25trial/s, best loss: 2.3979388180762498]2024-04-03 16:31:25,385 - build_posterior_wrapper took 0.018971 seconds\n",
      "2024-04-03 16:31:25,386 - TPE using 12/12 trials with best loss 2.397939\n",
      "  0%|          | 13/100000 [00:02<22:56:55,  1.21trial/s, best loss: 2.3830611914685305]2024-04-03 16:31:26,244 - build_posterior_wrapper took 0.017952 seconds\n",
      "2024-04-03 16:31:26,246 - TPE using 13/13 trials with best loss 2.383061\n",
      "  0%|          | 14/100000 [00:03<28:12:56,  1.02s/trial, best loss: 2.3830611914685305]2024-04-03 16:31:27,555 - build_posterior_wrapper took 0.022937 seconds\n",
      "2024-04-03 16:31:27,562 - TPE using 14/14 trials with best loss 2.383061\n",
      "  0%|          | 15/100000 [00:04<26:56:09,  1.03trial/s, best loss: 2.3830611914685305]2024-04-03 16:31:28,438 - build_posterior_wrapper took 0.018949 seconds\n",
      "2024-04-03 16:31:28,442 - TPE using 15/15 trials with best loss 2.383061\n",
      "  0%|          | 16/100000 [00:05<28:13:50,  1.02s/trial, best loss: 2.3830611914685305]2024-04-03 16:31:29,551 - build_posterior_wrapper took 0.017952 seconds\n",
      "2024-04-03 16:31:29,558 - TPE using 16/16 trials with best loss 2.383061\n",
      "  0%|          | 17/100000 [00:06<28:38:37,  1.03s/trial, best loss: 2.3830611914685305]2024-04-03 16:31:30,609 - build_posterior_wrapper took 0.018978 seconds\n",
      "2024-04-03 16:31:30,611 - TPE using 17/17 trials with best loss 2.383061\n",
      "  0%|          | 18/100000 [00:08<32:15:34,  1.16s/trial, best loss: 2.3830611914685305]2024-04-03 16:31:32,057 - build_posterior_wrapper took 0.021941 seconds\n",
      "2024-04-03 16:31:32,059 - TPE using 18/18 trials with best loss 2.383061\n",
      "  0%|          | 19/100000 [00:09<29:25:43,  1.06s/trial, best loss: 2.3830611914685305]2024-04-03 16:31:32,883 - build_posterior_wrapper took 0.017951 seconds\n",
      "2024-04-03 16:31:32,886 - TPE using 19/19 trials with best loss 2.383061\n",
      "  0%|          | 20/100000 [00:10<29:05:31,  1.05s/trial, best loss: 2.3830611914685305]2024-04-03 16:31:33,903 - build_posterior_wrapper took 0.017951 seconds\n",
      "2024-04-03 16:31:33,906 - TPE using 20/20 trials with best loss 2.383061\n",
      "  0%|          | 21/100000 [00:11<27:54:08,  1.00s/trial, best loss: 2.272321400557909] 2024-04-03 16:31:34,811 - build_posterior_wrapper took 0.017961 seconds\n",
      "2024-04-03 16:31:34,813 - TPE using 21/21 trials with best loss 2.272321\n",
      "  0%|          | 22/100000 [00:11<26:55:11,  1.03trial/s, best loss: 2.2548325141026275]2024-04-03 16:31:35,698 - build_posterior_wrapper took 0.017989 seconds\n",
      "2024-04-03 16:31:35,701 - TPE using 22/22 trials with best loss 2.254833\n",
      "  0%|          | 23/100000 [00:12<26:02:55,  1.07trial/s, best loss: 2.2548325141026275]2024-04-03 16:31:36,565 - build_posterior_wrapper took 0.016954 seconds\n",
      "2024-04-03 16:31:36,572 - TPE using 23/23 trials with best loss 2.254833\n",
      "  0%|          | 24/100000 [00:13<25:52:37,  1.07trial/s, best loss: 2.2129234639635826]2024-04-03 16:31:37,482 - build_posterior_wrapper took 0.017951 seconds\n",
      "2024-04-03 16:31:37,484 - TPE using 24/24 trials with best loss 2.212923\n",
      "  0%|          | 25/100000 [00:14<26:35:17,  1.04trial/s, best loss: 2.2129234639635826]2024-04-03 16:31:38,499 - build_posterior_wrapper took 0.017953 seconds\n",
      "2024-04-03 16:31:38,501 - TPE using 25/25 trials with best loss 2.212923\n",
      "  0%|          | 26/100000 [00:15<26:47:27,  1.04trial/s, best loss: 2.2129234639635826]2024-04-03 16:31:39,481 - build_posterior_wrapper took 0.017989 seconds\n",
      "2024-04-03 16:31:39,482 - TPE using 26/26 trials with best loss 2.212923\n",
      "  0%|          | 27/100000 [00:16<27:21:46,  1.01trial/s, best loss: 2.2129234639635826]2024-04-03 16:31:40,513 - build_posterior_wrapper took 0.017952 seconds\n",
      "2024-04-03 16:31:40,515 - TPE using 27/27 trials with best loss 2.212923\n",
      "  0%|          | 28/100000 [00:17<26:07:26,  1.06trial/s, best loss: 2.2129234639635826]2024-04-03 16:31:41,352 - build_posterior_wrapper took 0.017952 seconds\n",
      "2024-04-03 16:31:41,355 - TPE using 28/28 trials with best loss 2.212923\n",
      "  0%|          | 29/100000 [00:18<26:06:24,  1.06trial/s, best loss: 2.2129234639635826]2024-04-03 16:31:42,291 - build_posterior_wrapper took 0.017980 seconds\n",
      "2024-04-03 16:31:42,292 - TPE using 29/29 trials with best loss 2.212923\n",
      "  0%|          | 30/100000 [00:19<25:17:49,  1.10trial/s, best loss: 2.2129234639635826]2024-04-03 16:31:43,135 - build_posterior_wrapper took 0.017968 seconds\n",
      "2024-04-03 16:31:43,137 - TPE using 30/30 trials with best loss 2.212923\n",
      "  0%|          | 31/100000 [00:20<25:12:05,  1.10trial/s, best loss: 2.2129234639635826]2024-04-03 16:31:44,031 - build_posterior_wrapper took 0.017952 seconds\n",
      "2024-04-03 16:31:44,040 - TPE using 31/31 trials with best loss 2.212923\n",
      "  0%|          | 32/100000 [00:21<24:36:16,  1.13trial/s, best loss: 2.2129234639635826]2024-04-03 16:31:44,870 - build_posterior_wrapper took 0.018949 seconds\n",
      "2024-04-03 16:31:44,873 - TPE using 32/32 trials with best loss 2.212923\n",
      "  0%|          | 33/100000 [00:21<24:21:57,  1.14trial/s, best loss: 2.2129234639635826]2024-04-03 16:31:45,727 - build_posterior_wrapper took 0.017973 seconds\n",
      "2024-04-03 16:31:45,728 - TPE using 33/33 trials with best loss 2.212923\n",
      "  0%|          | 34/100000 [00:22<24:00:39,  1.16trial/s, best loss: 2.2129234639635826]2024-04-03 16:31:46,564 - build_posterior_wrapper took 0.017979 seconds\n",
      "2024-04-03 16:31:46,571 - TPE using 34/34 trials with best loss 2.212923\n",
      "  0%|          | 35/100000 [00:23<23:33:34,  1.18trial/s, best loss: 2.2129234639635826]2024-04-03 16:31:47,370 - build_posterior_wrapper took 0.016954 seconds\n",
      "2024-04-03 16:31:47,373 - TPE using 35/35 trials with best loss 2.212923\n",
      "  0%|          | 36/100000 [00:24<24:18:37,  1.14trial/s, best loss: 2.2129234639635826]2024-04-03 16:31:48,310 - build_posterior_wrapper took 0.017951 seconds\n",
      "2024-04-03 16:31:48,312 - TPE using 36/36 trials with best loss 2.212923\n",
      "  0%|          | 37/100000 [00:25<23:54:33,  1.16trial/s, best loss: 2.2129234639635826]2024-04-03 16:31:49,136 - build_posterior_wrapper took 0.017959 seconds\n",
      "2024-04-03 16:31:49,139 - TPE using 37/37 trials with best loss 2.212923\n",
      "  0%|          | 38/100000 [00:26<23:28:26,  1.18trial/s, best loss: 2.2129234639635826]2024-04-03 16:31:49,947 - build_posterior_wrapper took 0.016956 seconds\n",
      "2024-04-03 16:31:49,949 - TPE using 38/38 trials with best loss 2.212923\n",
      "  0%|          | 39/100000 [00:27<23:38:27,  1.17trial/s, best loss: 2.2129234639635826]2024-04-03 16:31:50,810 - build_posterior_wrapper took 0.016990 seconds\n",
      "2024-04-03 16:31:50,814 - TPE using 39/39 trials with best loss 2.212923\n",
      "  0%|          | 40/100000 [00:27<23:59:02,  1.16trial/s, best loss: 2.2129234639635826]2024-04-03 16:31:51,703 - build_posterior_wrapper took 0.017952 seconds\n",
      "2024-04-03 16:31:51,706 - TPE using 40/40 trials with best loss 2.212923\n",
      "  0%|          | 41/100000 [00:29<26:30:36,  1.05trial/s, best loss: 2.2129234639635826]2024-04-03 16:31:52,873 - build_posterior_wrapper took 0.018949 seconds\n",
      "2024-04-03 16:31:52,876 - TPE using 41/41 trials with best loss 2.212923\n",
      "  0%|          | 42/100000 [00:29<25:58:51,  1.07trial/s, best loss: 2.2129234639635826]2024-04-03 16:31:53,761 - build_posterior_wrapper took 0.016991 seconds\n",
      "2024-04-03 16:31:53,765 - TPE using 42/42 trials with best loss 2.212923\n",
      "  0%|          | 43/100000 [00:31<27:51:24,  1.00s/trial, best loss: 2.2129234639635826]2024-04-03 16:31:54,923 - build_posterior_wrapper took 0.018032 seconds\n",
      "2024-04-03 16:31:54,927 - TPE using 43/43 trials with best loss 2.212923\n",
      "  0%|          | 44/100000 [00:32<32:20:39,  1.16s/trial, best loss: 2.2129234639635826]2024-04-03 16:31:56,465 - build_posterior_wrapper took 0.016954 seconds\n",
      "2024-04-03 16:31:56,470 - TPE using 44/44 trials with best loss 2.212923\n",
      "  0%|          | 45/100000 [00:33<29:54:39,  1.08s/trial, best loss: 2.2129234639635826]2024-04-03 16:31:57,339 - build_posterior_wrapper took 0.017951 seconds\n",
      "2024-04-03 16:31:57,341 - TPE using 45/45 trials with best loss 2.212923\n",
      "  0%|          | 46/100000 [00:34<28:23:00,  1.02s/trial, best loss: 2.2129234639635826]2024-04-03 16:31:58,232 - build_posterior_wrapper took 0.017962 seconds\n",
      "2024-04-03 16:31:58,234 - TPE using 46/46 trials with best loss 2.212923\n",
      "  0%|          | 47/100000 [00:35<29:12:45,  1.05s/trial, best loss: 2.2129234639635826]2024-04-03 16:31:59,353 - build_posterior_wrapper took 0.017929 seconds\n",
      "2024-04-03 16:31:59,357 - TPE using 47/47 trials with best loss 2.212923\n",
      "  0%|          | 48/100000 [00:36<27:21:02,  1.02trial/s, best loss: 2.2129234639635826]2024-04-03 16:32:00,182 - build_posterior_wrapper took 0.016953 seconds\n",
      "2024-04-03 16:32:00,185 - TPE using 48/48 trials with best loss 2.212923\n",
      "  0%|          | 49/100000 [00:37<30:21:29,  1.09s/trial, best loss: 2.2129234639635826]2024-04-03 16:32:01,534 - build_posterior_wrapper took 0.016955 seconds\n",
      "2024-04-03 16:32:01,540 - TPE using 49/49 trials with best loss 2.212923\n",
      "  0%|          | 50/100000 [00:38<28:23:49,  1.02s/trial, best loss: 2.2129234639635826]2024-04-03 16:32:02,388 - build_posterior_wrapper took 0.017961 seconds\n",
      "2024-04-03 16:32:02,390 - TPE using 50/50 trials with best loss 2.212923\n",
      "  0%|          | 51/100000 [00:39<26:54:02,  1.03trial/s, best loss: 2.2129234639635826]2024-04-03 16:32:03,230 - build_posterior_wrapper took 0.017959 seconds\n",
      "2024-04-03 16:32:03,234 - TPE using 51/51 trials with best loss 2.212923\n",
      "  0%|          | 52/100000 [00:40<28:03:17,  1.01s/trial, best loss: 2.2129234639635826]2024-04-03 16:32:04,335 - build_posterior_wrapper took 0.016991 seconds\n",
      "2024-04-03 16:32:04,339 - TPE using 52/52 trials with best loss 2.212923\n",
      "  0%|          | 53/100000 [00:41<27:05:54,  1.02trial/s, best loss: 2.2129234639635826]2024-04-03 16:32:05,237 - build_posterior_wrapper took 0.021978 seconds\n",
      "2024-04-03 16:32:05,239 - TPE using 53/53 trials with best loss 2.212923\n",
      "  0%|          | 54/100000 [00:42<26:06:59,  1.06trial/s, best loss: 2.2129234639635826]2024-04-03 16:32:06,094 - build_posterior_wrapper took 0.019975 seconds\n",
      "2024-04-03 16:32:06,097 - TPE using 54/54 trials with best loss 2.212923\n",
      "  0%|          | 55/100000 [00:43<27:00:49,  1.03trial/s, best loss: 2.2129234639635826]2024-04-03 16:32:07,140 - build_posterior_wrapper took 0.018949 seconds\n",
      "2024-04-03 16:32:07,142 - TPE using 55/55 trials with best loss 2.212923\n",
      "  0%|          | 56/100000 [00:44<28:07:42,  1.01s/trial, best loss: 2.2129234639635826]2024-04-03 16:32:08,247 - build_posterior_wrapper took 0.017981 seconds\n",
      "2024-04-03 16:32:08,251 - TPE using 56/56 trials with best loss 2.212923\n",
      "  0%|          | 57/100000 [00:45<27:31:42,  1.01trial/s, best loss: 2.2129234639635826]2024-04-03 16:32:09,187 - build_posterior_wrapper took 0.017988 seconds\n",
      "2024-04-03 16:32:09,190 - TPE using 57/57 trials with best loss 2.212923\n",
      "  0%|          | 58/100000 [00:46<27:42:41,  1.00trial/s, best loss: 2.2129234639635826]2024-04-03 16:32:10,201 - build_posterior_wrapper took 0.018950 seconds\n",
      "2024-04-03 16:32:10,202 - TPE using 58/58 trials with best loss 2.212923\n",
      "  0%|          | 59/100000 [00:47<28:29:48,  1.03s/trial, best loss: 2.2129234639635826]2024-04-03 16:32:11,295 - build_posterior_wrapper took 0.017947 seconds\n",
      "2024-04-03 16:32:11,300 - TPE using 59/59 trials with best loss 2.212923\n",
      "  0%|          | 60/100000 [00:48<27:13:58,  1.02trial/s, best loss: 2.2129234639635826]2024-04-03 16:32:12,170 - build_posterior_wrapper took 0.017957 seconds\n",
      "2024-04-03 16:32:12,172 - TPE using 60/60 trials with best loss 2.212923\n",
      "  0%|          | 61/100000 [00:49<28:04:05,  1.01s/trial, best loss: 2.2129234639635826]2024-04-03 16:32:13,251 - build_posterior_wrapper took 0.017953 seconds\n",
      "2024-04-03 16:32:13,253 - TPE using 61/61 trials with best loss 2.212923\n",
      "  0%|          | 62/100000 [00:50<27:01:29,  1.03trial/s, best loss: 2.2129234639635826]2024-04-03 16:32:14,140 - build_posterior_wrapper took 0.021976 seconds\n",
      "2024-04-03 16:32:14,142 - TPE using 62/62 trials with best loss 2.212923\n",
      "  0%|          | 63/100000 [00:51<26:33:16,  1.05trial/s, best loss: 2.2129234639635826]2024-04-03 16:32:15,054 - build_posterior_wrapper took 0.018943 seconds\n",
      "2024-04-03 16:32:15,059 - TPE using 63/63 trials with best loss 2.212923\n",
      "  0%|          | 64/100000 [00:52<27:45:04,  1.00trial/s, best loss: 2.2129234639635826]2024-04-03 16:32:16,154 - build_posterior_wrapper took 0.017989 seconds\n",
      "2024-04-03 16:32:16,157 - TPE using 64/64 trials with best loss 2.212923\n",
      "  0%|          | 65/100000 [00:53<26:01:46,  1.07trial/s, best loss: 2.2129234639635826]2024-04-03 16:32:16,947 - build_posterior_wrapper took 0.016990 seconds\n",
      "2024-04-03 16:32:16,949 - TPE using 65/65 trials with best loss 2.212923\n",
      "  0%|          | 66/100000 [00:54<25:24:26,  1.09trial/s, best loss: 2.1920788102215303]2024-04-03 16:32:17,809 - build_posterior_wrapper took 0.017951 seconds\n",
      "2024-04-03 16:32:17,812 - TPE using 66/66 trials with best loss 2.192079\n",
      "  0%|          | 67/100000 [00:54<25:10:25,  1.10trial/s, best loss: 2.1920788102215303]2024-04-03 16:32:18,696 - build_posterior_wrapper took 0.017990 seconds\n",
      "2024-04-03 16:32:18,698 - TPE using 67/67 trials with best loss 2.192079\n",
      "  0%|          | 68/100000 [00:55<25:20:05,  1.10trial/s, best loss: 2.1920788102215303]2024-04-03 16:32:19,622 - build_posterior_wrapper took 0.017961 seconds\n",
      "2024-04-03 16:32:19,622 - TPE using 68/68 trials with best loss 2.192079\n",
      "  0%|          | 69/100000 [00:56<25:17:44,  1.10trial/s, best loss: 2.1920788102215303]2024-04-03 16:32:20,531 - build_posterior_wrapper took 0.018956 seconds\n",
      "2024-04-03 16:32:20,540 - TPE using 69/69 trials with best loss 2.192079\n",
      "  0%|          | 70/100000 [00:57<25:22:26,  1.09trial/s, best loss: 2.1920788102215303]2024-04-03 16:32:21,451 - build_posterior_wrapper took 0.018949 seconds\n",
      "2024-04-03 16:32:21,453 - TPE using 70/70 trials with best loss 2.192079\n",
      "  0%|          | 71/100000 [00:58<25:33:36,  1.09trial/s, best loss: 2.1920788102215303]2024-04-03 16:32:22,388 - build_posterior_wrapper took 0.018456 seconds\n",
      "2024-04-03 16:32:22,389 - TPE using 71/71 trials with best loss 2.192079\n",
      "  0%|          | 72/100000 [00:59<26:38:22,  1.04trial/s, best loss: 2.1920788102215303]\n",
      "2024-04-03 16:32:23,269 - SimultaneousTuner - Hyperparameters optimization finished\n",
      "2024-04-03 16:32:24,044 - SimultaneousTuner - Return tuned graph due to the fact that obtained metric 2.246 equal or better than initial (+ 0.05% deviation) 2.904\n",
      "2024-04-03 16:32:24,046 - SimultaneousTuner - Final graph: {'depth': 4, 'length': 4, 'nodes': [treg, channel_filtration, quantile_extractor, scaling]}\n",
      "treg - {'bootstrap': False, 'max_features': 0.5829706819184924, 'min_samples_leaf': 2, 'min_samples_split': 3}\n",
      "channel_filtration - {'distance': 'euclidean', 'centroid_metric': 'euclidean', 'sample_metric': 'chebyshev', 'selection_strategy': 'pairwise'}\n",
      "quantile_extractor - {'stride': 4, 'window_size': 48}\n",
      "scaling - {}\n",
      "2024-04-03 16:32:24,047 - SimultaneousTuner - Final metric: 2.246\n",
      "2024-04-03 16:32:24,059 - ApiComposer - Hyperparameters tuning finished\n",
      "2024-04-03 16:32:24,399 - full garbage collections took 15% CPU time recently (threshold: 10%)\n",
      "2024-04-03 16:32:24,402 - ApiComposer - Model generation finished\n",
      "2024-04-03 16:32:25,134 - FEDOT logger - Final pipeline was fitted\n",
      "2024-04-03 16:32:25,137 - FEDOT logger - Final pipeline: {'depth': 4, 'length': 4, 'nodes': [treg, channel_filtration, quantile_extractor, scaling]}\n",
      "treg - {'bootstrap': False, 'max_features': 0.5829706819184924, 'min_samples_leaf': 2, 'min_samples_split': 3}\n",
      "channel_filtration - {'distance': 'euclidean', 'centroid_metric': 'euclidean', 'sample_metric': 'chebyshev', 'selection_strategy': 'pairwise'}\n",
      "quantile_extractor - {'stride': 4, 'window_size': 48}\n",
      "scaling - {}\n",
      "2024-04-03 16:32:25,138 - MemoryAnalytics - Memory consumption for finish in main session: current 231.0 MiB, max: 234.9 MiB\n"
     ]
    }
   ],
   "source": [
    "industrial_auto_model = evaluate_loop(api_params=params, finetune=False)"
   ],
   "metadata": {
    "collapsed": false,
    "pycharm": {
     "name": "#%%\n"
    }
   }
  },
  {
   "cell_type": "code",
   "execution_count": 44,
   "outputs": [],
   "source": [
    "auto_labels = industrial_auto_model.predict(test_data)\n",
    "auto_metrics = industrial_auto_model.get_metrics(target=test_data[1],\n",
    "                                 rounding_order=3,\n",
    "                                 metric_names=('r2', 'rmse', 'mae'))"
   ],
   "metadata": {
    "collapsed": false,
    "pycharm": {
     "name": "#%%\n"
    }
   }
  },
  {
   "cell_type": "code",
   "execution_count": 12,
   "outputs": [
    {
     "name": "stdout",
     "output_type": "stream",
     "text": [
      "2024-04-03 17:59:52,008 - OperationsAnimatedBar - Visualizing optimization history... It may take some time, depending on the history size.\n",
      "2024-04-03 17:59:52,289 - MovieWriter ffmpeg unavailable; using Pillow instead.\n",
      "2024-04-03 17:59:52,289 - Animation.save using <class 'matplotlib.animation.PillowWriter'>\n",
      "2024-04-03 18:00:02,444 - OperationsAnimatedBar - The animation was saved to \"D:\\WORK\\Repo\\Industiral\\IndustrialTS\\results_of_experiments\\history_animated_bars.gif\".\n",
      "2024-04-03 18:00:02,446 - FitnessBox - Visualizing optimization history... It may take some time, depending on the history size.\n",
      "2024-04-03 18:00:02,535 - Using categorical units to plot a list of strings that are all parsable as floats or dates. If these strings should be plotted as numbers, cast to the appropriate data type before plotting.\n",
      "2024-04-03 18:00:02,544 - Using categorical units to plot a list of strings that are all parsable as floats or dates. If these strings should be plotted as numbers, cast to the appropriate data type before plotting.\n",
      "2024-04-03 18:00:02,640 - default - The figure was saved to \"D:\\WORK\\Repo\\Industiral\\IndustrialTS\\results_of_experiments\\fitness_by_gen.png\".\n"
     ]
    }
   ],
   "source": [
    "industrial_auto_model.solver.current_pipeline.show()\n",
    "industrial_auto_model.plot_operation_distribution(mode='each')\n",
    "industrial_auto_model.plot_fitness_by_generation()"
   ],
   "metadata": {
    "collapsed": false,
    "pycharm": {
     "name": "#%%\n"
    }
   }
  },
  {
   "cell_type": "code",
   "execution_count": 45,
   "outputs": [
    {
     "data": {
      "text/plain": "      r2   rmse    mae\n0  0.612  1.121  0.756",
      "text/html": "<div>\n<style scoped>\n    .dataframe tbody tr th:only-of-type {\n        vertical-align: middle;\n    }\n\n    .dataframe tbody tr th {\n        vertical-align: top;\n    }\n\n    .dataframe thead th {\n        text-align: right;\n    }\n</style>\n<table border=\"1\" class=\"dataframe\">\n  <thead>\n    <tr style=\"text-align: right;\">\n      <th></th>\n      <th>r2</th>\n      <th>rmse</th>\n      <th>mae</th>\n    </tr>\n  </thead>\n  <tbody>\n    <tr>\n      <th>0</th>\n      <td>0.612</td>\n      <td>1.121</td>\n      <td>0.756</td>\n    </tr>\n  </tbody>\n</table>\n</div>"
     },
     "execution_count": 45,
     "metadata": {},
     "output_type": "execute_result"
    }
   ],
   "source": [
    "auto_metrics"
   ],
   "metadata": {
    "collapsed": false,
    "pycharm": {
     "name": "#%%\n"
    }
   }
  },
  {
   "cell_type": "code",
   "execution_count": 46,
   "outputs": [],
   "source": [
    "predictions = np.vstack([test_data[1].flatten(),labels.flatten(),auto_labels.flatten()]).T"
   ],
   "metadata": {
    "collapsed": false,
    "pycharm": {
     "name": "#%%\n"
    }
   }
  },
  {
   "cell_type": "code",
   "execution_count": 47,
   "outputs": [],
   "source": [
    "all_prediction = pd.DataFrame(predictions,columns=['target','baseline','automl'])"
   ],
   "metadata": {
    "collapsed": false,
    "pycharm": {
     "name": "#%%\n"
    }
   }
  },
  {
   "cell_type": "code",
   "execution_count": 55,
   "outputs": [],
   "source": [
    "all_prediction.plot()\n",
    "plt.show()"
   ],
   "metadata": {
    "collapsed": false,
    "pycharm": {
     "name": "#%%\n"
    }
   }
  },
  {
   "cell_type": "markdown",
   "source": [
    "## Compare with State of Art (SOTA) models"
   ],
   "metadata": {
    "collapsed": false,
    "pycharm": {
     "name": "#%% md\n"
    }
   }
  },
  {
   "cell_type": "code",
   "execution_count": 49,
   "outputs": [],
   "source": [
    "df = pd.read_csv(data_path+'/ts_regression_sota_results.csv',sep=';')\n",
    "df = df[df['ds/type'] == dataset_name].iloc[:,:25]\n",
    "df.index = df['algorithm']\n",
    "df = df.drop(['algorithm','ds/type'], axis=1)\n",
    "df = df.replace(',','.', regex=True).astype(float)"
   ],
   "metadata": {
    "collapsed": false,
    "pycharm": {
     "name": "#%%\n"
    }
   }
  },
  {
   "cell_type": "code",
   "execution_count": 51,
   "outputs": [],
   "source": [
    "df['Fedot_Industrial_tuned'] = metrics['rmse'][0]\n",
    "df['Fedot_Industrial_AutoML'] = auto_metrics['rmse'][0]\n",
    "df = df.T"
   ],
   "metadata": {
    "collapsed": false,
    "pycharm": {
     "name": "#%%\n"
    }
   }
  },
  {
   "cell_type": "code",
   "execution_count": 52,
   "outputs": [
    {
     "data": {
      "text/plain": "FreshPRINCE_RMSE           1.020426\nFedot_Industrial_tuned     1.032000\nDrCIF_RMSE                 1.046399\nRotF_RMSE                  1.097089\nFedot_Industrial_AutoML    1.121000\nTSF_RMSE                   1.172730\nRandF_RMSE                 1.182821\nXGBoost_RMSE               1.272832\nRIST_RMSE                  1.301506\nRDST_RMSE                  1.382981\nMultiROCKET_RMSE           1.454406\nSingleInception_RMSE       1.490343\nInceptionT_RMSE            1.542210\n5NN-DTW_RMSE               1.593567\nCNN_RMSE                   1.602674\nFPCR-Bs_RMSE               1.607024\nResNet_RMSE                1.610736\nFCN_RMSE                   1.636335\nFPCR_RMSE                  1.637966\nGrid-SVR_RMSE              1.699988\nRidge_RMSE                 1.713667\nROCKET_RMSE                1.856612\n5NN-ED_RMSE                1.905470\n1NN-ED_RMSE                2.129638\n1NN-DTW_RMSE               2.211915\nName: min, dtype: float64"
     },
     "execution_count": 52,
     "metadata": {},
     "output_type": "execute_result"
    }
   ],
   "source": [
    "df.sort_values('min')['min']"
   ],
   "metadata": {
    "collapsed": false,
    "pycharm": {
     "name": "#%%\n"
    }
   }
  },
  {
   "cell_type": "code",
   "execution_count": 53,
   "outputs": [
    {
     "data": {
      "text/plain": "Fedot_Industrial_tuned     1.032000\nFedot_Industrial_AutoML    1.121000\nRIST_RMSE                  1.887153\nRotF_RMSE                  2.088333\nFreshPRINCE_RMSE           2.101253\nMultiROCKET_RMSE           2.137563\nTSF_RMSE                   2.181236\nRDST_RMSE                  2.200364\nDrCIF_RMSE                 2.201153\nResNet_RMSE                2.404590\nRandF_RMSE                 2.446314\n5NN-DTW_RMSE               2.502464\nXGBoost_RMSE               2.511297\nFPCR-Bs_RMSE               2.512605\nFPCR_RMSE                  2.523426\n5NN-ED_RMSE                2.554152\nFCN_RMSE                   2.559661\nInceptionT_RMSE            2.574168\nSingleInception_RMSE       2.633115\nCNN_RMSE                   2.674200\nGrid-SVR_RMSE              2.800419\nROCKET_RMSE                2.870444\nRidge_RMSE                 2.904762\n1NN-ED_RMSE                3.281798\n1NN-DTW_RMSE               3.408802\nName: max, dtype: float64"
     },
     "execution_count": 53,
     "metadata": {},
     "output_type": "execute_result"
    }
   ],
   "source": [
    "df.sort_values('max')['max']"
   ],
   "metadata": {
    "collapsed": false,
    "pycharm": {
     "name": "#%%\n"
    }
   }
  },
  {
   "cell_type": "code",
   "execution_count": 54,
   "outputs": [
    {
     "data": {
      "text/plain": "Fedot_Industrial_tuned     1.032000\nFedot_Industrial_AutoML    1.121000\nFreshPRINCE_RMSE           1.490442\nRIST_RMSE                  1.501047\nRotF_RMSE                  1.559385\nDrCIF_RMSE                 1.594442\nTSF_RMSE                   1.684828\nRandF_RMSE                 1.708196\nXGBoost_RMSE               1.716903\nRDST_RMSE                  1.772813\nMultiROCKET_RMSE           1.773578\nResNet_RMSE                1.938074\nInceptionT_RMSE            2.030315\nFPCR_RMSE                  2.052389\n5NN-DTW_RMSE               2.055256\nFCN_RMSE                   2.069046\nFPCR-Bs_RMSE               2.097964\nSingleInception_RMSE       2.149368\nCNN_RMSE                   2.150854\nGrid-SVR_RMSE              2.203537\n5NN-ED_RMSE                2.251424\nROCKET_RMSE                2.275254\nRidge_RMSE                 2.363609\n1NN-DTW_RMSE               2.742105\n1NN-ED_RMSE                2.822595\nName: average, dtype: float64"
     },
     "execution_count": 54,
     "metadata": {},
     "output_type": "execute_result"
    }
   ],
   "source": [
    "df.sort_values('average')['average']"
   ],
   "metadata": {
    "collapsed": false,
    "pycharm": {
     "name": "#%%\n"
    }
   }
  }
 ],
 "metadata": {
  "kernelspec": {
   "display_name": "Python 3 (ipykernel)",
   "language": "python",
   "name": "python3"
  },
  "language_info": {
   "codemirror_mode": {
    "name": "ipython",
    "version": 3
   },
   "file_extension": ".py",
   "mimetype": "text/x-python",
   "name": "python",
   "nbconvert_exporter": "python",
   "pygments_lexer": "ipython3",
   "version": "3.8.1"
  }
 },
 "nbformat": 4,
 "nbformat_minor": 1
}