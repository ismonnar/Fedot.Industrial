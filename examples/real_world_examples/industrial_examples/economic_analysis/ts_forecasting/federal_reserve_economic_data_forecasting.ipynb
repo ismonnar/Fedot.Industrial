{
 "cells": [
  {
   "cell_type": "markdown",
   "source": [
    "## Predict historical prices of Brent Oil, Crude Oil WTI, Natural Gas, Heating Oil from 2000-2022 with Fedot.Industrial"
   ],
   "metadata": {
    "collapsed": false,
    "pycharm": {
     "name": "#%% md\n"
    }
   }
  },
  {
   "cell_type": "markdown",
   "source": [
    "Dataset published on Kaggle3 consists of historical prices of Brent Oil, CrudeOil WTI, Natural Gas, and Heating Oil from 2000 to 2022. This sample of DailyOilGasPrices was created by using 30 consecutive business days of **Crude Oil WTI close prices** and **traded volumes** as **predictors** and the **average natural gas close** price during each 30-day time frame as the **target** variable. The final dataset has 191 2-dimensional time series of length 30, of which 70% were randomly sampled as training data and the remaining 30% as testing data. This type of model could help companies and governments to better analyse and predict economic situations and correlations regarding oil and natural gas.\n",
    "Link to the dataset - https://www.kaggl.com/datasets/prasertk/historical-daily-oil-and-natural-gas-prices"
   ],
   "metadata": {
    "collapsed": false,
    "pycharm": {
     "name": "#%% md\n"
    }
   }
  },
  {
   "cell_type": "code",
   "execution_count": 1,
   "outputs": [],
   "source": [
    "import pandas as pd\n",
    "from fedot_ind.api.main import Framework"
   ],
   "metadata": {
    "collapsed": false,
    "pycharm": {
     "name": "#%%\n"
    }
   }
  },
  {
   "cell_type": "code",
   "execution_count": 2,
   "outputs": [],
   "source": [
    "def evaluate_loop(train_data, api_params, finetune: bool = False):\n",
    "    industrial = Framework(**api_params)\n",
    "    if finetune:\n",
    "        industrial.finetune(train_data)\n",
    "    else:\n",
    "        industrial.fit(train_data)\n",
    "    return industrial"
   ],
   "metadata": {
    "collapsed": false,
    "pycharm": {
     "name": "#%%\n"
    }
   }
  },
  {
   "cell_type": "code",
   "execution_count": 3,
   "outputs": [],
   "source": [
    "from fedot_ind.api.utils.path_lib import PROJECT_PATH\n",
    "\n",
    "dataset_name = PROJECT_PATH +'/examples/data/forecasting\\monash_benchmark\\MonashFredMd_12.csv'\n",
    "horizon = 12\n",
    "metric_names = ('smape', 'rmse', 'median_absolute_error')\n",
    "train_data = pd.read_csv(dataset_name)\n",
    "params = dict(problem='ts_forecasting',\n",
    "                             metric='rmse',\n",
    "                             timeout=15,\n",
    "                             pop_size = 10,\n",
    "                             with_tuning = False,\n",
    "                             task_params={'forecast_length': horizon},\n",
    "                             industrial_strategy='forecasting_assumptions',\n",
    "                             n_jobs=2,\n",
    "                             logging_level=50)"
   ],
   "metadata": {
    "collapsed": false,
    "pycharm": {
     "name": "#%%\n"
    }
   }
  },
  {
   "cell_type": "code",
   "execution_count": 4,
   "outputs": [
    {
     "data": {
      "text/plain": "         datetime        value label\n0      1959-01-01  2437.295898    T1\n1      1959-02-01  2446.902100    T1\n2      1959-03-01  2462.688965    T1\n3      1959-04-01  2478.743896    T1\n4      1959-05-01  2493.228027    T1\n...           ...          ...   ...\n77891  2019-04-01  3608.839111  T107\n77892  2019-05-01  3622.253174  T107\n77893  2019-06-01  3651.351318  T107\n77894  2019-07-01  3673.951416  T107\n77895  2019-08-01  3725.410400  T107\n\n[77896 rows x 3 columns]",
      "text/html": "<div>\n<style scoped>\n    .dataframe tbody tr th:only-of-type {\n        vertical-align: middle;\n    }\n\n    .dataframe tbody tr th {\n        vertical-align: top;\n    }\n\n    .dataframe thead th {\n        text-align: right;\n    }\n</style>\n<table border=\"1\" class=\"dataframe\">\n  <thead>\n    <tr style=\"text-align: right;\">\n      <th></th>\n      <th>datetime</th>\n      <th>value</th>\n      <th>label</th>\n    </tr>\n  </thead>\n  <tbody>\n    <tr>\n      <th>0</th>\n      <td>1959-01-01</td>\n      <td>2437.295898</td>\n      <td>T1</td>\n    </tr>\n    <tr>\n      <th>1</th>\n      <td>1959-02-01</td>\n      <td>2446.902100</td>\n      <td>T1</td>\n    </tr>\n    <tr>\n      <th>2</th>\n      <td>1959-03-01</td>\n      <td>2462.688965</td>\n      <td>T1</td>\n    </tr>\n    <tr>\n      <th>3</th>\n      <td>1959-04-01</td>\n      <td>2478.743896</td>\n      <td>T1</td>\n    </tr>\n    <tr>\n      <th>4</th>\n      <td>1959-05-01</td>\n      <td>2493.228027</td>\n      <td>T1</td>\n    </tr>\n    <tr>\n      <th>...</th>\n      <td>...</td>\n      <td>...</td>\n      <td>...</td>\n    </tr>\n    <tr>\n      <th>77891</th>\n      <td>2019-04-01</td>\n      <td>3608.839111</td>\n      <td>T107</td>\n    </tr>\n    <tr>\n      <th>77892</th>\n      <td>2019-05-01</td>\n      <td>3622.253174</td>\n      <td>T107</td>\n    </tr>\n    <tr>\n      <th>77893</th>\n      <td>2019-06-01</td>\n      <td>3651.351318</td>\n      <td>T107</td>\n    </tr>\n    <tr>\n      <th>77894</th>\n      <td>2019-07-01</td>\n      <td>3673.951416</td>\n      <td>T107</td>\n    </tr>\n    <tr>\n      <th>77895</th>\n      <td>2019-08-01</td>\n      <td>3725.410400</td>\n      <td>T107</td>\n    </tr>\n  </tbody>\n</table>\n<p>77896 rows × 3 columns</p>\n</div>"
     },
     "execution_count": 4,
     "metadata": {},
     "output_type": "execute_result"
    }
   ],
   "source": [
    "train_data"
   ],
   "metadata": {
    "collapsed": false,
    "pycharm": {
     "name": "#%%\n"
    }
   }
  },
  {
   "cell_type": "markdown",
   "source": [
    "Now we must download the dataset. It could be done by using `DataReader` class that implemented as attribute of `Framework` class. This class firstly tries to read the data from local project folder `data_path` and then if it is not possible, it downloads the data from the UCR/UEA archive. The data will be saved in the `data` folder."
   ],
   "metadata": {
    "collapsed": false,
    "pycharm": {
     "name": "#%% md\n"
    }
   }
  },
  {
   "cell_type": "code",
   "execution_count": 5,
   "outputs": [],
   "source": [
    "id_list = train_data['label'].unique().tolist()\n",
    "data_split = {id:train_data[train_data['label']==id]['value'].values for id in id_list}"
   ],
   "metadata": {
    "collapsed": false,
    "pycharm": {
     "name": "#%%\n"
    }
   }
  },
  {
   "cell_type": "markdown",
   "source": [
    "Lets check our data."
   ],
   "metadata": {
    "collapsed": false,
    "pycharm": {
     "name": "#%% md\n"
    }
   }
  },
  {
   "cell_type": "markdown",
   "source": [
    "Lets visualise our predictors."
   ],
   "metadata": {
    "collapsed": false,
    "pycharm": {
     "name": "#%% md\n"
    }
   }
  },
  {
   "cell_type": "code",
   "execution_count": null,
   "outputs": [],
   "source": [
    "from matplotlib import pyplot as plt\n",
    "pd.DataFrame(train_data).plot(title='Example of FRED time series')\n",
    "plt.show()"
   ],
   "metadata": {
    "collapsed": false,
    "pycharm": {
     "name": "#%%\n"
    }
   }
  },
  {
   "cell_type": "markdown",
   "source": [
    "Next steps are quite straightforward. We need to fit the model and then predict the values for the test data just like for any other model in sklearn.\n",
    "\n",
    "At the `fit` stage Framework will transform initial time series data into features dataframe and will train regression model."
   ],
   "metadata": {
    "collapsed": false,
    "pycharm": {
     "name": "#%% md\n"
    }
   }
  },
  {
   "cell_type": "code",
   "execution_count": null,
   "outputs": [],
   "source": [
    "industrial_model =  evaluate_loop(train_data = input_data, api_params=params, finetune=True)"
   ],
   "metadata": {
    "collapsed": false,
    "pycharm": {
     "name": "#%%\n"
    }
   }
  },
  {
   "cell_type": "code",
   "execution_count": null,
   "outputs": [],
   "source": [
    "labels = industrial_model.predict(train_data)\n",
    "metrics = industrial_model.get_metrics(target=target,\n",
    "                                         metric_names=metric_names)"
   ],
   "metadata": {
    "collapsed": false,
    "pycharm": {
     "name": "#%%\n"
    }
   }
  },
  {
   "cell_type": "code",
   "execution_count": null,
   "outputs": [],
   "source": [
    "metrics"
   ],
   "metadata": {
    "collapsed": false,
    "pycharm": {
     "name": "#%%\n"
    }
   }
  },
  {
   "cell_type": "markdown",
   "source": [
    "## AutoML approach"
   ],
   "metadata": {
    "collapsed": false,
    "pycharm": {
     "name": "#%% md\n"
    }
   }
  },
  {
   "cell_type": "code",
   "execution_count": 8,
   "outputs": [
    {
     "name": "stdout",
     "output_type": "stream",
     "text": [
      "Creating Dask Server\n"
     ]
    },
    {
     "name": "stderr",
     "output_type": "stream",
     "text": [
      "Generations:   0%|          | 11/10000 [04:41<71:07:00, 25.63s/gen]\n",
      "Generations:   0%|          | 5/10000 [04:55<164:02:45, 59.09s/gen]\n",
      "Generations:   0%|          | 10/10000 [04:44<78:53:15, 28.43s/gen]\n"
     ]
    },
    {
     "name": "stdout",
     "output_type": "stream",
     "text": [
      "Creating Dask Server\n"
     ]
    },
    {
     "name": "stderr",
     "output_type": "stream",
     "text": [
      "Generations:   0%|          | 11/10000 [04:42<71:08:22, 25.64s/gen]\n",
      "Generations:   0%|          | 5/10000 [08:55<297:23:38, 107.12s/gen]\n",
      "Generations:   0%|          | 11/10000 [04:52<73:47:17, 26.59s/gen]\n"
     ]
    },
    {
     "name": "stdout",
     "output_type": "stream",
     "text": [
      "Creating Dask Server\n"
     ]
    },
    {
     "name": "stderr",
     "output_type": "stream",
     "text": [
      "Generations:   0%|          | 11/10000 [05:11<78:30:50, 28.30s/gen]\n",
      "Generations:   0%|          | 4/10000 [10:02<418:25:21, 150.69s/gen]\n",
      "Generations:   0%|          | 10/10000 [04:39<77:39:27, 27.98s/gen]\n"
     ]
    },
    {
     "name": "stdout",
     "output_type": "stream",
     "text": [
      "Creating Dask Server\n"
     ]
    },
    {
     "name": "stderr",
     "output_type": "stream",
     "text": [
      "Generations:   0%|          | 9/10000 [04:41<86:46:34, 31.27s/gen]\n",
      "Generations:   0%|          | 4/10000 [05:02<210:15:10, 75.72s/gen]\n",
      "Generations:   0%|          | 5/10000 [04:34<152:32:31, 54.94s/gen]\n"
     ]
    },
    {
     "name": "stdout",
     "output_type": "stream",
     "text": [
      "Creating Dask Server\n"
     ]
    },
    {
     "name": "stderr",
     "output_type": "stream",
     "text": [
      "Generations:   0%|          | 10/10000 [05:00<83:26:03, 30.07s/gen]\n",
      "Generations:   0%|          | 4/10000 [04:58<206:55:05, 74.52s/gen]\n",
      "Generations:   0%|          | 20/10000 [05:14<43:39:40, 15.75s/gen]\n"
     ]
    },
    {
     "name": "stdout",
     "output_type": "stream",
     "text": [
      "Creating Dask Server\n"
     ]
    },
    {
     "name": "stderr",
     "output_type": "stream",
     "text": [
      "Generations:   0%|          | 11/10000 [05:35<84:37:10, 30.50s/gen] \n",
      "Generations:   0%|          | 4/10000 [04:42<196:26:43, 70.75s/gen]\n",
      "Generations:   0%|          | 14/10000 [04:41<55:47:50, 20.12s/gen]\n"
     ]
    },
    {
     "name": "stdout",
     "output_type": "stream",
     "text": [
      "Creating Dask Server\n"
     ]
    },
    {
     "name": "stderr",
     "output_type": "stream",
     "text": [
      "Generations:   0%|          | 12/10000 [04:53<67:51:11, 24.46s/gen]\n",
      "Generations:   0%|          | 4/10000 [04:59<207:42:55, 74.81s/gen]\n",
      "Generations:   0%|          | 18/10000 [04:50<44:43:07, 16.13s/gen]\n"
     ]
    },
    {
     "name": "stdout",
     "output_type": "stream",
     "text": [
      "Creating Dask Server\n"
     ]
    },
    {
     "name": "stderr",
     "output_type": "stream",
     "text": [
      "Generations:   0%|          | 9/10000 [04:40<86:28:21, 31.16s/gen] \n",
      "Generations:   0%|          | 3/10000 [04:20<241:15:13, 86.88s/gen]\n",
      "Generations:   0%|          | 18/10000 [04:49<44:38:28, 16.10s/gen]\n"
     ]
    },
    {
     "name": "stdout",
     "output_type": "stream",
     "text": [
      "Creating Dask Server\n"
     ]
    },
    {
     "name": "stderr",
     "output_type": "stream",
     "text": [
      "Generations:   0%|          | 9/10000 [04:48<88:55:04, 32.04s/gen] \n",
      "Generations:   0%|          | 3/10000 [06:14<346:21:15, 124.72s/gen]\n",
      "Generations:   0%|          | 3/10000 [05:33<308:25:57, 111.07s/gen]\n"
     ]
    },
    {
     "name": "stdout",
     "output_type": "stream",
     "text": [
      "Creating Dask Server\n"
     ]
    },
    {
     "name": "stderr",
     "output_type": "stream",
     "text": [
      "Generations:   0%|          | 10/10000 [04:52<81:12:36, 29.26s/gen] \n",
      "Generations:   0%|          | 4/10000 [05:00<208:38:41, 75.14s/gen]\n",
      "Generations:   0%|          | 5/10000 [04:29<149:25:12, 53.82s/gen]\n"
     ]
    },
    {
     "name": "stdout",
     "output_type": "stream",
     "text": [
      "Creating Dask Server\n"
     ]
    },
    {
     "name": "stderr",
     "output_type": "stream",
     "text": [
      "Generations:   0%|          | 10/10000 [04:51<80:46:51, 29.11s/gen] \n",
      "Generations:   0%|          | 4/10000 [08:34<357:23:38, 128.71s/gen]\n",
      "Generations:   0%|          | 4/10000 [04:50<201:45:30, 72.66s/gen]\n"
     ]
    },
    {
     "name": "stdout",
     "output_type": "stream",
     "text": [
      "Creating Dask Server\n"
     ]
    },
    {
     "name": "stderr",
     "output_type": "stream",
     "text": [
      "Generations:   0%|          | 8/10000 [04:52<101:30:52, 36.57s/gen]\n",
      "Generations:   0%|          | 3/10000 [04:05<227:36:39, 81.96s/gen]\n",
      "Generations:   0%|          | 12/10000 [04:47<66:23:41, 23.93s/gen]\n"
     ]
    },
    {
     "name": "stdout",
     "output_type": "stream",
     "text": [
      "Creating Dask Server\n"
     ]
    },
    {
     "name": "stderr",
     "output_type": "stream",
     "text": [
      "Generations:   0%|          | 10/10000 [04:55<82:05:14, 29.58s/gen] \n",
      "Generations:   0%|          | 2/10000 [04:50<404:02:47, 145.49s/gen]\n",
      "Generations:   0%|          | 4/10000 [04:26<184:58:03, 66.61s/gen]\n"
     ]
    },
    {
     "name": "stdout",
     "output_type": "stream",
     "text": [
      "Creating Dask Server\n"
     ]
    },
    {
     "name": "stderr",
     "output_type": "stream",
     "text": [
      "Generations:   0%|          | 8/10000 [04:57<103:14:39, 37.20s/gen]\n",
      "Generations:   0%|          | 3/10000 [04:40<259:17:53, 93.38s/gen]\n",
      "Generations:   0%|          | 2/10000 [06:46<564:34:08, 203.29s/gen]\n"
     ]
    },
    {
     "name": "stdout",
     "output_type": "stream",
     "text": [
      "Creating Dask Server\n"
     ]
    },
    {
     "name": "stderr",
     "output_type": "stream",
     "text": [
      "Generations:   0%|          | 7/10000 [04:42<111:54:29, 40.32s/gen]\n",
      "Generations:   0%|          | 3/10000 [04:54<272:49:03, 98.24s/gen] \n",
      "Generations:   0%|          | 4/10000 [05:09<214:42:12, 77.32s/gen]\n"
     ]
    },
    {
     "name": "stdout",
     "output_type": "stream",
     "text": [
      "Creating Dask Server\n"
     ]
    },
    {
     "name": "stderr",
     "output_type": "stream",
     "text": [
      "Generations:   0%|          | 7/10000 [04:48<114:16:13, 41.17s/gen]\n",
      "Generations:   0%|          | 2/10000 [03:51<322:09:03, 116.00s/gen]\n",
      "Generations:   0%|          | 5/10000 [04:30<150:02:41, 54.04s/gen] \n"
     ]
    },
    {
     "name": "stdout",
     "output_type": "stream",
     "text": [
      "Creating Dask Server\n"
     ]
    },
    {
     "name": "stderr",
     "output_type": "stream",
     "text": [
      "Generations:   0%|          | 9/10000 [04:55<91:02:50, 32.81s/gen] \n",
      "Generations:   0%|          | 2/10000 [04:13<351:27:23, 126.55s/gen]\n",
      "Generations:   0%|          | 3/10000 [08:22<465:29:36, 167.63s/gen]\n"
     ]
    },
    {
     "name": "stdout",
     "output_type": "stream",
     "text": [
      "Creating Dask Server\n"
     ]
    },
    {
     "name": "stderr",
     "output_type": "stream",
     "text": [
      "Generations:   0%|          | 5/10000 [05:32<184:37:54, 66.50s/gen]\n",
      "Generations:   0%|          | 2/10000 [04:55<410:52:11, 147.94s/gen]\n",
      "Generations:   0%|          | 5/10000 [05:00<166:55:22, 60.12s/gen]\n"
     ]
    },
    {
     "name": "stdout",
     "output_type": "stream",
     "text": [
      "Creating Dask Server\n"
     ]
    },
    {
     "name": "stderr",
     "output_type": "stream",
     "text": [
      "Generations:   0%|          | 4/10000 [05:11<216:25:39, 77.95s/gen]\n",
      "Generations:   0%|          | 2/10000 [03:49<319:04:24, 114.89s/gen]\n",
      "Generations:   0%|          | 4/10000 [04:23<182:34:53, 65.76s/gen] \n"
     ]
    },
    {
     "name": "stdout",
     "output_type": "stream",
     "text": [
      "Creating Dask Server\n"
     ]
    },
    {
     "name": "stderr",
     "output_type": "stream",
     "text": [
      "Generations:   0%|          | 5/10000 [04:28<149:13:30, 53.75s/gen]\n",
      "Generations:   0%|          | 2/10000 [04:24<367:08:36, 132.20s/gen]\n",
      "Generations:   0%|          | 4/10000 [04:33<189:51:16, 68.37s/gen] \n"
     ]
    },
    {
     "name": "stdout",
     "output_type": "stream",
     "text": [
      "Creating Dask Server\n"
     ]
    },
    {
     "name": "stderr",
     "output_type": "stream",
     "text": [
      "Generations:   0%|          | 6/10000 [06:57<193:19:32, 69.64s/gen]\n",
      "Generations:   0%|          | 2/10000 [05:29<457:02:20, 164.57s/gen]\n",
      "Generations:   0%|          | 3/10000 [04:16<237:01:23, 85.35s/gen] \n"
     ]
    },
    {
     "name": "stdout",
     "output_type": "stream",
     "text": [
      "Creating Dask Server\n"
     ]
    },
    {
     "name": "stderr",
     "output_type": "stream",
     "text": [
      "Generations:   0%|          | 6/10000 [07:56<220:30:45, 79.43s/gen] \n",
      "Generations:   0%|          | 2/10000 [04:41<391:12:17, 140.86s/gen]\n",
      "Generations:   0%|          | 2/10000 [06:24<534:20:15, 192.40s/gen]\n"
     ]
    },
    {
     "name": "stdout",
     "output_type": "stream",
     "text": [
      "Creating Dask Server\n"
     ]
    },
    {
     "name": "stderr",
     "output_type": "stream",
     "text": [
      "Generations:   0%|          | 5/10000 [04:45<158:31:04, 57.09s/gen]\n",
      "Generations:   0%|          | 1/10000 [04:00<668:49:03, 240.80s/gen]\n",
      "Generations:   0%|          | 0/10000 [02:37<?, ?gen/s]\n"
     ]
    },
    {
     "name": "stdout",
     "output_type": "stream",
     "text": [
      "Creating Dask Server\n"
     ]
    },
    {
     "name": "stderr",
     "output_type": "stream",
     "text": [
      "Generations:   0%|          | 4/10000 [06:02<251:22:46, 90.53s/gen] \n",
      "Generations:   0%|          | 1/10000 [03:24<568:51:12, 204.81s/gen]\n",
      "Generations:   0%|          | 0/10000 [02:36<?, ?gen/s]\n"
     ]
    },
    {
     "name": "stdout",
     "output_type": "stream",
     "text": [
      "Creating Dask Server\n"
     ]
    },
    {
     "name": "stderr",
     "output_type": "stream",
     "text": [
      "Generations:   0%|          | 5/10000 [04:58<165:57:31, 59.78s/gen]\n",
      "Generations:   0%|          | 1/10000 [03:39<608:33:05, 219.10s/gen]\n",
      "Generations:   0%|          | 0/10000 [02:32<?, ?gen/s]\n"
     ]
    },
    {
     "name": "stdout",
     "output_type": "stream",
     "text": [
      "Creating Dask Server\n"
     ]
    },
    {
     "name": "stderr",
     "output_type": "stream",
     "text": [
      "Generations:   0%|          | 4/10000 [06:52<286:30:33, 103.18s/gen]\n",
      "Generations:   0%|          | 1/10000 [03:29<583:13:50, 209.98s/gen]\n",
      "Generations:   0%|          | 0/10000 [02:55<?, ?gen/s]\n"
     ]
    },
    {
     "name": "stdout",
     "output_type": "stream",
     "text": [
      "Creating Dask Server\n"
     ]
    },
    {
     "name": "stderr",
     "output_type": "stream",
     "text": [
      "Generations:   0%|          | 4/10000 [04:36<192:05:06, 69.18s/gen]\n",
      "Generations:   0%|          | 0/10000 [02:36<?, ?gen/s]\n",
      "Generations:   0%|          | 0/10000 [03:42<?, ?gen/s]\n"
     ]
    },
    {
     "name": "stdout",
     "output_type": "stream",
     "text": [
      "Creating Dask Server\n"
     ]
    },
    {
     "name": "stderr",
     "output_type": "stream",
     "text": [
      "Generations:   0%|          | 3/10000 [04:32<252:24:45, 90.90s/gen]\n",
      "Generations:   0%|          | 1/10000 [04:20<722:44:37, 260.21s/gen]\n",
      "Generations:   0%|          | 0/10000 [05:01<?, ?gen/s]\n"
     ]
    },
    {
     "name": "stdout",
     "output_type": "stream",
     "text": [
      "Creating Dask Server\n"
     ]
    },
    {
     "name": "stderr",
     "output_type": "stream",
     "text": [
      "Generations:   0%|          | 3/10000 [05:49<323:33:55, 116.52s/gen]\n",
      "Generations:   0%|          | 1/10000 [05:01<837:13:10, 301.43s/gen]\n",
      "Generations:   0%|          | 0/10000 [05:00<?, ?gen/s]\n"
     ]
    },
    {
     "name": "stdout",
     "output_type": "stream",
     "text": [
      "Creating Dask Server\n"
     ]
    },
    {
     "name": "stderr",
     "output_type": "stream",
     "text": [
      "Generations:   0%|          | 3/10000 [04:27<247:47:05, 89.23s/gen] \n",
      "Generations:   0%|          | 0/10000 [02:47<?, ?gen/s]\n",
      "Generations:   0%|          | 0/10000 [05:04<?, ?gen/s]\n"
     ]
    },
    {
     "name": "stdout",
     "output_type": "stream",
     "text": [
      "Creating Dask Server\n"
     ]
    },
    {
     "name": "stderr",
     "output_type": "stream",
     "text": [
      "Generations:   0%|          | 3/10000 [04:48<267:16:17, 96.25s/gen] \n",
      "Generations:   0%|          | 0/10000 [03:02<?, ?gen/s]\n",
      "Generations:   0%|          | 0/10000 [06:11<?, ?gen/s]\n"
     ]
    },
    {
     "name": "stdout",
     "output_type": "stream",
     "text": [
      "Creating Dask Server\n"
     ]
    },
    {
     "name": "stderr",
     "output_type": "stream",
     "text": [
      "Generations:   0%|          | 2/10000 [04:24<367:48:38, 132.44s/gen]\n",
      "Generations:   0%|          | 0/10000 [03:47<?, ?gen/s]\n",
      "Generations:   0%|          | 0/10000 [05:26<?, ?gen/s]\n"
     ]
    },
    {
     "name": "stdout",
     "output_type": "stream",
     "text": [
      "Creating Dask Server\n"
     ]
    },
    {
     "name": "stderr",
     "output_type": "stream",
     "text": [
      "Generations:   0%|          | 2/10000 [04:11<349:16:16, 125.76s/gen]\n",
      "Generations:   0%|          | 0/10000 [03:47<?, ?gen/s]\n",
      "Generations:   0%|          | 0/10000 [07:26<?, ?gen/s]\n"
     ]
    },
    {
     "name": "stdout",
     "output_type": "stream",
     "text": [
      "Creating Dask Server\n"
     ]
    },
    {
     "name": "stderr",
     "output_type": "stream",
     "text": [
      "Generations:   0%|          | 4/10000 [04:31<188:42:41, 67.96s/gen] \n",
      "Generations:   0%|          | 0/10000 [02:45<?, ?gen/s]\n",
      "Generations:   0%|          | 0/10000 [10:40<?, ?gen/s]\n"
     ]
    },
    {
     "name": "stdout",
     "output_type": "stream",
     "text": [
      "Creating Dask Server\n"
     ]
    },
    {
     "name": "stderr",
     "output_type": "stream",
     "text": [
      "Generations:   0%|          | 3/10000 [04:24<245:11:04, 88.29s/gen] \n",
      "Generations:   0%|          | 1/10000 [05:47<964:47:14, 347.36s/gen]\n",
      "Generations:   0%|          | 0/10000 [05:33<?, ?gen/s]\n"
     ]
    },
    {
     "name": "stdout",
     "output_type": "stream",
     "text": [
      "Creating Dask Server\n"
     ]
    },
    {
     "name": "stderr",
     "output_type": "stream",
     "text": [
      "Generations:   0%|          | 3/10000 [04:31<251:03:30, 90.41s/gen] \n",
      "Generations:   0%|          | 1/10000 [10:30<1752:04:48, 630.81s/gen]\n",
      "Generations:   0%|          | 0/10000 [03:00<?, ?gen/s]\n"
     ]
    },
    {
     "name": "stdout",
     "output_type": "stream",
     "text": [
      "Creating Dask Server\n"
     ]
    },
    {
     "name": "stderr",
     "output_type": "stream",
     "text": [
      "Generations:   0%|          | 5/10000 [04:31<150:55:33, 54.36s/gen]\n",
      "Generations:   0%|          | 1/10000 [03:30<583:40:22, 210.14s/gen]\n",
      "Generations:   0%|          | 0/10000 [03:27<?, ?gen/s]\n"
     ]
    },
    {
     "name": "stdout",
     "output_type": "stream",
     "text": [
      "Creating Dask Server\n"
     ]
    },
    {
     "name": "stderr",
     "output_type": "stream",
     "text": [
      "Generations:   0%|          | 3/10000 [04:50<269:09:22, 96.93s/gen] \n",
      "Generations:   0%|          | 2/10000 [07:01<585:53:03, 210.96s/gen]\n",
      "Generations:   0%|          | 0/10000 [03:50<?, ?gen/s]\n"
     ]
    },
    {
     "name": "stdout",
     "output_type": "stream",
     "text": [
      "Creating Dask Server\n"
     ]
    },
    {
     "name": "stderr",
     "output_type": "stream",
     "text": [
      "Generations:   0%|          | 0/10000 [03:25<?, ?gen/s]\n",
      "Generations:   0%|          | 1/10000 [03:27<575:04:25, 207.05s/gen]\n",
      "Generations:   0%|          | 0/10000 [02:34<?, ?gen/s]\n"
     ]
    },
    {
     "name": "stdout",
     "output_type": "stream",
     "text": [
      "Creating Dask Server\n"
     ]
    },
    {
     "name": "stderr",
     "output_type": "stream",
     "text": [
      "Generations:   0%|          | 0/10000 [02:51<?, ?gen/s]\n",
      "Generations:   0%|          | 1/10000 [04:27<742:03:31, 267.17s/gen]\n",
      "Generations:   0%|          | 0/10000 [02:57<?, ?gen/s]\n"
     ]
    },
    {
     "name": "stdout",
     "output_type": "stream",
     "text": [
      "Creating Dask Server\n"
     ]
    },
    {
     "name": "stderr",
     "output_type": "stream",
     "text": [
      "Generations:   0%|          | 0/10000 [05:06<?, ?gen/s]\n",
      "Generations:   0%|          | 0/10000 [03:30<?, ?gen/s]\n",
      "Generations:   0%|          | 0/10000 [03:11<?, ?gen/s]\n"
     ]
    },
    {
     "name": "stdout",
     "output_type": "stream",
     "text": [
      "Creating Dask Server\n"
     ]
    },
    {
     "name": "stderr",
     "output_type": "stream",
     "text": [
      "Generations:   0%|          | 4/10000 [04:34<190:16:46, 68.53s/gen] \n",
      "Generations:   0%|          | 1/10000 [04:04<680:15:29, 244.92s/gen]\n",
      "Generations:   0%|          | 0/10000 [02:43<?, ?gen/s]\n"
     ]
    },
    {
     "name": "stdout",
     "output_type": "stream",
     "text": [
      "Creating Dask Server\n"
     ]
    },
    {
     "name": "stderr",
     "output_type": "stream",
     "text": [
      "Generations:   0%|          | 4/10000 [04:13<175:52:34, 63.34s/gen]\n",
      "Generations:   0%|          | 1/10000 [03:36<601:48:17, 216.67s/gen]\n",
      "Generations:   0%|          | 0/10000 [02:36<?, ?gen/s]\n"
     ]
    },
    {
     "name": "stdout",
     "output_type": "stream",
     "text": [
      "Creating Dask Server\n"
     ]
    },
    {
     "name": "stderr",
     "output_type": "stream",
     "text": [
      "Generations:   0%|          | 0/10000 [04:46<?, ?gen/s]\n",
      "Generations:   0%|          | 1/10000 [03:44<624:35:36, 224.88s/gen]\n",
      "Generations:   0%|          | 0/10000 [02:33<?, ?gen/s]\n"
     ]
    },
    {
     "name": "stdout",
     "output_type": "stream",
     "text": [
      "Creating Dask Server\n"
     ]
    },
    {
     "name": "stderr",
     "output_type": "stream",
     "text": [
      "Generations:   0%|          | 4/10000 [04:32<188:53:04, 68.03s/gen] \n",
      "Generations:   0%|          | 1/10000 [04:24<734:40:41, 264.51s/gen]\n",
      "Generations:   0%|          | 2/10000 [03:51<321:25:36, 115.74s/gen]\n"
     ]
    },
    {
     "name": "stdout",
     "output_type": "stream",
     "text": [
      "Creating Dask Server\n"
     ]
    },
    {
     "name": "stderr",
     "output_type": "stream",
     "text": [
      "Generations:   0%|          | 3/10000 [05:01<279:27:39, 100.64s/gen]\n",
      "Generations:   0%|          | 1/10000 [03:33<594:09:00, 213.92s/gen]\n",
      "Generations:   0%|          | 0/10000 [02:35<?, ?gen/s]\n"
     ]
    },
    {
     "name": "stdout",
     "output_type": "stream",
     "text": [
      "Creating Dask Server\n"
     ]
    },
    {
     "name": "stderr",
     "output_type": "stream",
     "text": [
      "Generations:   0%|          | 0/10000 [02:39<?, ?gen/s]\n",
      "Generations:   0%|          | 2/10000 [06:07<510:02:40, 183.65s/gen]\n",
      "Generations:   0%|          | 3/10000 [05:24<300:21:47, 108.16s/gen]\n"
     ]
    },
    {
     "name": "stdout",
     "output_type": "stream",
     "text": [
      "Creating Dask Server\n"
     ]
    },
    {
     "name": "stderr",
     "output_type": "stream",
     "text": [
      "Generations:   0%|          | 2/10000 [04:15<355:23:10, 127.96s/gen]\n",
      "Generations:   0%|          | 1/10000 [03:25<571:31:09, 205.77s/gen]\n",
      "Generations:   0%|          | 2/10000 [03:45<313:38:42, 112.93s/gen]\n"
     ]
    },
    {
     "name": "stdout",
     "output_type": "stream",
     "text": [
      "Creating Dask Server\n"
     ]
    },
    {
     "name": "stderr",
     "output_type": "stream",
     "text": [
      "Generations:   0%|          | 2/10000 [03:45<313:29:40, 112.88s/gen]\n",
      "Generations:   0%|          | 1/10000 [04:33<759:14:06, 273.35s/gen]\n",
      "Generations:   0%|          | 0/10000 [02:32<?, ?gen/s]\n"
     ]
    },
    {
     "name": "stdout",
     "output_type": "stream",
     "text": [
      "Creating Dask Server\n"
     ]
    },
    {
     "name": "stderr",
     "output_type": "stream",
     "text": [
      "Generations:   0%|          | 4/10000 [07:06<296:20:10, 106.72s/gen]\n",
      "Generations:   0%|          | 2/10000 [06:03<504:51:21, 181.78s/gen]\n",
      "Generations:   0%|          | 0/10000 [02:34<?, ?gen/s]\n"
     ]
    },
    {
     "name": "stdout",
     "output_type": "stream",
     "text": [
      "Creating Dask Server\n"
     ]
    },
    {
     "name": "stderr",
     "output_type": "stream",
     "text": [
      "Generations:   0%|          | 2/10000 [04:12<350:38:23, 126.26s/gen]\n",
      "Generations:   0%|          | 1/10000 [03:20<557:23:33, 200.68s/gen]\n",
      "Generations:   0%|          | 0/10000 [02:46<?, ?gen/s]\n"
     ]
    },
    {
     "name": "stdout",
     "output_type": "stream",
     "text": [
      "Creating Dask Server\n"
     ]
    },
    {
     "name": "stderr",
     "output_type": "stream",
     "text": [
      "Generations:   0%|          | 0/10000 [05:08<?, ?gen/s]\n",
      "Generations:   0%|          | 1/10000 [04:38<773:01:12, 278.32s/gen]\n",
      "Generations:   0%|          | 0/10000 [02:45<?, ?gen/s]\n"
     ]
    },
    {
     "name": "stdout",
     "output_type": "stream",
     "text": [
      "Creating Dask Server\n"
     ]
    },
    {
     "name": "stderr",
     "output_type": "stream",
     "text": [
      "Generations:   0%|          | 0/10000 [03:42<?, ?gen/s]\n",
      "Generations:   0%|          | 1/10000 [04:47<797:14:09, 287.03s/gen]\n",
      "Generations:   0%|          | 0/10000 [02:44<?, ?gen/s]\n"
     ]
    },
    {
     "name": "stdout",
     "output_type": "stream",
     "text": [
      "Creating Dask Server\n"
     ]
    },
    {
     "name": "stderr",
     "output_type": "stream",
     "text": [
      "Generations:   0%|          | 3/10000 [04:43<262:26:15, 94.51s/gen] \n",
      "Generations:   0%|          | 1/10000 [04:48<802:06:39, 288.79s/gen]\n",
      "Generations:   0%|          | 0/10000 [02:56<?, ?gen/s]\n"
     ]
    },
    {
     "name": "stdout",
     "output_type": "stream",
     "text": [
      "Creating Dask Server\n"
     ]
    },
    {
     "name": "stderr",
     "output_type": "stream",
     "text": [
      "Generations:   0%|          | 3/10000 [05:28<303:47:56, 109.40s/gen]\n",
      "Generations:   0%|          | 1/10000 [03:33<593:50:49, 213.81s/gen]\n",
      "Generations:   0%|          | 0/10000 [03:00<?, ?gen/s]\n"
     ]
    },
    {
     "name": "stdout",
     "output_type": "stream",
     "text": [
      "Creating Dask Server\n"
     ]
    },
    {
     "name": "stderr",
     "output_type": "stream",
     "text": [
      "Generations:   0%|          | 3/10000 [05:02<280:03:39, 100.85s/gen]\n",
      "Generations:   0%|          | 1/10000 [03:37<605:07:31, 217.87s/gen]\n",
      "Generations:   0%|          | 0/10000 [02:48<?, ?gen/s]\n"
     ]
    },
    {
     "name": "stdout",
     "output_type": "stream",
     "text": [
      "Creating Dask Server\n"
     ]
    },
    {
     "name": "stderr",
     "output_type": "stream",
     "text": [
      "Generations:   0%|          | 2/10000 [04:53<407:47:21, 146.83s/gen]\n",
      "Generations:   0%|          | 1/10000 [03:47<632:58:05, 227.89s/gen]\n",
      "Generations:   0%|          | 0/10000 [02:56<?, ?gen/s]\n"
     ]
    },
    {
     "name": "stdout",
     "output_type": "stream",
     "text": [
      "Creating Dask Server\n"
     ]
    },
    {
     "name": "stderr",
     "output_type": "stream",
     "text": [
      "Generations:   0%|          | 3/10000 [04:18<239:27:17, 86.23s/gen]\n",
      "Generations:   0%|          | 1/10000 [04:37<769:26:16, 277.03s/gen]\n",
      "Generations:   0%|          | 0/10000 [02:53<?, ?gen/s]\n"
     ]
    },
    {
     "name": "stdout",
     "output_type": "stream",
     "text": [
      "Creating Dask Server\n"
     ]
    },
    {
     "name": "stderr",
     "output_type": "stream",
     "text": [
      "Generations:   0%|          | 3/10000 [05:59<332:28:23, 119.73s/gen]\n",
      "Generations:   0%|          | 1/10000 [04:31<754:09:39, 271.53s/gen]\n",
      "Generations:   0%|          | 0/10000 [02:55<?, ?gen/s]\n"
     ]
    },
    {
     "name": "stdout",
     "output_type": "stream",
     "text": [
      "Creating Dask Server\n"
     ]
    },
    {
     "name": "stderr",
     "output_type": "stream",
     "text": [
      "Generations:   0%|          | 2/10000 [04:40<389:43:36, 140.33s/gen]\n",
      "Generations:   0%|          | 1/10000 [03:45<625:51:05, 225.33s/gen]\n",
      "Generations:   0%|          | 0/10000 [03:02<?, ?gen/s]\n"
     ]
    },
    {
     "name": "stdout",
     "output_type": "stream",
     "text": [
      "Creating Dask Server\n"
     ]
    },
    {
     "name": "stderr",
     "output_type": "stream",
     "text": [
      "Generations:   0%|          | 3/10000 [04:06<228:11:16, 82.17s/gen] \n",
      "Generations:   0%|          | 1/10000 [03:54<651:30:03, 234.56s/gen]\n",
      "Generations:   0%|          | 0/10000 [03:02<?, ?gen/s]\n"
     ]
    },
    {
     "name": "stdout",
     "output_type": "stream",
     "text": [
      "Creating Dask Server\n"
     ]
    },
    {
     "name": "stderr",
     "output_type": "stream",
     "text": [
      "Generations:   0%|          | 3/10000 [04:10<232:13:23, 83.63s/gen] \n",
      "Generations:   0%|          | 1/10000 [07:39<1276:26:24, 459.56s/gen]\n",
      "Generations:   0%|          | 0/10000 [03:06<?, ?gen/s]\n"
     ]
    },
    {
     "name": "stdout",
     "output_type": "stream",
     "text": [
      "Creating Dask Server\n"
     ]
    },
    {
     "name": "stderr",
     "output_type": "stream",
     "text": [
      "Generations:   0%|          | 3/10000 [04:33<253:31:00, 91.29s/gen] \n",
      "Generations:   0%|          | 1/10000 [03:54<652:16:39, 234.84s/gen]\n",
      "Generations:   0%|          | 0/10000 [02:56<?, ?gen/s]\n"
     ]
    },
    {
     "name": "stdout",
     "output_type": "stream",
     "text": [
      "Creating Dask Server\n"
     ]
    },
    {
     "name": "stderr",
     "output_type": "stream",
     "text": [
      "Generations:   0%|          | 4/10000 [04:41<195:35:02, 70.44s/gen] \n",
      "Generations:   0%|          | 1/10000 [04:16<713:21:59, 256.84s/gen]\n",
      "Generations:   0%|          | 0/10000 [03:03<?, ?gen/s]\n"
     ]
    },
    {
     "name": "stdout",
     "output_type": "stream",
     "text": [
      "Creating Dask Server\n"
     ]
    },
    {
     "name": "stderr",
     "output_type": "stream",
     "text": [
      "Generations:   0%|          | 3/10000 [04:31<251:44:03, 90.65s/gen] \n",
      "Generations:   0%|          | 1/10000 [03:36<602:24:35, 216.89s/gen]\n",
      "Generations:   0%|          | 0/10000 [02:59<?, ?gen/s]\n"
     ]
    },
    {
     "name": "stdout",
     "output_type": "stream",
     "text": [
      "Creating Dask Server\n"
     ]
    },
    {
     "name": "stderr",
     "output_type": "stream",
     "text": [
      "Generations:   0%|          | 3/10000 [05:02<280:16:59, 100.93s/gen]\n",
      "Generations:   0%|          | 1/10000 [08:42<1450:46:23, 522.33s/gen]\n",
      "Generations:   0%|          | 0/10000 [02:56<?, ?gen/s]\n"
     ]
    },
    {
     "name": "stdout",
     "output_type": "stream",
     "text": [
      "Creating Dask Server\n"
     ]
    },
    {
     "name": "stderr",
     "output_type": "stream",
     "text": [
      "Generations:   0%|          | 3/10000 [04:35<254:51:07, 91.77s/gen] \n",
      "Generations:   0%|          | 1/10000 [04:36<769:21:13, 277.00s/gen]\n",
      "Generations:   0%|          | 0/10000 [03:04<?, ?gen/s]\n"
     ]
    },
    {
     "name": "stdout",
     "output_type": "stream",
     "text": [
      "Creating Dask Server\n"
     ]
    },
    {
     "name": "stderr",
     "output_type": "stream",
     "text": [
      "Generations:   0%|          | 3/10000 [04:39<258:26:26, 93.07s/gen] \n",
      "Generations:   0%|          | 0/10000 [12:49<?, ?gen/s]\n",
      "Generations:   0%|          | 0/10000 [03:07<?, ?gen/s]\n"
     ]
    },
    {
     "name": "stdout",
     "output_type": "stream",
     "text": [
      "Creating Dask Server\n"
     ]
    },
    {
     "name": "stderr",
     "output_type": "stream",
     "text": [
      "Generations:   0%|          | 3/10000 [04:57<275:20:28, 99.15s/gen] \n",
      "Generations:   0%|          | 1/10000 [05:07<854:20:48, 307.60s/gen]\n",
      "Generations:   0%|          | 0/10000 [03:00<?, ?gen/s]\n"
     ]
    },
    {
     "name": "stdout",
     "output_type": "stream",
     "text": [
      "Creating Dask Server\n"
     ]
    },
    {
     "name": "stderr",
     "output_type": "stream",
     "text": [
      "Generations:   0%|          | 2/10000 [03:59<332:23:23, 119.68s/gen]\n",
      "Generations:   0%|          | 1/10000 [03:44<622:35:28, 224.16s/gen]\n",
      "Generations:   0%|          | 0/10000 [03:04<?, ?gen/s]\n"
     ]
    },
    {
     "name": "stdout",
     "output_type": "stream",
     "text": [
      "Creating Dask Server\n"
     ]
    },
    {
     "name": "stderr",
     "output_type": "stream",
     "text": [
      "Generations:   0%|          | 3/10000 [04:59<276:47:46, 99.68s/gen] \n",
      "Generations:   0%|          | 0/10000 [04:00<?, ?gen/s]\n",
      "Generations:   0%|          | 0/10000 [03:14<?, ?gen/s]\n"
     ]
    },
    {
     "name": "stdout",
     "output_type": "stream",
     "text": [
      "Creating Dask Server\n"
     ]
    },
    {
     "name": "stderr",
     "output_type": "stream",
     "text": [
      "Generations:   0%|          | 2/10000 [03:54<326:17:47, 117.49s/gen]\n",
      "Generations:   0%|          | 0/10000 [03:11<?, ?gen/s]\n",
      "Generations:   0%|          | 0/10000 [03:12<?, ?gen/s]\n"
     ]
    },
    {
     "name": "stdout",
     "output_type": "stream",
     "text": [
      "Creating Dask Server\n"
     ]
    },
    {
     "name": "stderr",
     "output_type": "stream",
     "text": [
      "Generations:   0%|          | 3/10000 [04:10<231:45:19, 83.46s/gen] \n",
      "Generations:   0%|          | 0/10000 [02:32<?, ?gen/s]\n",
      "Generations:   0%|          | 0/10000 [03:11<?, ?gen/s]\n"
     ]
    },
    {
     "name": "stdout",
     "output_type": "stream",
     "text": [
      "Creating Dask Server\n"
     ]
    },
    {
     "name": "stderr",
     "output_type": "stream",
     "text": [
      "Generations:   0%|          | 2/10000 [03:49<318:25:43, 114.66s/gen]\n",
      "Generations:   0%|          | 0/10000 [03:07<?, ?gen/s]\n",
      "Generations:   0%|          | 0/10000 [03:17<?, ?gen/s]\n"
     ]
    },
    {
     "name": "stdout",
     "output_type": "stream",
     "text": [
      "Creating Dask Server\n"
     ]
    },
    {
     "name": "stderr",
     "output_type": "stream",
     "text": [
      "Generations:   0%|          | 2/10000 [04:05<341:21:44, 122.92s/gen]\n",
      "Generations:   0%|          | 0/10000 [02:57<?, ?gen/s]\n",
      "Generations:   0%|          | 0/10000 [03:06<?, ?gen/s]\n"
     ]
    },
    {
     "name": "stdout",
     "output_type": "stream",
     "text": [
      "Creating Dask Server\n"
     ]
    },
    {
     "name": "stderr",
     "output_type": "stream",
     "text": [
      "Generations:   0%|          | 2/10000 [03:49<319:12:46, 114.94s/gen]\n",
      "Generations:   0%|          | 0/10000 [03:24<?, ?gen/s]\n",
      "Generations:   0%|          | 0/10000 [03:00<?, ?gen/s]\n"
     ]
    },
    {
     "name": "stdout",
     "output_type": "stream",
     "text": [
      "Creating Dask Server\n"
     ]
    },
    {
     "name": "stderr",
     "output_type": "stream",
     "text": [
      "Generations:   0%|          | 3/10000 [05:42<316:56:54, 114.14s/gen]\n",
      "Generations:   0%|          | 0/10000 [03:07<?, ?gen/s]\n",
      "Generations:   0%|          | 0/10000 [03:06<?, ?gen/s]\n"
     ]
    },
    {
     "name": "stdout",
     "output_type": "stream",
     "text": [
      "Creating Dask Server\n"
     ]
    },
    {
     "name": "stderr",
     "output_type": "stream",
     "text": [
      "Generations:   0%|          | 2/10000 [04:44<394:22:07, 142.00s/gen]\n",
      "Generations:   0%|          | 0/10000 [02:52<?, ?gen/s]\n",
      "Generations:   0%|          | 0/10000 [03:03<?, ?gen/s]\n"
     ]
    },
    {
     "name": "stdout",
     "output_type": "stream",
     "text": [
      "Creating Dask Server\n"
     ]
    },
    {
     "name": "stderr",
     "output_type": "stream",
     "text": [
      "Generations:   0%|          | 2/10000 [04:06<342:16:08, 123.24s/gen]\n",
      "Generations:   0%|          | 1/10000 [05:57<993:17:50, 357.62s/gen]\n",
      "Generations:   0%|          | 0/10000 [03:18<?, ?gen/s]\n"
     ]
    },
    {
     "name": "stdout",
     "output_type": "stream",
     "text": [
      "Creating Dask Server\n"
     ]
    },
    {
     "name": "stderr",
     "output_type": "stream",
     "text": [
      "Generations:   0%|          | 2/10000 [04:22<364:40:13, 131.31s/gen]\n",
      "Generations:   0%|          | 1/10000 [06:22<1061:08:04, 382.05s/gen]\n",
      "Generations:   0%|          | 0/10000 [03:15<?, ?gen/s]\n"
     ]
    },
    {
     "name": "stdout",
     "output_type": "stream",
     "text": [
      "Creating Dask Server\n"
     ]
    },
    {
     "name": "stderr",
     "output_type": "stream",
     "text": [
      "Generations:   0%|          | 3/10000 [04:59<277:12:23, 99.82s/gen] \n",
      "Generations:   0%|          | 1/10000 [06:19<1054:45:29, 379.75s/gen]\n",
      "Generations:   0%|          | 0/10000 [03:20<?, ?gen/s]\n"
     ]
    },
    {
     "name": "stdout",
     "output_type": "stream",
     "text": [
      "Creating Dask Server\n"
     ]
    },
    {
     "name": "stderr",
     "output_type": "stream",
     "text": [
      "Generations:   0%|          | 2/10000 [04:35<383:12:40, 137.98s/gen]\n",
      "Generations:   0%|          | 1/10000 [04:50<807:11:58, 290.62s/gen]\n",
      "Generations:   0%|          | 0/10000 [03:17<?, ?gen/s]\n"
     ]
    },
    {
     "name": "stdout",
     "output_type": "stream",
     "text": [
      "Creating Dask Server\n"
     ]
    },
    {
     "name": "stderr",
     "output_type": "stream",
     "text": [
      "Generations:   0%|          | 2/10000 [03:49<318:16:30, 114.60s/gen]\n",
      "Generations:   0%|          | 1/10000 [03:56<656:01:13, 236.19s/gen]\n",
      "Generations:   0%|          | 0/10000 [03:37<?, ?gen/s]\n"
     ]
    },
    {
     "name": "stdout",
     "output_type": "stream",
     "text": [
      "Creating Dask Server\n"
     ]
    },
    {
     "name": "stderr",
     "output_type": "stream",
     "text": [
      "Generations:   0%|          | 2/10000 [04:23<365:13:09, 131.51s/gen]\n",
      "Generations:   0%|          | 1/10000 [06:50<1139:18:48, 410.19s/gen]\n",
      "Generations:   0%|          | 0/10000 [03:20<?, ?gen/s]\n"
     ]
    },
    {
     "name": "stdout",
     "output_type": "stream",
     "text": [
      "Creating Dask Server\n"
     ]
    },
    {
     "name": "stderr",
     "output_type": "stream",
     "text": [
      "Generations:   0%|          | 2/10000 [04:01<335:10:08, 120.68s/gen]\n",
      "Generations:   0%|          | 1/10000 [07:21<1226:22:39, 441.54s/gen]\n",
      "Generations:   0%|          | 0/10000 [03:38<?, ?gen/s]\n"
     ]
    },
    {
     "name": "stdout",
     "output_type": "stream",
     "text": [
      "Creating Dask Server\n"
     ]
    },
    {
     "name": "stderr",
     "output_type": "stream",
     "text": [
      "Generations:   0%|          | 2/10000 [04:04<340:09:17, 122.48s/gen]\n",
      "Generations:   0%|          | 1/10000 [07:28<1244:50:46, 448.19s/gen]\n",
      "Generations:   0%|          | 0/10000 [03:48<?, ?gen/s]\n"
     ]
    },
    {
     "name": "stdout",
     "output_type": "stream",
     "text": [
      "Creating Dask Server\n"
     ]
    },
    {
     "name": "stderr",
     "output_type": "stream",
     "text": [
      "Generations:   0%|          | 2/10000 [04:12<350:13:47, 126.11s/gen]\n",
      "Generations:   0%|          | 1/10000 [05:04<844:41:29, 304.12s/gen]\n",
      "Generations:   0%|          | 0/10000 [03:32<?, ?gen/s]\n"
     ]
    },
    {
     "name": "stdout",
     "output_type": "stream",
     "text": [
      "Creating Dask Server\n"
     ]
    },
    {
     "name": "stderr",
     "output_type": "stream",
     "text": [
      "Generations:   0%|          | 2/10000 [04:09<346:00:34, 124.59s/gen]\n",
      "Generations:   0%|          | 0/10000 [02:34<?, ?gen/s]\n",
      "Generations:   0%|          | 0/10000 [03:22<?, ?gen/s]\n"
     ]
    },
    {
     "name": "stdout",
     "output_type": "stream",
     "text": [
      "Creating Dask Server\n"
     ]
    },
    {
     "name": "stderr",
     "output_type": "stream",
     "text": [
      "Generations:   0%|          | 2/10000 [04:03<337:29:15, 121.52s/gen]\n",
      "Generations:   0%|          | 1/10000 [04:24<733:41:24, 264.15s/gen]\n",
      "Generations:   0%|          | 0/10000 [03:56<?, ?gen/s]\n"
     ]
    },
    {
     "name": "stdout",
     "output_type": "stream",
     "text": [
      "Creating Dask Server\n"
     ]
    },
    {
     "name": "stderr",
     "output_type": "stream",
     "text": [
      "Generations:   0%|          | 2/10000 [04:32<378:14:29, 136.19s/gen]\n",
      "Generations:   0%|          | 1/10000 [04:54<816:55:25, 294.12s/gen]\n",
      "Generations:   0%|          | 0/10000 [03:38<?, ?gen/s]\n"
     ]
    },
    {
     "name": "stdout",
     "output_type": "stream",
     "text": [
      "Creating Dask Server\n"
     ]
    },
    {
     "name": "stderr",
     "output_type": "stream",
     "text": [
      "Generations:   0%|          | 2/10000 [04:22<364:54:07, 131.39s/gen]\n",
      "Generations:   0%|          | 1/10000 [06:01<1004:02:29, 361.49s/gen]\n",
      "Generations:   0%|          | 0/10000 [03:43<?, ?gen/s]\n"
     ]
    },
    {
     "name": "stdout",
     "output_type": "stream",
     "text": [
      "Creating Dask Server\n"
     ]
    },
    {
     "name": "stderr",
     "output_type": "stream",
     "text": [
      "Generations:   0%|          | 2/10000 [04:10<347:27:48, 125.11s/gen]\n",
      "Generations:   0%|          | 1/10000 [04:51<810:49:37, 291.93s/gen]\n",
      "Generations:   0%|          | 0/10000 [03:53<?, ?gen/s]\n"
     ]
    },
    {
     "name": "stdout",
     "output_type": "stream",
     "text": [
      "Creating Dask Server\n"
     ]
    },
    {
     "name": "stderr",
     "output_type": "stream",
     "text": [
      "Generations:   0%|          | 2/10000 [04:09<346:22:21, 124.72s/gen]\n",
      "Generations:   0%|          | 1/10000 [04:34<763:18:41, 274.82s/gen]\n",
      "Generations:   0%|          | 0/10000 [03:47<?, ?gen/s]\n"
     ]
    },
    {
     "name": "stdout",
     "output_type": "stream",
     "text": [
      "Creating Dask Server\n"
     ]
    },
    {
     "name": "stderr",
     "output_type": "stream",
     "text": [
      "Generations:   0%|          | 2/10000 [04:27<371:35:17, 133.80s/gen]\n",
      "Generations:   0%|          | 0/10000 [02:40<?, ?gen/s]\n",
      "Generations:   0%|          | 0/10000 [03:48<?, ?gen/s]\n"
     ]
    },
    {
     "name": "stdout",
     "output_type": "stream",
     "text": [
      "Creating Dask Server\n"
     ]
    },
    {
     "name": "stderr",
     "output_type": "stream",
     "text": [
      "Generations:   0%|          | 2/10000 [05:03<421:16:04, 151.69s/gen]\n",
      "Generations:   0%|          | 0/10000 [02:34<?, ?gen/s]\n",
      "Generations:   0%|          | 0/10000 [03:52<?, ?gen/s]\n"
     ]
    },
    {
     "name": "stdout",
     "output_type": "stream",
     "text": [
      "Creating Dask Server\n"
     ]
    },
    {
     "name": "stderr",
     "output_type": "stream",
     "text": [
      "Generations:   0%|          | 2/10000 [04:18<358:50:32, 129.21s/gen]\n",
      "Generations:   0%|          | 0/10000 [02:39<?, ?gen/s]\n",
      "Generations:   0%|          | 0/10000 [04:12<?, ?gen/s]\n"
     ]
    },
    {
     "name": "stdout",
     "output_type": "stream",
     "text": [
      "Creating Dask Server\n"
     ]
    },
    {
     "name": "stderr",
     "output_type": "stream",
     "text": [
      "Generations:   0%|          | 2/10000 [04:30<375:53:07, 135.35s/gen]\n",
      "Generations:   0%|          | 1/10000 [04:57<827:05:48, 297.78s/gen]\n",
      "Generations:   0%|          | 0/10000 [04:00<?, ?gen/s]\n"
     ]
    },
    {
     "name": "stdout",
     "output_type": "stream",
     "text": [
      "Creating Dask Server\n"
     ]
    },
    {
     "name": "stderr",
     "output_type": "stream",
     "text": [
      "Generations:   0%|          | 1/10000 [03:23<564:45:54, 203.34s/gen]\n",
      "Generations:   0%|          | 1/10000 [05:02<839:50:56, 302.38s/gen]\n",
      "Generations:   0%|          | 0/10000 [04:07<?, ?gen/s]\n"
     ]
    },
    {
     "name": "stdout",
     "output_type": "stream",
     "text": [
      "Creating Dask Server\n"
     ]
    },
    {
     "name": "stderr",
     "output_type": "stream",
     "text": [
      "Generations:   0%|          | 2/10000 [04:48<400:35:11, 144.24s/gen]\n",
      "Generations:   0%|          | 0/10000 [02:32<?, ?gen/s]\n",
      "Generations:   0%|          | 0/10000 [04:23<?, ?gen/s]\n"
     ]
    },
    {
     "name": "stdout",
     "output_type": "stream",
     "text": [
      "Creating Dask Server\n"
     ]
    },
    {
     "name": "stderr",
     "output_type": "stream",
     "text": [
      "Generations:   0%|          | 2/10000 [04:31<377:36:51, 135.97s/gen]\n",
      "Generations:   0%|          | 0/10000 [02:34<?, ?gen/s]\n",
      "Generations:   0%|          | 0/10000 [05:01<?, ?gen/s]\n"
     ]
    },
    {
     "name": "stdout",
     "output_type": "stream",
     "text": [
      "Creating Dask Server\n"
     ]
    },
    {
     "name": "stderr",
     "output_type": "stream",
     "text": [
      "Generations:   0%|          | 1/10000 [03:46<628:46:34, 226.38s/gen]\n",
      "Generations:   0%|          | 0/10000 [02:44<?, ?gen/s]\n",
      "Generations:   0%|          | 0/10000 [04:28<?, ?gen/s]\n"
     ]
    },
    {
     "name": "stdout",
     "output_type": "stream",
     "text": [
      "Creating Dask Server\n"
     ]
    },
    {
     "name": "stderr",
     "output_type": "stream",
     "text": [
      "Generations:   0%|          | 1/10000 [03:34<595:43:02, 214.48s/gen]\n",
      "Generations:   0%|          | 1/10000 [10:06<1685:09:54, 606.72s/gen]\n",
      "Generations:   0%|          | 0/10000 [05:02<?, ?gen/s]\n"
     ]
    },
    {
     "name": "stdout",
     "output_type": "stream",
     "text": [
      "Creating Dask Server\n"
     ]
    },
    {
     "name": "stderr",
     "output_type": "stream",
     "text": [
      "Generations:   0%|          | 1/10000 [03:25<572:03:33, 205.96s/gen]\n",
      "Generations:   0%|          | 0/10000 [02:57<?, ?gen/s]\n",
      "Generations:   0%|          | 0/10000 [04:39<?, ?gen/s]\n"
     ]
    },
    {
     "name": "stdout",
     "output_type": "stream",
     "text": [
      "Creating Dask Server\n"
     ]
    },
    {
     "name": "stderr",
     "output_type": "stream",
     "text": [
      "Generations:   0%|          | 1/10000 [03:56<655:58:35, 236.18s/gen]\n",
      "Generations:   0%|          | 0/10000 [02:52<?, ?gen/s]\n",
      "Generations:   0%|          | 0/10000 [04:58<?, ?gen/s]\n"
     ]
    },
    {
     "name": "stdout",
     "output_type": "stream",
     "text": [
      "Creating Dask Server\n"
     ]
    },
    {
     "name": "stderr",
     "output_type": "stream",
     "text": [
      "Generations:   0%|          | 2/10000 [04:36<384:23:44, 138.41s/gen]\n",
      "Generations:   0%|          | 1/10000 [09:39<1609:48:45, 579.59s/gen]\n",
      "Generations:   0%|          | 0/10000 [04:52<?, ?gen/s]\n"
     ]
    },
    {
     "name": "stdout",
     "output_type": "stream",
     "text": [
      "Creating Dask Server\n"
     ]
    },
    {
     "name": "stderr",
     "output_type": "stream",
     "text": [
      "Generations:   0%|          | 1/10000 [04:42<784:02:39, 282.28s/gen]\n",
      "Generations:   0%|          | 0/10000 [02:59<?, ?gen/s]\n",
      "Generations:   0%|          | 0/10000 [05:06<?, ?gen/s]\n"
     ]
    },
    {
     "name": "stdout",
     "output_type": "stream",
     "text": [
      "Creating Dask Server\n"
     ]
    },
    {
     "name": "stderr",
     "output_type": "stream",
     "text": [
      "Generations:   0%|          | 1/10000 [03:41<616:17:44, 221.89s/gen]\n",
      "Generations:   0%|          | 0/10000 [03:15<?, ?gen/s]\n",
      "Generations:   0%|          | 0/10000 [05:01<?, ?gen/s]\n"
     ]
    }
   ],
   "source": [
    "fred_results = {}\n",
    "for index, ts in data_split.items():\n",
    "    input_data = (ts,ts[-horizon:].flatten())\n",
    "    industrial_auto_model = evaluate_loop(train_data=input_data, api_params=params, finetune=False)\n",
    "    auto_labels = industrial_auto_model.predict(input_data)\n",
    "    auto_metrics = {}\n",
    "    for forecat_model, predict in auto_labels.items():\n",
    "        industrial_auto_model.predicted_labels = predict\n",
    "\n",
    "        current_metric = industrial_auto_model.get_metrics(target=ts[-horizon:].flatten(),\n",
    "                                                metric_names=metric_names)\n",
    "        auto_metrics.update({forecat_model:current_metric})\n",
    "    fred_results.update({index:(industrial_auto_model,auto_metrics)})"
   ],
   "metadata": {
    "collapsed": false,
    "pycharm": {
     "name": "#%%\n"
    }
   }
  },
  {
   "cell_type": "code",
   "execution_count": 17,
   "outputs": [],
   "source": [
    "import numpy as np\n",
    "border = 100\n",
    "baseline = labels\n",
    "ridge = auto_labels['lagged_ridge']\n",
    "eigen = auto_labels['eigen_ar']\n",
    "cgru = auto_labels['cgru']\n",
    "plt.close()\n",
    "real_values = train_data\n",
    "if len(real_values) > border:\n",
    "    real_values = real_values[-border:]\n",
    "indicies = np.arange(real_values.shape[0])"
   ],
   "metadata": {
    "collapsed": false,
    "pycharm": {
     "name": "#%%\n"
    }
   }
  },
  {
   "cell_type": "code",
   "execution_count": 21,
   "outputs": [
    {
     "data": {
      "text/plain": "<matplotlib.legend.Legend at 0x244520d5e20>"
     },
     "execution_count": 21,
     "metadata": {},
     "output_type": "execute_result"
    },
    {
     "data": {
      "text/plain": "<Figure size 640x480 with 1 Axes>",
      "image/png": "[encoded data removed]"
     },
     "metadata": {},
     "output_type": "display_data"
    }
   ],
   "source": [
    "plt.xlabel('Time index')\n",
    "plt.ylabel('Series values')\n",
    "plt.title('Forecating by Industrial')\n",
    "plt.plot(real_values)\n",
    "\n",
    "real_last_value = real_values[-horizon- 1]\n",
    "plt.plot(indicies[-horizon- 1:],\n",
    "         np.insert(baseline, 0, real_last_value), label='Finetune')\n",
    "plt.plot(indicies[-horizon- 1:],\n",
    "         np.insert(eigen, 0, real_last_value), label='Eigen_AR')\n",
    "\n",
    "plt.grid()\n",
    "plt.legend()"
   ],
   "metadata": {
    "collapsed": false,
    "pycharm": {
     "name": "#%%\n"
    }
   }
  },
  {
   "cell_type": "markdown",
   "source": [
    "## Compare with State of Art (SOTA) models"
   ],
   "metadata": {
    "collapsed": false,
    "pycharm": {
     "name": "#%% md\n"
    }
   }
  },
  {
   "cell_type": "code",
   "execution_count": null,
   "outputs": [],
   "source": [
    "df_sota = pd.read_csv('./Monash_forecasting_SOTA_results.csv')"
   ],
   "metadata": {
    "collapsed": false,
    "pycharm": {
     "name": "#%%\n"
    }
   }
  },
  {
   "cell_type": "code",
   "execution_count": null,
   "outputs": [],
   "source": [
    "df_sota"
   ],
   "metadata": {
    "collapsed": false,
    "pycharm": {
     "name": "#%%\n"
    }
   }
  },
  {
   "cell_type": "code",
   "execution_count": null,
   "outputs": [],
   "source": [],
   "metadata": {
    "collapsed": false,
    "pycharm": {
     "name": "#%%\n"
    }
   }
  }
 ],
 "metadata": {
  "kernelspec": {
   "display_name": "Python 3 (ipykernel)",
   "language": "python",
   "name": "python3"
  },
  "language_info": {
   "codemirror_mode": {
    "name": "ipython",
    "version": 3
   },
   "file_extension": ".py",
   "mimetype": "text/x-python",
   "name": "python",
   "nbconvert_exporter": "python",
   "pygments_lexer": "ipython3",
   "version": "3.8.1"
  }
 },
 "nbformat": 4,
 "nbformat_minor": 1
}